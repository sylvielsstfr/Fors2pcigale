{
 "cells": [
  {
   "cell_type": "markdown",
   "id": "c1747810-94ef-431b-906d-bb233d9758ed",
   "metadata": {},
   "source": [
    "# Access to Fors2 Spectra and calculate number of photons / photoemectrons\n",
    "\n",
    "Spectra in observation frame\n",
    "\n",
    "- author : Sylvie Dagoret-Campagne\n",
    "- affiliation : IJCLab/IN2P3/CNRS\n",
    "- creation date : 2024/02/14\n",
    "- update : 2024/02/14\n",
    "\n",
    "\n",
    "Want to generate fits file from the spectrum such emission lines are found by GELATO\n"
   ]
  },
  {
   "cell_type": "code",
   "execution_count": null,
   "id": "5fc0d4e0-67e3-4185-a7ef-0ed2f24b46f6",
   "metadata": {},
   "outputs": [],
   "source": [
    "import h5py\n",
    "import pandas as pd\n",
    "import numpy as np\n",
    "import os\n",
    "import re\n",
    "from astropy.io import fits\n",
    "from astropy.table import Table\n",
    "import matplotlib as mpl\n",
    "import matplotlib.pyplot as plt\n",
    "#%matplotlib inline\n",
    "%matplotlib ipympl\n",
    "import matplotlib.colors as colors\n",
    "import matplotlib.cm as cmx\n",
    "import collections\n",
    "from collections import OrderedDict\n",
    "import re\n",
    "import matplotlib.gridspec as gridspec\n",
    "from sklearn.gaussian_process import GaussianProcessRegressor, kernels\n",
    "import matplotlib.gridspec as gridspec\n",
    "from mpl_toolkits.axes_grid1.inset_locator import inset_axes\n",
    "\n",
    "from astropy.table import Table"
   ]
  },
  {
   "cell_type": "code",
   "execution_count": null,
   "id": "48176b94-f619-423e-9323-c4f12bc6bdfa",
   "metadata": {},
   "outputs": [],
   "source": [
    "plt.rcParams[\"figure.figsize\"] = (12,6)\n",
    "plt.rcParams[\"axes.labelsize\"] = 'xx-large'\n",
    "plt.rcParams['axes.titlesize'] = 'xx-large'\n",
    "plt.rcParams['xtick.labelsize']= 'xx-large'\n",
    "plt.rcParams['ytick.labelsize']= 'xx-large'"
   ]
  },
  {
   "cell_type": "code",
   "execution_count": null,
   "id": "3d722e44-ae54-426c-a021-78363a23d019",
   "metadata": {},
   "outputs": [],
   "source": [
    "#from sedpy import observate\n",
    "# get magnitude from a spectrum:\n"
   ]
  },
  {
   "cell_type": "code",
   "execution_count": null,
   "id": "24614c3c-eb9b-41d7-89a3-2ec4658403d8",
   "metadata": {},
   "outputs": [],
   "source": [
    "from sedpy import observate\n",
    "from fors2pcigale.filters import FilterInfo"
   ]
  },
  {
   "cell_type": "code",
   "execution_count": null,
   "id": "cfbc4c68-fb60-4c10-b1c5-c04db1c62fb3",
   "metadata": {},
   "outputs": [],
   "source": [
    "from fors2pcigale.fors2starlightio import Fors2DataAcess\n",
    "from fors2pcigale.utils.utils_stat import weighted_mean, weighted_variance"
   ]
  },
  {
   "cell_type": "code",
   "execution_count": null,
   "id": "e9f06840-9a2e-4c45-9581-b66f976f3a21",
   "metadata": {},
   "outputs": [],
   "source": [
    "from sklearn.gaussian_process import GaussianProcessRegressor, kernels"
   ]
  },
  {
   "cell_type": "code",
   "execution_count": null,
   "id": "e66df456-7bde-4f79-9bdb-a524d0480943",
   "metadata": {},
   "outputs": [],
   "source": [
    "Lyman_lines = [1220., 1030. ,973.,950., 938., 930.]\n",
    "Balmer_lines = [6562.791,4861.351,4340.4721,4101.740,3970.072,3889.0641,3835.3971]\n",
    "Paschen_lines = [8750., 12820., 10938.0,10050., 9546.2, 9229.7,9015.3, 8862.89,8750.46,8665.02]\n",
    "Brackett_lines = [40522.79, 26258.71, 21661.178, 19440., 18179.21]\n",
    "Pfund_lines = [ 74599.0, 46537.8, 37405.76 , 32969.8, 30400.]\n",
    "all_Hydrogen_lines = [ Lyman_lines, Balmer_lines, Paschen_lines, Brackett_lines, Pfund_lines]\n",
    "Color_lines = [\"purple\", \"blue\", \"green\", \"red\",\"grey\"]\n",
    "Balmer_thres = 3645.6\n",
    "Lyman_thres = 911.267\n",
    "Paschen_thres = 8200.\n",
    "Brackett_thres = 14580.\n",
    "Pfund_lines = 22800.\n",
    "all_Hydrogen_thres = [Lyman_thres , Balmer_thres, Paschen_thres, Brackett_thres, Pfund_lines]\n"
   ]
  },
  {
   "cell_type": "code",
   "execution_count": null,
   "id": "e4705583-4754-4d18-9404-f6cb01a7382b",
   "metadata": {},
   "outputs": [],
   "source": [
    "D4000_red = [4050.,4250] \n",
    "D4000_blue = [3750.,3950.]\n",
    "W_BALMER = [Balmer_thres, Balmer_lines[0]]\n",
    "W_LYMAN = [Lyman_thres, Lyman_lines[0]]"
   ]
  },
  {
   "cell_type": "code",
   "execution_count": null,
   "id": "4096806a-af89-4cfb-97a7-3dbb1a30aa12",
   "metadata": {},
   "outputs": [],
   "source": [
    "def plot_hydrogen_lines(ax):\n",
    "    nth = len(all_Hydrogen_thres)\n",
    "    for idx,group_lines in enumerate(all_Hydrogen_lines):\n",
    "        # select only Lyman and Balmer\n",
    "        if idx<2:\n",
    "            color = Color_lines[idx]\n",
    "            for wl_line in group_lines:\n",
    "                ax.axvline(wl_line,color=color,lw=0.5)\n",
    "            if idx< nth:\n",
    "                ax.axvline(all_Hydrogen_thres[idx],color=color,linestyle=\":\")\n",
    "    ax.axvspan(W_LYMAN[0],W_LYMAN[1],facecolor='purple', alpha=0.5)\n",
    "    ax.axvspan(W_BALMER[0],W_BALMER[1],facecolor='green', alpha=0.2)"
   ]
  },
  {
   "cell_type": "code",
   "execution_count": null,
   "id": "224cc6d3-971d-4e9f-91c0-84f18592bbf5",
   "metadata": {},
   "outputs": [],
   "source": [
    "def plot_hydrogen_lines_redshift(ax,z):\n",
    "    nth = len(all_Hydrogen_thres)\n",
    "    for idx,group_lines in enumerate(all_Hydrogen_lines):\n",
    "        # select only Lyman and Balmer\n",
    "        if idx<2:\n",
    "            color = Color_lines[idx]\n",
    "            for wl_line in group_lines:\n",
    "                ax.axvline(wl_line*(1+z),color=color,lw=2)\n",
    "            if idx< nth:\n",
    "                ax.axvline(all_Hydrogen_thres[idx]*(1+z),color=color,linestyle=\"-\",lw=2)\n",
    "    ax.axvspan(W_LYMAN[0]*(1+z),W_LYMAN[1]*(1+z),facecolor='purple', alpha=0.5)\n",
    "    ax.axvspan(W_BALMER[0]*(1+z),W_BALMER[1]*(1+z),facecolor='green', alpha=0.2)"
   ]
  },
  {
   "cell_type": "code",
   "execution_count": null,
   "id": "691a7bfb-01f8-4854-b114-df4b987b7151",
   "metadata": {},
   "outputs": [],
   "source": [
    "def generate_spectrum_table(wl, flx, errors):\n",
    "    \"\"\"\n",
    "    Parameters\n",
    "      wl : wavelength in angstrom\n",
    "      flx : Flux in FLAM\n",
    "      errors : statistical errors on spectra\n",
    "\n",
    "    Return:\n",
    "       astropy table for GETATO having columns\n",
    "       with the following columns and column names:\n",
    "\n",
    "       - The log10 of the wavelengths in Angstroms, column name: \"loglam\"\n",
    "       - The spectral flux density in flam units, column name: \"flux\"\n",
    "       - The inverse variances of the data points, column name: \"ivar\"\n",
    "\n",
    "    \"\"\"\n",
    "\n",
    "\n",
    "    loglam = np.log10(wl)\n",
    "    flux = flx\n",
    "    ivar = 1./errors**2\n",
    "\n",
    "    t = Table([loglam, flux, ivar], names=('loglam', 'flux', 'ivar'))\n",
    "\n",
    "    return t"
   ]
  },
  {
   "cell_type": "markdown",
   "id": "3a8c8bd4-d6e0-4853-af9c-26a866c112a2",
   "metadata": {},
   "source": [
    "## Configuration"
   ]
  },
  {
   "cell_type": "code",
   "execution_count": null,
   "id": "e852e97d-c578-4e45-8abf-33f1c293193d",
   "metadata": {},
   "outputs": [],
   "source": [
    "bad_spectra_list = [\"SPEC183\"]"
   ]
  },
  {
   "cell_type": "markdown",
   "id": "ba0ed0dd-97b7-4708-8538-59dd7035d9ba",
   "metadata": {},
   "source": [
    "## Init"
   ]
  },
  {
   "cell_type": "markdown",
   "id": "b049c9ef-b075-49ca-95a4-3c118cea489f",
   "metadata": {},
   "source": [
    "### Gaussian process"
   ]
  },
  {
   "cell_type": "code",
   "execution_count": null,
   "id": "6708a114-2ba8-43ad-bf70-772fe7d14cd7",
   "metadata": {},
   "outputs": [],
   "source": [
    "kernel = kernels.RBF(0.5, (5, 10000.0))\n",
    "gpr = GaussianProcessRegressor(kernel=kernel ,random_state=0)"
   ]
  },
  {
   "cell_type": "markdown",
   "id": "c7c6adb5-aeff-4df4-8a13-98918e0dcc3f",
   "metadata": {},
   "source": [
    "### Filters"
   ]
  },
  {
   "cell_type": "code",
   "execution_count": null,
   "id": "6a2a58ac-44ac-483f-9d07-5a71c5e78404",
   "metadata": {},
   "outputs": [],
   "source": [
    "ps = FilterInfo()\n",
    "ps.dump()"
   ]
  },
  {
   "cell_type": "markdown",
   "id": "d025e648-139f-4669-b0c5-7b515997bd34",
   "metadata": {},
   "source": [
    "### Init data"
   ]
  },
  {
   "cell_type": "code",
   "execution_count": null,
   "id": "b19069a8-e610-46d9-b7b5-432d9c970bce",
   "metadata": {},
   "outputs": [],
   "source": [
    "fors2 = Fors2DataAcess()"
   ]
  },
  {
   "cell_type": "code",
   "execution_count": null,
   "id": "205f3b05-e332-457e-b41b-d13c919a638b",
   "metadata": {},
   "outputs": [],
   "source": [
    "#fors2.plot_allspectra()"
   ]
  },
  {
   "cell_type": "code",
   "execution_count": null,
   "id": "c3dd1448-2e0a-4501-b659-289562fb836b",
   "metadata": {},
   "outputs": [],
   "source": [
    "fors2_tags = fors2.get_list_of_groupkeys()\n",
    "len(fors2_tags)"
   ]
  },
  {
   "cell_type": "code",
   "execution_count": null,
   "id": "298f66a5-c424-4f28-8723-5e901c4511f1",
   "metadata": {},
   "outputs": [],
   "source": [
    "list_of_fors2_attributes = fors2.get_list_subgroup_keys()\n",
    "print(list_of_fors2_attributes)"
   ]
  },
  {
   "cell_type": "markdown",
   "id": "ed620393-10a6-4db0-b1d4-e0a23d019e3a",
   "metadata": {},
   "source": [
    "## Loop to plot spectra in observation frame\n",
    "\n",
    "Plot of $F_\\lambda(\\lambda)$ in FLAM (erg/cm2/s/AA) units"
   ]
  },
  {
   "cell_type": "code",
   "execution_count": null,
   "id": "a193c105-fff7-4db2-af5f-5d6a0b14e8cb",
   "metadata": {},
   "outputs": [],
   "source": [
    "bwr_map = plt.get_cmap('bwr')\n",
    "reversed_map = bwr_map.reversed() \n",
    "cNorm = colors.Normalize(0., vmax=1.)\n",
    "scalarMap = cmx.ScalarMappable(norm=cNorm, cmap=bwr_map)"
   ]
  },
  {
   "cell_type": "code",
   "execution_count": null,
   "id": "17787ffa-82ef-4ad1-bf38-cc8963c8f7f5",
   "metadata": {},
   "outputs": [],
   "source": [
    "h = 6.6261e-27 # erg.s\n",
    "c = 2.9979e10 # cm\n",
    "hc = h*c   # erg.s.cm\n",
    "hc"
   ]
  },
  {
   "cell_type": "code",
   "execution_count": null,
   "id": "0064d1f9-3223-44e8-aa37-92cc85983090",
   "metadata": {},
   "outputs": [],
   "source": [
    "# boundaries of histos\n",
    "WLMIN = np.arange(4500.,9500.,500.)\n",
    "WLMAX = WLMIN+500.\n",
    "NH = len(WLMIN)"
   ]
  },
  {
   "cell_type": "code",
   "execution_count": null,
   "id": "b7f00861-49d6-45d7-8076-320ebc8e528a",
   "metadata": {},
   "outputs": [],
   "source": [
    "# dictionnary of hists\n",
    "d = {}\n",
    "# loop on spectra\n",
    "for specname in fors2_tags:  \n",
    "\n",
    "    if specname in bad_spectra_list:\n",
    "        print(f\">>>> SKIP spectrum {specname} which is in list of bad spectra\")\n",
    "        continue\n",
    "\n",
    "    # empty counters\n",
    "    all_counters = []\n",
    "    for idx in range(NH):\n",
    "        all_counters.append(np.array([]))\n",
    "           \n",
    "\n",
    "    #spectrum_fits_table_out = f\"specgelato_{specname}.fits\"\n",
    "    # retrieve generic info on the spectrum\n",
    "    attr = fors2.getattribdata_fromgroup(specname)\n",
    "    #print(attr)\n",
    "    redshift = attr['redshift']\n",
    "    lines = attr['lines']\n",
    "    the_color = scalarMap.to_rgba(redshift, alpha=1)\n",
    "    the_dict_sed =  fors2.getspectrum_fromgroup(specname)\n",
    "    wl = the_dict_sed[\"wl\"] \n",
    "    fl = the_dict_sed[\"fl\"] \n",
    "\n",
    "    #########################################\n",
    "    # calibrate flux in FLAM (erg/s/cm2/AA)\n",
    "    ###########################################\n",
    "    try:\n",
    "        factor_mean,factor_err  = fors2.get_calibrationfactor(specname)\n",
    "    except Exception as error:\n",
    "        print(f\"EXCEPTION {error}\")\n",
    "        continue\n",
    "    \n",
    "    factor_relerr = factor_err/factor_mean\n",
    "    #print(specname,f\"Fors2IO : CALIBRATION FACTOR = {factor_mean:.4f} +/- {factor_err:.4f} ({factor_relerr:.4f})\") \n",
    "    \n",
    "    #########################################\n",
    "    # multiply flux by the calibration factor\n",
    "    #########################################\n",
    "    fl*= factor_mean\n",
    "\n",
    "\n",
    "    #########################################\n",
    "    # calculate number of photons at TOA (nb photons/cm2/AA)\n",
    "    ##########################################\n",
    "    # just need to divide by hc/lambda, the energy per photon at that wavelength lambda\n",
    "    \n",
    "    nphot_rate = fl/hc*(wl*1e-10) \n",
    "\n",
    "    \n",
    "    ymax = nphot_rate.max()\n",
    "    print(f\"ymax = {ymax:.4g} photons/cm2/s/AA\")\n",
    "\n",
    "\n",
    "    ##########################################################\n",
    "    # Estimate some kind of background with gaussian process\n",
    "    ##########################################################\n",
    "\n",
    "    X = wl\n",
    "    Y = nphot_rate\n",
    "    \n",
    "    gpr.fit(X[:, None], Y)\n",
    "    Yfit = gpr.predict(X[:, None], return_std=False)\n",
    "    Z = Y - Yfit\n",
    "    # but Yerr is wrong\n",
    "    #Yerr = np.abs(Yerr)\n",
    "\n",
    "    gpr.fit(X[:, None],np.abs(Z))\n",
    "    Yfit2 = gpr.predict(X[:, None], return_std=False)\n",
    "\n",
    "\n",
    "    ######################################\n",
    "    # Fill histo\n",
    "    #\n",
    "    ##########################################\n",
    "    all_histos = []\n",
    "    for idx in range(NH):\n",
    "        index_sel = np.where(np.logical_and(wl>=WLMIN[idx],wl<WLMAX[idx]))[0]\n",
    "        all_histos.append(Yfit2[index_sel])\n",
    "    d[specname] = all_histos \n",
    "        \n",
    "            \n",
    "    ################################\n",
    "    # Plot the figures, fig1,fi2,fig3\n",
    "    #################################\n",
    "    fig = plt.figure(constrained_layout=True,figsize=(12,8))\n",
    "    #fig = plt.figure(figsize=(12,6))\n",
    "\n",
    "    gs = gridspec.GridSpec(nrows=4, ncols=1, height_ratios=[3,3,3,1],hspace=0)\n",
    "\n",
    "    ax1 = fig.add_subplot(gs[0])\n",
    "\n",
    "    ax1.plot(wl,nphot_rate,'-',color=the_color)\n",
    "    ax1.plot(wl,Yfit,'-',color=\"k\",lw=3)\n",
    "    ax1.fill_between(wl, Yfit-Yfit2, Yfit+Yfit2,facecolor=\"orange\",edgecolor=\"k\",alpha=0.8)\n",
    "    title = f\"{specname}, z={redshift:.2f}, lines = {lines}\"\n",
    "    ax1.set_title(title)\n",
    "    ax1.axvline(wl.min(),color=\"k\")\n",
    "    ax1.axvline(wl.max(),color=\"k\")\n",
    "    ax1.set_xlim(4000.,10000.)\n",
    "    ax1.set_ylim(0.,ymax)\n",
    "    ax1.set_xlabel(\"$\\lambda (\\\\AA)$\")\n",
    "    ax1.set_ylabel(\"$n_\\gamma(\\lambda) ( /cm^2/s/\\\\AA)$\")\n",
    "    ax1.grid()\n",
    "    plot_hydrogen_lines_redshift(ax1,redshift)\n",
    "\n",
    "\n",
    "\n",
    "\n",
    "    ax3 = fig.add_subplot(gs[1], sharex=ax1)  \n",
    "    ax3.plot(wl,Z,'b-',lw=0.5)\n",
    "    ax3.axvline(wl.min(),color=\"k\")\n",
    "    ax3.axvline(wl.max(),color=\"k\")\n",
    "    ax3.fill_between(wl, -Yfit2, +Yfit2,facecolor=\"grey\",edgecolor=\"k\",alpha=0.5)\n",
    "    ax3.set_ylabel(\"$\\sigma (n_\\gamma)$\")\n",
    "    ax3.grid()\n",
    "\n",
    "\n",
    "    ne = (Y/Yfit2)**2\n",
    "    ax4 = fig.add_subplot(gs[2], sharex=ax1)  \n",
    "    ax4.plot(wl,ne,\"-\",color=\"grey\",lw=0.5)\n",
    "    ax4.errorbar(wl,ne,yerr=np.sqrt(ne),fmt='.',color=\"b\",ecolor=\"grey\")\n",
    "    ax4.axvline(wl.min(),color=\"k\")\n",
    "    ax4.axvline(wl.max(),color=\"k\")\n",
    "    ax4.set_ylim(0.,300.)\n",
    "    ax4.set_ylabel(\"Ne\")\n",
    "    ax4.grid()\n",
    "   \n",
    "\n",
    "\n",
    "    \n",
    "    ax2 = fig.add_subplot(gs[3], sharex=ax1)  \n",
    "    plt.setp(ax2.get_yticklabels(), visible=False)\n",
    "    ##################\n",
    "    # loop on filters\n",
    "    ####################\n",
    "    for index in ps.filters_indexlist:\n",
    "        the_name = ps.filters_namelist[index]\n",
    "        the_filt = ps.filters_transmissionlist[index]\n",
    "        the_norm = ps.filters_transmissionnormlist[index]\n",
    "        the_wlmean = the_filt.wave_mean\n",
    "        the_color = ps.filters_colorlist[index]\n",
    "        the_transmission =the_filt.transmission/the_norm\n",
    "        ax2.plot(the_filt.wavelength,the_transmission,color=the_color)\n",
    "\n",
    "        if index%2 ==0:\n",
    "            ax2.text(the_wlmean, 0.7, the_name,horizontalalignment='center',verticalalignment='center',color=the_color,fontweight=\"bold\")\n",
    "        else:\n",
    "            ax2.text(the_wlmean, 0.85, the_name,horizontalalignment='center',verticalalignment='center',color=the_color,fontweight=\"bold\")\n",
    "    ax2.axvline(wl.min(),color=\"k\")\n",
    "    ax2.axvline(wl.max(),color=\"k\")\n",
    "    ax2.grid()\n",
    "    __=ax2.set_ylim(0.,1.)\n",
    "  \n",
    "    axins1 = inset_axes(ax1,\n",
    "                    width=\"50%\",  # width = 50% of parent_bbox width\n",
    "                    height=\"5%\",  # height : 5%\n",
    "                    loc='upper right')\n",
    "    \n",
    "    cbar=fig.colorbar(scalarMap , cax=axins1,orientation='horizontal')\n",
    "    cbar.ax.set_xlabel('redshift')\n",
    "    #fig.colorbar(im1, cax=axins1, orientation=\"horizontal\", ticks=[1, 2, 3])\n",
    "    #axins1.xaxis.set_ticks_position(\"bottom\")\n",
    "\n",
    "    plt.show()\n",
    "\n",
    "    ########################\n",
    "    # generate the table\n",
    "    ##########################\n",
    "    #t = generate_spectrum_table(wl,fl, Yfit2)\n",
    "    #t.write(spectrum_fits_table_out, format=\"fits\")\n",
    "\n",
    "   "
   ]
  },
  {
   "cell_type": "code",
   "execution_count": null,
   "id": "1abf2c3f-ec80-414f-818f-351b0cdefa78",
   "metadata": {},
   "outputs": [],
   "source": [
    "def plothist(specname,all_data):\n",
    "    fig,(ax1,ax2,ax3) = plt.subplots(1,3,figsize=(12,3))\n",
    "    ax1.hist(all_data[0],bins=30)\n",
    "    ax2.hist(all_data[1],bins=30)\n",
    "    ax3.hist(all_data[2],bins=30)\n",
    "    plt.suptitle(specname)\n",
    "    plt.tight_layout()\n",
    "    plt.show()\n"
   ]
  },
  {
   "cell_type": "code",
   "execution_count": null,
   "id": "c6ed15db-a0d2-478d-aa24-7d56842d65bf",
   "metadata": {},
   "outputs": [],
   "source": [
    "d['SPEC3']"
   ]
  },
  {
   "cell_type": "code",
   "execution_count": null,
   "id": "ac95155e-e73b-4ff9-8168-ae367f9e000c",
   "metadata": {},
   "outputs": [],
   "source": [
    "for specname in fors2_tags:   \n",
    "    plothist(specname,d[specname])"
   ]
  },
  {
   "cell_type": "code",
   "execution_count": null,
   "id": "0791b52a-4bb0-4d52-9df5-996693d09f1c",
   "metadata": {},
   "outputs": [],
   "source": [
    "!ls"
   ]
  },
  {
   "cell_type": "code",
   "execution_count": null,
   "id": "815c49f4-e001-4d6e-b105-554683e9cdec",
   "metadata": {},
   "outputs": [],
   "source": []
  }
 ],
 "metadata": {
  "kernelspec": {
   "display_name": "pcigale",
   "language": "python",
   "name": "pcigale"
  },
  "language_info": {
   "codemirror_mode": {
    "name": "ipython",
    "version": 3
   },
   "file_extension": ".py",
   "mimetype": "text/x-python",
   "name": "python",
   "nbconvert_exporter": "python",
   "pygments_lexer": "ipython3",
   "version": "3.10.13"
  }
 },
 "nbformat": 4,
 "nbformat_minor": 5
}

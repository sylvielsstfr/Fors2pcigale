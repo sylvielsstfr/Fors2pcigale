{
 "cells": [
  {
   "cell_type": "markdown",
   "id": "c1747810-94ef-431b-906d-bb233d9758ed",
   "metadata": {},
   "source": [
    "# Access to Fors2 Spectra and compare with filters\n",
    "\n",
    "Spectra in observation frame\n",
    "\n",
    "- author : Sylvie Dagoret-Campagne\n",
    "- affiliation : IJCLab/IN2P3/CNRS\n",
    "- creation date : 2024/02/09\n",
    "- update : 2024/02/11\n",
    "\n",
    "The purpose is to recalibrate redshift by emission line\n",
    "\n",
    "The first goal is to find in which frame (rest or observation) the Fors2 spectra are.\n",
    "This guess is tested against the tabulated resdhift."
   ]
  },
  {
   "cell_type": "code",
   "execution_count": null,
   "id": "5fc0d4e0-67e3-4185-a7ef-0ed2f24b46f6",
   "metadata": {},
   "outputs": [],
   "source": [
    "import h5py\n",
    "import pandas as pd\n",
    "import numpy as np\n",
    "import os\n",
    "import re\n",
    "from astropy.io import fits\n",
    "from astropy.table import Table\n",
    "import matplotlib as mpl\n",
    "import matplotlib.pyplot as plt\n",
    "#%matplotlib inline\n",
    "%matplotlib ipympl\n",
    "import matplotlib.colors as colors\n",
    "import matplotlib.cm as cmx\n",
    "import collections\n",
    "from collections import OrderedDict\n",
    "import re\n",
    "import matplotlib.gridspec as gridspec\n",
    "from sklearn.gaussian_process import GaussianProcessRegressor, kernels\n",
    "import matplotlib.gridspec as gridspec\n",
    "from mpl_toolkits.axes_grid1.inset_locator import inset_axes"
   ]
  },
  {
   "cell_type": "code",
   "execution_count": null,
   "id": "48176b94-f619-423e-9323-c4f12bc6bdfa",
   "metadata": {},
   "outputs": [],
   "source": [
    "plt.rcParams[\"figure.figsize\"] = (12,6)\n",
    "plt.rcParams[\"axes.labelsize\"] = 'xx-large'\n",
    "plt.rcParams['axes.titlesize'] = 'xx-large'\n",
    "plt.rcParams['xtick.labelsize']= 'xx-large'\n",
    "plt.rcParams['ytick.labelsize']= 'xx-large'"
   ]
  },
  {
   "cell_type": "code",
   "execution_count": null,
   "id": "3d722e44-ae54-426c-a021-78363a23d019",
   "metadata": {},
   "outputs": [],
   "source": [
    "from sedpy import observate\n",
    "# get magnitude from a spectrum:\n"
   ]
  },
  {
   "cell_type": "code",
   "execution_count": null,
   "id": "24614c3c-eb9b-41d7-89a3-2ec4658403d8",
   "metadata": {},
   "outputs": [],
   "source": [
    "from sedpy import observate\n",
    "from fors2pcigale.filters import FilterInfo"
   ]
  },
  {
   "cell_type": "code",
   "execution_count": null,
   "id": "cfbc4c68-fb60-4c10-b1c5-c04db1c62fb3",
   "metadata": {},
   "outputs": [],
   "source": [
    "from fors2pcigale.fors2starlightio import Fors2DataAcess\n",
    "from fors2pcigale.utils.utils_stat import weighted_mean, weighted_variance"
   ]
  },
  {
   "cell_type": "code",
   "execution_count": null,
   "id": "e66df456-7bde-4f79-9bdb-a524d0480943",
   "metadata": {},
   "outputs": [],
   "source": [
    "Lyman_lines = [1220., 1030. ,973.,950., 938., 930.]\n",
    "Balmer_lines = [6562.791,4861.351,4340.4721,4101.740,3970.072,3889.0641,3835.3971]\n",
    "Paschen_lines = [8750., 12820., 10938.0,10050., 9546.2, 9229.7,9015.3, 8862.89,8750.46,8665.02]\n",
    "Brackett_lines = [40522.79, 26258.71, 21661.178, 19440., 18179.21]\n",
    "Pfund_lines = [ 74599.0, 46537.8, 37405.76 , 32969.8, 30400.]\n",
    "all_Hydrogen_lines = [ Lyman_lines, Balmer_lines, Paschen_lines, Brackett_lines, Pfund_lines]\n",
    "Color_lines = [\"purple\", \"blue\", \"green\", \"red\",\"grey\"]\n",
    "Balmer_thres = 3645.6\n",
    "Lyman_thres = 911.267\n",
    "Paschen_thres = 8200.\n",
    "Brackett_thres = 14580.\n",
    "Pfund_lines = 22800.\n",
    "all_Hydrogen_thres = [Lyman_thres , Balmer_thres, Paschen_thres, Brackett_thres, Pfund_lines]\n"
   ]
  },
  {
   "cell_type": "code",
   "execution_count": null,
   "id": "e4705583-4754-4d18-9404-f6cb01a7382b",
   "metadata": {},
   "outputs": [],
   "source": [
    "D4000_red = [4050.,4250] \n",
    "D4000_blue = [3750.,3950.]\n",
    "W_BALMER = [Balmer_thres, Balmer_lines[0]]\n",
    "W_LYMAN = [Lyman_thres, Lyman_lines[0]]"
   ]
  },
  {
   "cell_type": "code",
   "execution_count": null,
   "id": "4096806a-af89-4cfb-97a7-3dbb1a30aa12",
   "metadata": {},
   "outputs": [],
   "source": [
    "def plot_hydrogen_lines(ax):\n",
    "    nth = len(all_Hydrogen_thres)\n",
    "    for idx,group_lines in enumerate(all_Hydrogen_lines):\n",
    "        # select only Lyman and Balmer\n",
    "        if idx<2:\n",
    "            color = Color_lines[idx]\n",
    "            for wl_line in group_lines:\n",
    "                ax.axvline(wl_line,color=color,lw=0.5)\n",
    "            if idx< nth:\n",
    "                ax.axvline(all_Hydrogen_thres[idx],color=color,linestyle=\":\")\n",
    "    ax.axvspan(W_LYMAN[0],W_LYMAN[1],facecolor='purple', alpha=0.5)\n",
    "    ax.axvspan(W_BALMER[0],W_BALMER[1],facecolor='green', alpha=0.2)"
   ]
  },
  {
   "cell_type": "code",
   "execution_count": null,
   "id": "224cc6d3-971d-4e9f-91c0-84f18592bbf5",
   "metadata": {},
   "outputs": [],
   "source": [
    "def plot_hydrogen_lines_redshift(ax,z):\n",
    "    nth = len(all_Hydrogen_thres)\n",
    "    for idx,group_lines in enumerate(all_Hydrogen_lines):\n",
    "        # select only Lyman and Balmer\n",
    "        if idx<2:\n",
    "            color = Color_lines[idx]\n",
    "            for wl_line in group_lines:\n",
    "                ax.axvline(wl_line*(1+z),color=color,lw=2)\n",
    "            if idx< nth:\n",
    "                ax.axvline(all_Hydrogen_thres[idx]*(1+z),color=color,linestyle=\"-\",lw=2)\n",
    "    ax.axvspan(W_LYMAN[0]*(1+z),W_LYMAN[1]*(1+z),facecolor='purple', alpha=0.5)\n",
    "    ax.axvspan(W_BALMER[0]*(1+z),W_BALMER[1]*(1+z),facecolor='green', alpha=0.2)"
   ]
  },
  {
   "cell_type": "markdown",
   "id": "ba0ed0dd-97b7-4708-8538-59dd7035d9ba",
   "metadata": {},
   "source": [
    "## Init"
   ]
  },
  {
   "cell_type": "markdown",
   "id": "c7c6adb5-aeff-4df4-8a13-98918e0dcc3f",
   "metadata": {},
   "source": [
    "### Filters"
   ]
  },
  {
   "cell_type": "code",
   "execution_count": null,
   "id": "6a2a58ac-44ac-483f-9d07-5a71c5e78404",
   "metadata": {},
   "outputs": [],
   "source": [
    "ps = FilterInfo()\n",
    "ps.dump()"
   ]
  },
  {
   "cell_type": "code",
   "execution_count": null,
   "id": "fccf911c-6cec-45b8-8e24-b3fe811d468b",
   "metadata": {},
   "outputs": [],
   "source": [
    "filt = observate.Filter(\"sdss_i0\")"
   ]
  },
  {
   "cell_type": "code",
   "execution_count": null,
   "id": "d6495494-1ba9-4d67-9333-5ca7c91053ba",
   "metadata": {},
   "outputs": [],
   "source": [
    "fig,ax = plt.subplots(figsize=(4,3))\n",
    "ax.plot(filt.wavelength,filt.transmission,'b-')\n",
    "indexes = np.where(filt.transmission>0.02)[0]\n",
    "ax.axvline(filt.wavelength[indexes].min(),color=\"k\")\n",
    "ax.axvline(filt.wavelength[indexes].max(),color=\"k\")\n",
    "plt.show()"
   ]
  },
  {
   "cell_type": "markdown",
   "id": "d025e648-139f-4669-b0c5-7b515997bd34",
   "metadata": {},
   "source": [
    "### Init data"
   ]
  },
  {
   "cell_type": "code",
   "execution_count": null,
   "id": "b19069a8-e610-46d9-b7b5-432d9c970bce",
   "metadata": {},
   "outputs": [],
   "source": [
    "fors2 = Fors2DataAcess()"
   ]
  },
  {
   "cell_type": "code",
   "execution_count": null,
   "id": "205f3b05-e332-457e-b41b-d13c919a638b",
   "metadata": {},
   "outputs": [],
   "source": [
    "#fors2.plot_allspectra()"
   ]
  },
  {
   "cell_type": "code",
   "execution_count": null,
   "id": "c3dd1448-2e0a-4501-b659-289562fb836b",
   "metadata": {},
   "outputs": [],
   "source": [
    "fors2_tags = fors2.get_list_of_groupkeys()\n",
    "len(fors2_tags)"
   ]
  },
  {
   "cell_type": "code",
   "execution_count": null,
   "id": "298f66a5-c424-4f28-8723-5e901c4511f1",
   "metadata": {},
   "outputs": [],
   "source": [
    "list_of_fors2_attributes = fors2.get_list_subgroup_keys()\n",
    "print(list_of_fors2_attributes)"
   ]
  },
  {
   "cell_type": "markdown",
   "id": "ed620393-10a6-4db0-b1d4-e0a23d019e3a",
   "metadata": {},
   "source": [
    "## Loop to plot spectra in observation frame\n",
    "\n",
    "Plot of $F_\\lambda(\\lambda)$ in FLAM (erg/cm2/s/AA) units"
   ]
  },
  {
   "cell_type": "code",
   "execution_count": null,
   "id": "a193c105-fff7-4db2-af5f-5d6a0b14e8cb",
   "metadata": {},
   "outputs": [],
   "source": [
    "bwr_map = plt.get_cmap('bwr')\n",
    "reversed_map = bwr_map.reversed() \n",
    "cNorm = colors.Normalize(0., vmax=1.)\n",
    "scalarMap = cmx.ScalarMappable(norm=cNorm, cmap=bwr_map)"
   ]
  },
  {
   "cell_type": "code",
   "execution_count": null,
   "id": "b7f00861-49d6-45d7-8076-320ebc8e528a",
   "metadata": {},
   "outputs": [],
   "source": [
    "for specname in fors2_tags:\n",
    "   \n",
    "    # retrieve generic info on the spectrum\n",
    "    attr = fors2.getattribdata_fromgroup(specname)\n",
    "    #print(attr)\n",
    "    redshift = attr['redshift']\n",
    "    lines = attr['lines']\n",
    "    the_color = scalarMap.to_rgba(redshift, alpha=1)\n",
    "    the_dict_sed =  fors2.getspectrum_fromgroup(specname)\n",
    "    wl = the_dict_sed[\"wl\"] \n",
    "    fl = the_dict_sed[\"fl\"] \n",
    "    # calibrate flux in FLAM (erg/s/cm2/AA)\n",
    "    #factor_mean,factor_err  = fors2.get_calibrationfactor(specname)\n",
    "    #factor_relerr = factor_err/factor_mean\n",
    "    #print(specname,f\"Fors2IO : CALIBRATION FACTOR = {factor_mean:.4f} +/- {factor_err:.4f} ({factor_relerr:.4f})\") \n",
    "    # multiply flux by the calibration factor\n",
    "    #fl*= factor_mean\n",
    "    \n",
    "    ymax = fl.max()\n",
    "\n",
    "    fig = plt.figure(constrained_layout=True,figsize=(12,4))\n",
    "    #fig = plt.figure(figsize=(12,6))\n",
    "\n",
    "    gs = gridspec.GridSpec(nrows=2, ncols=1, height_ratios=[3,1],hspace=0)\n",
    "\n",
    "    ax1 = fig.add_subplot(gs[0])\n",
    "\n",
    "    ax1.plot(wl,fl,'-',color=the_color)\n",
    "    title = f\"{specname}, z={redshift:.2f}, lines = {lines}\"\n",
    "    ax1.set_title(title)\n",
    "    ax1.axvline(wl.min(),color=\"k\")\n",
    "    ax1.axvline(wl.max(),color=\"k\")\n",
    "    ax1.set_xlim(4000.,10000.)\n",
    "    ax1.set_ylim(0.,ymax)\n",
    "    ax1.set_xlabel(\"$\\lambda (\\\\AA)$\")\n",
    "    #ax1.set_ylabel(\"$F_\\lambda(\\lambda) (erg/cm^2/s/\\\\AA)$\")\n",
    "    ax1.set_ylabel(\"$F_\\lambda(\\lambda) (AU)$\")\n",
    "    ax1.grid()\n",
    "    plot_hydrogen_lines_redshift(ax1,redshift)\n",
    "\n",
    "\n",
    "\n",
    "    ax2 = fig.add_subplot(gs[1], sharex=ax1)  \n",
    "    plt.setp(ax2.get_yticklabels(), visible=False)\n",
    "\n",
    "    # loop on filters\n",
    "    for index in ps.filters_indexlist:\n",
    "        the_name = ps.filters_namelist[index]\n",
    "        the_filt = ps.filters_transmissionlist[index]\n",
    "        the_norm = ps.filters_transmissionnormlist[index]\n",
    "        the_wlmean = the_filt.wave_mean\n",
    "        the_color = ps.filters_colorlist[index]\n",
    "        the_transmission =the_filt.transmission/the_norm\n",
    "        ax2.plot(the_filt.wavelength,the_transmission,color=the_color)\n",
    "\n",
    "        if index%2 ==0:\n",
    "            ax2.text(the_wlmean, 0.7, the_name,horizontalalignment='center',verticalalignment='center',color=the_color,fontweight=\"bold\")\n",
    "        else:\n",
    "            ax2.text(the_wlmean, 0.85, the_name,horizontalalignment='center',verticalalignment='center',color=the_color,fontweight=\"bold\")\n",
    "    ax2.axvline(wl.min(),color=\"k\")\n",
    "    ax2.axvline(wl.max(),color=\"k\")\n",
    "    ax2.grid()\n",
    "    __=ax2.set_ylim(0.,1.)\n",
    "  \n",
    "    axins1 = inset_axes(ax1,\n",
    "                    width=\"50%\",  # width = 50% of parent_bbox width\n",
    "                    height=\"5%\",  # height : 5%\n",
    "                    loc='upper right')\n",
    "    \n",
    "    cbar=fig.colorbar(scalarMap , cax=axins1,orientation='horizontal')\n",
    "    cbar.ax.set_xlabel('redshift')\n",
    "    #fig.colorbar(im1, cax=axins1, orientation=\"horizontal\", ticks=[1, 2, 3])\n",
    "    #axins1.xaxis.set_ticks_position(\"bottom\")\n",
    "\n",
    "    plt.show()\n",
    "    "
   ]
  },
  {
   "cell_type": "code",
   "execution_count": null,
   "id": "b0d9b47a-7be1-40ef-bbe4-e971743faa8f",
   "metadata": {},
   "outputs": [],
   "source": []
  }
 ],
 "metadata": {
  "kernelspec": {
   "display_name": "conda_desc_py310_pcigale",
   "language": "python",
   "name": "conda_desc_py310_pcigale"
  },
  "language_info": {
   "codemirror_mode": {
    "name": "ipython",
    "version": 3
   },
   "file_extension": ".py",
   "mimetype": "text/x-python",
   "name": "python",
   "nbconvert_exporter": "python",
   "pygments_lexer": "ipython3",
   "version": "3.10.14"
  }
 },
 "nbformat": 4,
 "nbformat_minor": 5
}

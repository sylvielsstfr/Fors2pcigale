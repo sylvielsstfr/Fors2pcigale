{
 "cells": [
  {
   "cell_type": "markdown",
   "id": "c1747810-94ef-431b-906d-bb233d9758ed",
   "metadata": {},
   "source": [
    "# Access to Fors2 Spectra and calculate background of baseline and generate a fits file for GELATO\n",
    "\n",
    "Spectra in observation frame\n",
    "\n",
    "- author : Sylvie Dagoret-Campagne\n",
    "- affiliation : IJCLab/IN2P3/CNRS\n",
    "- creation date : 2024/02/11\n",
    "- update : 2024/02/14\n",
    "\n",
    "\n",
    "Want to generate fits file from the spectrum such emission lines are found by GELATO\n"
   ]
  },
  {
   "cell_type": "code",
   "execution_count": null,
   "id": "5fc0d4e0-67e3-4185-a7ef-0ed2f24b46f6",
   "metadata": {},
   "outputs": [],
   "source": [
    "import h5py\n",
    "import pandas as pd\n",
    "import numpy as np\n",
    "import os\n",
    "import re\n",
    "from astropy.io import fits\n",
    "from astropy.table import Table\n",
    "import matplotlib as mpl\n",
    "import matplotlib.pyplot as plt\n",
    "#%matplotlib inline\n",
    "%matplotlib ipympl\n",
    "import matplotlib.colors as colors\n",
    "import matplotlib.cm as cmx\n",
    "import collections\n",
    "from collections import OrderedDict\n",
    "import re\n",
    "import matplotlib.gridspec as gridspec\n",
    "from sklearn.gaussian_process import GaussianProcessRegressor, kernels\n",
    "import matplotlib.gridspec as gridspec\n",
    "from mpl_toolkits.axes_grid1.inset_locator import inset_axes\n",
    "\n",
    "from astropy.table import Table"
   ]
  },
  {
   "cell_type": "code",
   "execution_count": null,
   "id": "48176b94-f619-423e-9323-c4f12bc6bdfa",
   "metadata": {},
   "outputs": [],
   "source": [
    "plt.rcParams[\"figure.figsize\"] = (12,6)\n",
    "plt.rcParams[\"axes.labelsize\"] = 'xx-large'\n",
    "plt.rcParams['axes.titlesize'] = 'xx-large'\n",
    "plt.rcParams['xtick.labelsize']= 'xx-large'\n",
    "plt.rcParams['ytick.labelsize']= 'xx-large'"
   ]
  },
  {
   "cell_type": "code",
   "execution_count": null,
   "id": "3d722e44-ae54-426c-a021-78363a23d019",
   "metadata": {},
   "outputs": [],
   "source": [
    "#from sedpy import observate\n",
    "# get magnitude from a spectrum:\n"
   ]
  },
  {
   "cell_type": "code",
   "execution_count": null,
   "id": "24614c3c-eb9b-41d7-89a3-2ec4658403d8",
   "metadata": {},
   "outputs": [],
   "source": [
    "from sedpy import observate\n",
    "from fors2pcigale.filters import FilterInfo"
   ]
  },
  {
   "cell_type": "code",
   "execution_count": null,
   "id": "cfbc4c68-fb60-4c10-b1c5-c04db1c62fb3",
   "metadata": {},
   "outputs": [],
   "source": [
    "from fors2pcigale.fors2starlightio import Fors2DataAcess\n",
    "from fors2pcigale.utils.utils_stat import weighted_mean, weighted_variance"
   ]
  },
  {
   "cell_type": "code",
   "execution_count": null,
   "id": "e9f06840-9a2e-4c45-9581-b66f976f3a21",
   "metadata": {},
   "outputs": [],
   "source": [
    "from sklearn.gaussian_process import GaussianProcessRegressor, kernels"
   ]
  },
  {
   "cell_type": "code",
   "execution_count": null,
   "id": "e66df456-7bde-4f79-9bdb-a524d0480943",
   "metadata": {},
   "outputs": [],
   "source": [
    "Lyman_lines = [1220., 1030. ,973.,950., 938., 930.]\n",
    "Balmer_lines = [6562.791,4861.351,4340.4721,4101.740,3970.072,3889.0641,3835.3971]\n",
    "Paschen_lines = [8750., 12820., 10938.0,10050., 9546.2, 9229.7,9015.3, 8862.89,8750.46,8665.02]\n",
    "Brackett_lines = [40522.79, 26258.71, 21661.178, 19440., 18179.21]\n",
    "Pfund_lines = [ 74599.0, 46537.8, 37405.76 , 32969.8, 30400.]\n",
    "all_Hydrogen_lines = [ Lyman_lines, Balmer_lines, Paschen_lines, Brackett_lines, Pfund_lines]\n",
    "Color_lines = [\"purple\", \"blue\", \"green\", \"red\",\"grey\"]\n",
    "Balmer_thres = 3645.6\n",
    "Lyman_thres = 911.267\n",
    "Paschen_thres = 8200.\n",
    "Brackett_thres = 14580.\n",
    "Pfund_lines = 22800.\n",
    "all_Hydrogen_thres = [Lyman_thres , Balmer_thres, Paschen_thres, Brackett_thres, Pfund_lines]\n"
   ]
  },
  {
   "cell_type": "code",
   "execution_count": null,
   "id": "e4705583-4754-4d18-9404-f6cb01a7382b",
   "metadata": {},
   "outputs": [],
   "source": [
    "D4000_red = [4050.,4250] \n",
    "D4000_blue = [3750.,3950.]\n",
    "W_BALMER = [Balmer_thres, Balmer_lines[0]]\n",
    "W_LYMAN = [Lyman_thres, Lyman_lines[0]]"
   ]
  },
  {
   "cell_type": "code",
   "execution_count": null,
   "id": "4096806a-af89-4cfb-97a7-3dbb1a30aa12",
   "metadata": {},
   "outputs": [],
   "source": [
    "def plot_hydrogen_lines(ax):\n",
    "    nth = len(all_Hydrogen_thres)\n",
    "    for idx,group_lines in enumerate(all_Hydrogen_lines):\n",
    "        # select only Lyman and Balmer\n",
    "        if idx<2:\n",
    "            color = Color_lines[idx]\n",
    "            for wl_line in group_lines:\n",
    "                ax.axvline(wl_line,color=color,lw=0.5)\n",
    "            if idx< nth:\n",
    "                ax.axvline(all_Hydrogen_thres[idx],color=color,linestyle=\":\")\n",
    "    ax.axvspan(W_LYMAN[0],W_LYMAN[1],facecolor='purple', alpha=0.5)\n",
    "    ax.axvspan(W_BALMER[0],W_BALMER[1],facecolor='green', alpha=0.2)"
   ]
  },
  {
   "cell_type": "code",
   "execution_count": null,
   "id": "224cc6d3-971d-4e9f-91c0-84f18592bbf5",
   "metadata": {},
   "outputs": [],
   "source": [
    "def plot_hydrogen_lines_redshift(ax,z):\n",
    "    nth = len(all_Hydrogen_thres)\n",
    "    for idx,group_lines in enumerate(all_Hydrogen_lines):\n",
    "        # select only Lyman and Balmer\n",
    "        if idx<2:\n",
    "            color = Color_lines[idx]\n",
    "            for wl_line in group_lines:\n",
    "                ax.axvline(wl_line*(1+z),color=color,lw=2)\n",
    "            if idx< nth:\n",
    "                ax.axvline(all_Hydrogen_thres[idx]*(1+z),color=color,linestyle=\"-\",lw=2)\n",
    "    ax.axvspan(W_LYMAN[0]*(1+z),W_LYMAN[1]*(1+z),facecolor='purple', alpha=0.5)\n",
    "    ax.axvspan(W_BALMER[0]*(1+z),W_BALMER[1]*(1+z),facecolor='green', alpha=0.2)"
   ]
  },
  {
   "cell_type": "code",
   "execution_count": null,
   "id": "691a7bfb-01f8-4854-b114-df4b987b7151",
   "metadata": {},
   "outputs": [],
   "source": [
    "def generate_spectrum_table(wl, flx, errors, version_table =\"v0\"):\n",
    "    \"\"\"\n",
    "    Parameters\n",
    "      wl : wavelength in angstrom\n",
    "      flx : Flux in FLAM\n",
    "      errors : statistical errors on spectra\n",
    "      version : version of the table format\n",
    "\n",
    "    Return:\n",
    "       astropy table for GETATO having columns\n",
    "       with the following columns and column names:\n",
    "\n",
    "       - The log10 of the wavelengths in Angstroms, column name: \"loglam\"\n",
    "       - The spectral flux density in flam units, column name: \"flux\"\n",
    "       - The inverse variances of the data points, column name: \"ivar\"\n",
    "\n",
    "    \"\"\"\n",
    "\n",
    "\n",
    "    loglam = np.log10(wl)\n",
    "    flux = flx\n",
    "    ivar = 1./errors**2\n",
    "    sig_flux = errors\n",
    "    ratio_nphe = (flux/sig_flux)**2  # should be related to the number of photoelectrons\n",
    "    \n",
    "\n",
    "    if version_table == \"v0\":\n",
    "        t = Table([loglam, flux, ivar], names=('loglam', 'flux', 'ivar'))\n",
    "    else:\n",
    "        t = Table([loglam, flux, ivar, sig_flux, ratio_nphe], names=('loglam', 'flux', 'ivar','sig_flux','ratio_nphe'))\n",
    "\n",
    "    return t"
   ]
  },
  {
   "cell_type": "markdown",
   "id": "e81804c6-1e49-49d7-bfc2-df4913997858",
   "metadata": {},
   "source": [
    "## Configuration\n",
    "\n",
    "- The spectrum SPEC183 is not valid (see png file)"
   ]
  },
  {
   "cell_type": "code",
   "execution_count": null,
   "id": "11c1bdaf-6fe7-41ae-802c-9791ce2b309b",
   "metadata": {},
   "outputs": [],
   "source": [
    "bad_spectra_list = [\"SPEC183\"]"
   ]
  },
  {
   "cell_type": "markdown",
   "id": "77d694bc-62e9-4c41-a5de-60119e36fcce",
   "metadata": {},
   "source": [
    "### Version of the Table format"
   ]
  },
  {
   "cell_type": "code",
   "execution_count": null,
   "id": "26309b61-e7d1-4219-aeb3-aa9f8826840a",
   "metadata": {},
   "outputs": [],
   "source": [
    "version_table = \"v1\""
   ]
  },
  {
   "cell_type": "markdown",
   "id": "cdbc5666-c92f-43ce-9473-f757563f72e7",
   "metadata": {},
   "source": [
    "### Path to write Spectra\n",
    "\n",
    "- version v0 : simple background with Table columns names=('loglam', 'flux', 'ivar')"
   ]
  },
  {
   "cell_type": "code",
   "execution_count": null,
   "id": "1b3697de-d8e5-4812-af87-4ac6b2f291b8",
   "metadata": {},
   "outputs": [],
   "source": [
    "# object filename\n",
    "obj_filename_csv =  f\"object_filelist_{version_table}.csv\" \n",
    "obj_filename_fits =  f\"object_filelist_{version_table}.fits\" \n",
    "# set the path of spectra\n",
    "path_gelato_spectra_fits = f\"./spec_forgelato/{version_table}\""
   ]
  },
  {
   "cell_type": "code",
   "execution_count": null,
   "id": "86015ed5-4949-4fef-8157-c0e6bb83e634",
   "metadata": {},
   "outputs": [],
   "source": [
    "# create the pasth if it does not exists\n",
    "if not os.path.exists(path_gelato_spectra_fits):\n",
    "    os.makedirs(path_gelato_spectra_fits)"
   ]
  },
  {
   "cell_type": "markdown",
   "id": "ba0ed0dd-97b7-4708-8538-59dd7035d9ba",
   "metadata": {},
   "source": [
    "## Init"
   ]
  },
  {
   "cell_type": "markdown",
   "id": "b049c9ef-b075-49ca-95a4-3c118cea489f",
   "metadata": {},
   "source": [
    "### Gaussian process\n",
    "\n",
    "Configurate the Gaussian kernel such the filtering constant is not less than 5 AA."
   ]
  },
  {
   "cell_type": "code",
   "execution_count": null,
   "id": "6708a114-2ba8-43ad-bf70-772fe7d14cd7",
   "metadata": {},
   "outputs": [],
   "source": [
    "kernel = kernels.RBF(0.5, (5, 10000.0))\n",
    "gpr = GaussianProcessRegressor(kernel=kernel ,random_state=0)"
   ]
  },
  {
   "cell_type": "markdown",
   "id": "c7c6adb5-aeff-4df4-8a13-98918e0dcc3f",
   "metadata": {},
   "source": [
    "### Filters"
   ]
  },
  {
   "cell_type": "code",
   "execution_count": null,
   "id": "6a2a58ac-44ac-483f-9d07-5a71c5e78404",
   "metadata": {},
   "outputs": [],
   "source": [
    "ps = FilterInfo()\n",
    "ps.dump()"
   ]
  },
  {
   "cell_type": "markdown",
   "id": "d025e648-139f-4669-b0c5-7b515997bd34",
   "metadata": {},
   "source": [
    "### Init data"
   ]
  },
  {
   "cell_type": "code",
   "execution_count": null,
   "id": "b19069a8-e610-46d9-b7b5-432d9c970bce",
   "metadata": {},
   "outputs": [],
   "source": [
    "fors2 = Fors2DataAcess()"
   ]
  },
  {
   "cell_type": "code",
   "execution_count": null,
   "id": "205f3b05-e332-457e-b41b-d13c919a638b",
   "metadata": {},
   "outputs": [],
   "source": [
    "#fors2.plot_allspectra()"
   ]
  },
  {
   "cell_type": "code",
   "execution_count": null,
   "id": "c3dd1448-2e0a-4501-b659-289562fb836b",
   "metadata": {},
   "outputs": [],
   "source": [
    "fors2_tags = fors2.get_list_of_groupkeys()\n",
    "len(fors2_tags)"
   ]
  },
  {
   "cell_type": "code",
   "execution_count": null,
   "id": "298f66a5-c424-4f28-8723-5e901c4511f1",
   "metadata": {},
   "outputs": [],
   "source": [
    "list_of_fors2_attributes = fors2.get_list_subgroup_keys()\n",
    "print(list_of_fors2_attributes)"
   ]
  },
  {
   "cell_type": "markdown",
   "id": "ed620393-10a6-4db0-b1d4-e0a23d019e3a",
   "metadata": {},
   "source": [
    "## Loop to plot spectra in observation frame\n",
    "\n",
    "Plot of $F_\\lambda(\\lambda)$ in FLAM (erg/cm2/s/AA) units"
   ]
  },
  {
   "cell_type": "code",
   "execution_count": null,
   "id": "a193c105-fff7-4db2-af5f-5d6a0b14e8cb",
   "metadata": {},
   "outputs": [],
   "source": [
    "bwr_map = plt.get_cmap('bwr')\n",
    "reversed_map = bwr_map.reversed() \n",
    "cNorm = colors.Normalize(0., vmax=1.)\n",
    "scalarMap = cmx.ScalarMappable(norm=cNorm, cmap=bwr_map)"
   ]
  },
  {
   "cell_type": "code",
   "execution_count": null,
   "id": "b7f00861-49d6-45d7-8076-320ebc8e528a",
   "metadata": {},
   "outputs": [],
   "source": [
    "\n",
    "all_paths = []\n",
    "all_redshifts = []\n",
    "\n",
    "for specname in fors2_tags:   \n",
    "\n",
    "    if specname in bad_spectra_list:\n",
    "        print(f\">>>> SKIP spectrum {specname} which is in list of bad spectra\")\n",
    "        continue\n",
    "\n",
    "    spectrum_fits_table_out = os.path.join(path_gelato_spectra_fits,f\"specgelato_{specname}.fits\")\n",
    "\n",
    "    \n",
    "    \n",
    "    # retrieve generic info on the spectrum\n",
    "    attr = fors2.getattribdata_fromgroup(specname)\n",
    "    #print(attr)\n",
    "    redshift = attr['redshift']\n",
    "\n",
    "    # save for object list\n",
    "    all_paths.append(spectrum_fits_table_out)\n",
    "    all_redshifts.append(redshift)\n",
    "    \n",
    "    lines = attr['lines']\n",
    "    the_color = scalarMap.to_rgba(redshift, alpha=1)\n",
    "    the_dict_sed =  fors2.getspectrum_fromgroup(specname)\n",
    "    wl = the_dict_sed[\"wl\"] \n",
    "    fl = the_dict_sed[\"fl\"] \n",
    "\n",
    "    #########################################\n",
    "    # calibrate flux in FLAM (erg/s/cm2/AA)\n",
    "    ###########################################\n",
    "\n",
    "    FLAG_EXCEPTION = False\n",
    "    try:\n",
    "        factor_mean,factor_err  = fors2.get_calibrationfactor(specname)\n",
    "    except Exception as error:\n",
    "        print(f\">>>>>>>>>>>>>> EXCEPTION {error} for spectrum {specname}\")\n",
    "        FLAG_EXCEPTION = True\n",
    "        factor_mean,factor_err = 1.,0.\n",
    "        \n",
    "    \n",
    "    \n",
    "    factor_relerr = factor_err/factor_mean\n",
    "\n",
    "    if not FLAG_EXCEPTION:\n",
    "        print(specname,f\"Fors2IO : CALIBRATION FACTOR = {factor_mean:.4g} +/- {factor_err:.4g} ({factor_relerr:.4f})\") \n",
    "    \n",
    "    #########################################\n",
    "    # multiply flux by the calibration factor\n",
    "    #########################################\n",
    "    fl*= factor_mean\n",
    "    ymax = fl.max()\n",
    "    print(f\"ymax = {ymax:.4g} erg/cm2/s/AA\")\n",
    "\n",
    "\n",
    "    ##########################################################\n",
    "    # Estimate some kind of background with gaussian process\n",
    "    ##########################################################\n",
    "\n",
    "    X = wl\n",
    "    Y = fl\n",
    "    gpr.fit(X[:, None], Y)\n",
    "    Yfit = gpr.predict(X[:, None], return_std=False)\n",
    "    Z = Y - Yfit\n",
    "    # but Yerr is wrong\n",
    "    #Yerr = np.abs(Yerr)\n",
    "\n",
    "    gpr.fit(X[:, None],np.abs(Z))\n",
    "    Yfit2 = gpr.predict(X[:, None], return_std=False)\n",
    "            \n",
    "    ################################\n",
    "    # Plot the figures, fig1,fi2,fig3\n",
    "    #################################\n",
    "    fig = plt.figure(constrained_layout=True,figsize=(12,6))\n",
    "    #fig = plt.figure(figsize=(12,6))\n",
    "\n",
    "    gs = gridspec.GridSpec(nrows=3, ncols=1, height_ratios=[3,3,1],hspace=0)\n",
    "\n",
    "    ax1 = fig.add_subplot(gs[0])\n",
    "\n",
    "    ax1.plot(wl,fl,'-',color=the_color)\n",
    "    ax1.plot(wl,Yfit,'-',color=\"k\",lw=3)\n",
    "    ax1.fill_between(wl, Yfit-Yfit2, Yfit+Yfit2,facecolor=\"orange\",edgecolor=\"k\",alpha=0.8)\n",
    "    title = f\"{specname}, z={redshift:.2f}, lines = {lines}\"\n",
    "    ax1.set_title(title)\n",
    "    ax1.axvline(wl.min(),color=\"k\")\n",
    "    ax1.axvline(wl.max(),color=\"k\")\n",
    "    ax1.set_xlim(4000.,10000.)\n",
    "    ax1.set_ylim(0.,ymax)\n",
    "    ax1.set_xlabel(\"$\\lambda (\\\\AA)$\")\n",
    "    ax1.set_ylabel(\"$F_\\lambda(\\lambda) (erg/cm^2/s/\\\\AA)$\")\n",
    "    ax1.grid()\n",
    "    plot_hydrogen_lines_redshift(ax1,redshift)\n",
    "\n",
    "\n",
    "\n",
    "\n",
    "    ax3 = fig.add_subplot(gs[1], sharex=ax1)  \n",
    "    ax3.plot(wl,Z,'b-',lw=0.5)\n",
    "    ax3.axvline(wl.min(),color=\"k\")\n",
    "    ax3.axvline(wl.max(),color=\"k\")\n",
    "    ax3.fill_between(wl, -Yfit2, +Yfit2,facecolor=\"grey\",edgecolor=\"k\",alpha=0.5)\n",
    "    ax3.grid()\n",
    "\n",
    "\n",
    "    \n",
    "    ax2 = fig.add_subplot(gs[2], sharex=ax1)  \n",
    "    plt.setp(ax2.get_yticklabels(), visible=False)\n",
    "    ##################\n",
    "    # loop on filters\n",
    "    ####################\n",
    "    for index in ps.filters_indexlist:\n",
    "        the_name = ps.filters_namelist[index]\n",
    "        the_filt = ps.filters_transmissionlist[index]\n",
    "        the_norm = ps.filters_transmissionnormlist[index]\n",
    "        the_wlmean = the_filt.wave_mean\n",
    "        the_color = ps.filters_colorlist[index]\n",
    "        the_transmission =the_filt.transmission/the_norm\n",
    "        ax2.plot(the_filt.wavelength,the_transmission,color=the_color)\n",
    "\n",
    "        if index%2 ==0:\n",
    "            ax2.text(the_wlmean, 0.7, the_name,horizontalalignment='center',verticalalignment='center',color=the_color,fontweight=\"bold\")\n",
    "        else:\n",
    "            ax2.text(the_wlmean, 0.85, the_name,horizontalalignment='center',verticalalignment='center',color=the_color,fontweight=\"bold\")\n",
    "    ax2.axvline(wl.min(),color=\"k\")\n",
    "    ax2.axvline(wl.max(),color=\"k\")\n",
    "    ax2.grid()\n",
    "    __=ax2.set_ylim(0.,1.)\n",
    "  \n",
    "    axins1 = inset_axes(ax1,\n",
    "                    width=\"50%\",  # width = 50% of parent_bbox width\n",
    "                    height=\"5%\",  # height : 5%\n",
    "                    loc='upper right')\n",
    "    \n",
    "    cbar=fig.colorbar(scalarMap , cax=axins1,orientation='horizontal')\n",
    "    cbar.ax.set_xlabel('redshift')\n",
    "    #fig.colorbar(im1, cax=axins1, orientation=\"horizontal\", ticks=[1, 2, 3])\n",
    "    #axins1.xaxis.set_ticks_position(\"bottom\")\n",
    "\n",
    "    plt.show()\n",
    "\n",
    "    ########################\n",
    "    # generate the table\n",
    "    ##########################\n",
    "    t = generate_spectrum_table(wl,fl, Yfit2, version_table = version_table)\n",
    "    t.write(spectrum_fits_table_out, format=\"fits\",overwrite=True)\n",
    "\n",
    "    #########################################################\n",
    "    # calculate  noise in histograms\n",
    "    # Will calculate statistical background by another mean later\n",
    "    #######################################################\n",
    "    #wavelengthrange_sdss  = [ filt.wavelength[np.where(filt.transmission>0.02)[0]] for filt in ps.all_filt_sdss]\n",
    "    #wavelengthminmax_sdss = [ (wl.min(),wl.max()) for wl in wavelengthrange_sdss ]\n",
    "    # select g(1),r(2),i(3)\n",
    "    #wavelengthminmax_sdss = wavelengthminmax_sdss[1:4]\n",
    "    #print( wavelengthminmax_sdss)\n",
    "\n",
    "    #all_data = []\n",
    "    #for ifilt in range(3):      \n",
    "    #    wlmin = wavelengthminmax_sdss[ifilt][0]\n",
    "    #    wlmax = wavelengthminmax_sdss[ifilt][1]\n",
    "    #    indexes_selected = np.where(np.logical_and(wl>wlmin,wl<wlmax))[0]\n",
    "    #    data = Z[indexes_selected]\n",
    "    #    all_data.append(data)\n",
    "\n",
    "    #d[specname] = all_data \n",
    "    "
   ]
  },
  {
   "cell_type": "markdown",
   "id": "58754fad-56a5-4794-8356-9a66d8c42383",
   "metadata": {},
   "source": [
    "## Save object list"
   ]
  },
  {
   "cell_type": "code",
   "execution_count": null,
   "id": "0791b52a-4bb0-4d52-9df5-996693d09f1c",
   "metadata": {},
   "outputs": [],
   "source": [
    "df = pd.DataFrame()\n",
    "df[\"Path\"] = all_paths\n",
    "df[\"z\"] = all_redshifts"
   ]
  },
  {
   "cell_type": "code",
   "execution_count": null,
   "id": "09567aba-3cc1-4e6c-8e4c-f64f6168f2f2",
   "metadata": {},
   "outputs": [],
   "source": [
    "df.to_csv(obj_filename_csv)"
   ]
  },
  {
   "cell_type": "code",
   "execution_count": null,
   "id": "b21a566e-9c22-4190-b6e8-a2f82e9cae96",
   "metadata": {},
   "outputs": [],
   "source": [
    "t = Table.from_pandas(df)"
   ]
  },
  {
   "cell_type": "code",
   "execution_count": null,
   "id": "2c8f97f5-8f77-48d1-a003-e832106217cf",
   "metadata": {},
   "outputs": [],
   "source": [
    "t.write(obj_filename_fits,format=\"fits\",overwrite=True)"
   ]
  },
  {
   "cell_type": "code",
   "execution_count": null,
   "id": "068ef763-2246-4538-8333-81588bfae2f1",
   "metadata": {},
   "outputs": [],
   "source": [
    "print(t)"
   ]
  },
  {
   "cell_type": "code",
   "execution_count": null,
   "id": "4d00c9a5-f689-4374-af19-8fe4289522a8",
   "metadata": {},
   "outputs": [],
   "source": []
  }
 ],
 "metadata": {
  "kernelspec": {
   "display_name": "pcigale",
   "language": "python",
   "name": "pcigale"
  },
  "language_info": {
   "codemirror_mode": {
    "name": "ipython",
    "version": 3
   },
   "file_extension": ".py",
   "mimetype": "text/x-python",
   "name": "python",
   "nbconvert_exporter": "python",
   "pygments_lexer": "ipython3",
   "version": "3.10.13"
  }
 },
 "nbformat": 4,
 "nbformat_minor": 5
}

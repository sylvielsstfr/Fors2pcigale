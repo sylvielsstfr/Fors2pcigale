{
 "cells": [
  {
   "cell_type": "markdown",
   "id": "20eea281-af7b-41b1-a266-93443c5403e2",
   "metadata": {},
   "source": [
    "# Dump ProcessingStatus"
   ]
  },
  {
   "cell_type": "markdown",
   "id": "05862875-3326-4979-bb88-c97bc2b224a5",
   "metadata": {},
   "source": [
    "Dump the Gelato fit processing file.\n",
    "\n",
    "\n",
    "- author : Sylvie Dagoret-Campagne\n",
    "- creation date : 2024-05-24\n",
    "- update : 2024-05-24\n",
    "\n",
    "\n",
    "- Kernel at CCIN2P3 : ``conda_desc_py310_pcigale``\n",
    "- Kernel on my laptop : ``pcigale``"
   ]
  },
  {
   "cell_type": "code",
   "execution_count": null,
   "id": "bf891df0-901d-4ae1-9fcd-3cc51b5c823b",
   "metadata": {},
   "outputs": [],
   "source": [
    "# Import packages\n",
    "\n",
    "import numpy as np\n",
    "%matplotlib inline\n",
    "import matplotlib as mpl\n",
    "mpl.rcParams['font.size'] = 25\n",
    "from matplotlib import pyplot # For plotting\n",
    "import matplotlib.pyplot as plt\n",
    "from mpl_toolkits.axes_grid1.inset_locator import inset_axes\n",
    "# For loading in data\n",
    "from astropy.io import fits\n",
    "from astropy.table import Table \n",
    "import os,re\n",
    "import pandas as pd"
   ]
  },
  {
   "cell_type": "code",
   "execution_count": null,
   "id": "2c59d42f-ee19-4775-8825-0d6568cb7e03",
   "metadata": {},
   "outputs": [],
   "source": [
    "pd.set_option('display.max_rows', 600)"
   ]
  },
  {
   "cell_type": "code",
   "execution_count": null,
   "id": "dc0cba53-304a-47a1-97ab-57fcff0ffe89",
   "metadata": {},
   "outputs": [],
   "source": [
    "#input_file = \"runCurrentStatus_fitgenato_0-188_ResultsFitInNb.csv\"\n",
    "#df = pd.read_csv(input_file,index_col=0)"
   ]
  },
  {
   "cell_type": "code",
   "execution_count": null,
   "id": "2bdf473c-1407-4024-9cd4-38184fb7f3e3",
   "metadata": {},
   "outputs": [],
   "source": [
    "input_files = [\"runCurrentStatus_fitgenato_0-188_ResultsFitInNb_v2.csv\",\"runCurrentStatus_fitgenato_190-548_ResultsFitInNb_v2.csv\"]"
   ]
  },
  {
   "cell_type": "code",
   "execution_count": null,
   "id": "4c1c099a-8cea-4494-bd2c-1e3c0f1c9049",
   "metadata": {},
   "outputs": [],
   "source": [
    "df1 = pd.read_csv(input_files[0],index_col=0)\n",
    "df2 =  pd.read_csv(input_files[1],index_col=0)\n",
    "df = pd.concat([df1, df2])\n",
    "df"
   ]
  },
  {
   "cell_type": "code",
   "execution_count": null,
   "id": "463171e8-13ec-4767-a0d0-7a14688140f9",
   "metadata": {},
   "outputs": [],
   "source": [
    "df_select = df[df[\"fitstatus\"]]"
   ]
  },
  {
   "cell_type": "code",
   "execution_count": null,
   "id": "61c7d354-a7fa-4f5a-a08c-2c10cc547676",
   "metadata": {},
   "outputs": [],
   "source": [
    "df_select"
   ]
  },
  {
   "cell_type": "code",
   "execution_count": null,
   "id": "e326c0d6-a29d-4eaf-9859-82648ae061ab",
   "metadata": {},
   "outputs": [],
   "source": [
    "df_select[\"log10_rChi2\"] = np.log10(df_select[\"rchi2_m\"])\n",
    "df_select[\"dz\"] = df_select[\"redshift\"] -   df_select[\"redshift_m\"]\n",
    "cut = df_select[\"log10_rChi2\"]<0.6\n",
    "df_select_good = df_select[cut]"
   ]
  },
  {
   "cell_type": "code",
   "execution_count": null,
   "id": "9b028be4-4dc2-4559-8c3c-ad01e7f31b98",
   "metadata": {},
   "outputs": [],
   "source": [
    "fig, ax = plt.subplots(1, 1)\n",
    "df_select.hist(column=\"log10_rChi2\", bins=50,ax=ax,facecolor=\"b\") \n",
    "df_select_good.hist(column=\"log10_rChi2\", bins=50,ax=ax,facecolor=\"r\") \n",
    "ax.axvline(0.6,color=\"k\")"
   ]
  },
  {
   "cell_type": "code",
   "execution_count": null,
   "id": "b8db66df-f176-453c-8d62-c536e23ba820",
   "metadata": {},
   "outputs": [],
   "source": [
    "fig, ax = plt.subplots(1, 1)\n",
    "df_select.hist(column=\"dz\", bins=50,ax=ax,facecolor=\"b\") \n",
    "df_select_good.hist(column=\"dz\", bins=50,ax=ax,facecolor=\"r\") \n",
    "ax.set_yscale(\"log\")"
   ]
  },
  {
   "cell_type": "code",
   "execution_count": null,
   "id": "cf60f542-85d5-40d5-b07b-55a568a2e3c0",
   "metadata": {},
   "outputs": [],
   "source": []
  }
 ],
 "metadata": {
  "kernelspec": {
   "display_name": "conda_desc_py310_pcigale",
   "language": "python",
   "name": "conda_desc_py310_pcigale"
  },
  "language_info": {
   "codemirror_mode": {
    "name": "ipython",
    "version": 3
   },
   "file_extension": ".py",
   "mimetype": "text/x-python",
   "name": "python",
   "nbconvert_exporter": "python",
   "pygments_lexer": "ipython3",
   "version": "3.10.14"
  }
 },
 "nbformat": 4,
 "nbformat_minor": 5
}

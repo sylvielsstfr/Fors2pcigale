{
 "cells": [
  {
   "cell_type": "markdown",
   "id": "115b33fe",
   "metadata": {},
   "source": [
    "Fit One Spectrum and try to recover failure\n",
    "----------------------------------\n",
    "\n",
    "First let's import the packages we will need."
   ]
  },
  {
   "cell_type": "markdown",
   "id": "c1746e41-2c71-40d7-9b0d-ae82e5009d9d",
   "metadata": {},
   "source": [
    "\n",
    "Analyse outputs from GELATO fit results on a signe spectrum\n",
    "\n",
    "- author : Sylvie Dagoret-Campagne\n",
    "- creation date : 2024-03-26\n",
    "- update : 2024-05-26\n",
    "- update : 2024-05-24 : version v2\n",
    "\n",
    "\n",
    "- Kernel at CCIN2P3 : ``conda_desc_py310_pcigale``\n",
    "- Kernel on my laptop : ``pcigale``"
   ]
  },
  {
   "cell_type": "markdown",
   "id": "b3091bf0-a25e-4d88-b474-a21218c0578a",
   "metadata": {},
   "source": [
    "# Create dir\n",
    "  ``ResultsFitInNb/``"
   ]
  },
  {
   "cell_type": "code",
   "execution_count": null,
   "id": "54f68d58",
   "metadata": {},
   "outputs": [],
   "source": [
    "# Import packages\n",
    "import gelato\n",
    "import numpy as np\n",
    "%matplotlib inline\n",
    "import matplotlib as mpl\n",
    "mpl.rcParams['font.size'] = 25\n",
    "from matplotlib import pyplot # For plotting\n",
    "import matplotlib.pyplot as plt\n",
    "from mpl_toolkits.axes_grid1.inset_locator import inset_axes\n",
    "# For loading in data\n",
    "from astropy.io import fits\n",
    "from astropy.table import Table \n",
    "import os,re\n",
    "import pandas as pd"
   ]
  },
  {
   "cell_type": "code",
   "execution_count": null,
   "id": "a1165b3e-5aae-418d-8df8-960882741d79",
   "metadata": {},
   "outputs": [],
   "source": [
    "from astropy.modeling import models, fitting\n",
    "from astropy import modeling\n",
    "# define a model for a line\n",
    "g_init = models.Gaussian1D(amplitude=1, mean=0, stddev=1)\n",
    "# initialize a linear fitter\n",
    "fit_g = fitting.LevMarLSQFitter()"
   ]
  },
  {
   "cell_type": "code",
   "execution_count": null,
   "id": "a87cf48a-67b5-46cd-a596-3fdc29c671d9",
   "metadata": {},
   "outputs": [],
   "source": [
    "from fors2pcigale.fors2starlightio import Fors2DataAcess"
   ]
  },
  {
   "cell_type": "code",
   "execution_count": null,
   "id": "c140c518-92c9-4b81-8a42-276a519d7b0a",
   "metadata": {},
   "outputs": [],
   "source": [
    "#from gelato.Plotting import  Plot, PlotFig,subplotplot\n",
    "#from gelato.Plotting import subplotplot\n",
    "from gelato.Plotting import logbarrier\n",
    "from scipy.optimize import minimize\n",
    "\n",
    "#import gelato.ConstructParams as CP\n",
    "\n",
    "import gelato.Utility as U\n",
    "import gelato.Plotting as P\n",
    "import gelato.ConstructParams as CP\n",
    "\n",
    "# GELATO\n",
    "import gelato.Utility as U\n",
    "import gelato.CustomModels as CM\n",
    "import gelato.SpectrumClass as SC\n",
    "\n",
    "from gelato.Constants import C"
   ]
  },
  {
   "cell_type": "code",
   "execution_count": null,
   "id": "87fba0dc-94e2-4672-9fba-bba480685fc6",
   "metadata": {},
   "outputs": [],
   "source": [
    "from libExampleFitInNb import *"
   ]
  },
  {
   "cell_type": "code",
   "execution_count": null,
   "id": "963b420f-35d4-476a-b536-9c90db8c56b4",
   "metadata": {},
   "outputs": [],
   "source": [
    "import shutil\n",
    "import json"
   ]
  },
  {
   "cell_type": "markdown",
   "id": "261b578a-1ba7-4962-9426-7934cd541f34",
   "metadata": {},
   "source": [
    "## Fors2 Interface"
   ]
  },
  {
   "cell_type": "code",
   "execution_count": null,
   "id": "e04be925-79a1-4eb4-a562-aec6f5f164c4",
   "metadata": {},
   "outputs": [],
   "source": [
    "fors2 = Fors2DataAcess()"
   ]
  },
  {
   "cell_type": "markdown",
   "id": "c03eede0-010f-46b5-ad74-b422329f9497",
   "metadata": {},
   "source": [
    "## Gelato Parameters"
   ]
  },
  {
   "cell_type": "code",
   "execution_count": null,
   "id": "0d0d53b1-0c5f-43e0-b62e-14da25446a7d",
   "metadata": {},
   "outputs": [],
   "source": [
    "version = \"v3\""
   ]
  },
  {
   "cell_type": "code",
   "execution_count": null,
   "id": "772a8e32-87ed-4e8f-9aea-5b9122fe908b",
   "metadata": {},
   "outputs": [],
   "source": [
    "# Path to the parameters file\n",
    "#path_params = './ExampleParametersFitInNb.json'\n",
    "path_params = f\"./ExampleParametersFitInNb_{version}.json\"\n",
    "\n",
    "# Create Parameters dictionary\n",
    "params_gel = gelato.ConstructParams.construct(path_params)\n",
    "\n",
    "# Set to not multiprocessing\n",
    "params_gel['NProcess'] = 1"
   ]
  },
  {
   "cell_type": "code",
   "execution_count": null,
   "id": "403083b0-0cab-4eba-b3cf-c5b02c41b6dc",
   "metadata": {},
   "outputs": [],
   "source": [
    "params_gel['EmissionGroups']"
   ]
  },
  {
   "cell_type": "code",
   "execution_count": null,
   "id": "29f0c52e-3a6e-46bc-ab64-b024fc03ba77",
   "metadata": {},
   "outputs": [],
   "source": [
    "for group in params_gel['EmissionGroups']:\n",
    "    info_group = \"Group : \"+ group[\"Name\"]\n",
    "    print(info_group)\n",
    "    all_species = group['Species']\n",
    "    for the_species in all_species:\n",
    "        #info_species = \"\\t  Species : \" + the_species['Name'] + \" FlagGroup :: \" +  the_species['FlagGroups'][0] + \"Nlines = \" + str(len( the_species['Lines'] )) \n",
    "        info_species = \"\\t  Species : \" + the_species['Name']  + \" , Nlines = \" + str(len( the_species['Lines'] )) \n",
    "        print(info_species)"
   ]
  },
  {
   "cell_type": "markdown",
   "id": "9f042c9a-f2b3-4f65-aac4-d00aab28d48e",
   "metadata": {},
   "source": [
    "## Table with Spectra name and Redshifts"
   ]
  },
  {
   "cell_type": "code",
   "execution_count": null,
   "id": "70edd15f-a407-44df-a094-32dca907d11f",
   "metadata": {},
   "outputs": [],
   "source": [
    "#df = pd.read_csv(\"object_filelist_v0.csv\",index_col=0)\n",
    "filename_object_file_list = f\"object_filelist_{version}.csv\"\n",
    "df_objectslist = pd.read_csv(filename_object_file_list,index_col=0)"
   ]
  },
  {
   "cell_type": "markdown",
   "id": "3885d4f1-e31c-467b-936a-94ea9a2d85e0",
   "metadata": {},
   "source": [
    "## Input files before the fit, sorting and index"
   ]
  },
  {
   "cell_type": "code",
   "execution_count": null,
   "id": "941987f3-72ba-4dd6-a79f-45407449f419",
   "metadata": {},
   "outputs": [],
   "source": [
    "#path = \"./spec_forgelato/v0\"\n",
    "path = f\"./spec_forgelato/{version}\""
   ]
  },
  {
   "cell_type": "code",
   "execution_count": null,
   "id": "02162198-b78d-46ef-af60-82c33993a392",
   "metadata": {},
   "outputs": [],
   "source": [
    "list_all_files = os.listdir(path)"
   ]
  },
  {
   "cell_type": "code",
   "execution_count": null,
   "id": "a390bb30-cb57-4b77-beca-d28f480a428c",
   "metadata": {},
   "outputs": [],
   "source": [
    "idx_selected_files = []\n",
    "list_selected_files = []\n",
    "for file in list_all_files:\n",
    "    res = re.findall(\"^specgelato_SPEC.*[.]fits$\",file)\n",
    "    if len(res):\n",
    "        list_selected_files.append(file)\n",
    "        num = int(re.findall(\"specgelato_SPEC(.*)[.]fits$\",file)[0])   \n",
    "        idx_selected_files.append(num)"
   ]
  },
  {
   "cell_type": "code",
   "execution_count": null,
   "id": "d2e208f6-e60c-4030-b521-69a7c7d543c3",
   "metadata": {},
   "outputs": [],
   "source": [
    "idx_selected_files = np.array(idx_selected_files)\n",
    "list_selected_files = np.array(list_selected_files)\n",
    "idx_sorted_files = np.argsort(idx_selected_files)\n",
    "list_sorted_files = list_selected_files[idx_sorted_files]"
   ]
  },
  {
   "cell_type": "code",
   "execution_count": null,
   "id": "50d189c7-c863-4586-996e-a91b993bd60c",
   "metadata": {},
   "outputs": [],
   "source": [
    "NSPEC = len(list_sorted_files)"
   ]
  },
  {
   "cell_type": "markdown",
   "id": "5a151ce2-53d0-4197-b5d8-04db030e1b60",
   "metadata": {},
   "source": [
    "## Choose One file"
   ]
  },
  {
   "cell_type": "code",
   "execution_count": null,
   "id": "7a6770a0-3bd6-4402-99ba-b13dc07444d4",
   "metadata": {},
   "outputs": [],
   "source": [
    "index = 8\n",
    "shortfilename = list_sorted_files[index]\n",
    "fullfilename = os.path.join(path,shortfilename) \n",
    "path_spec = fullfilename\n",
    "tag_spec = re.findall(\".*_(SPEC.*).fits$\", shortfilename)"
   ]
  },
  {
   "cell_type": "code",
   "execution_count": null,
   "id": "f38d74b5-3d2d-40ee-87c3-e20ea8975dce",
   "metadata": {},
   "outputs": [],
   "source": [
    "shortfilename.split('.')[0]"
   ]
  },
  {
   "cell_type": "code",
   "execution_count": null,
   "id": "0b0ee46e-6089-4a39-aa8a-617ec1864701",
   "metadata": {},
   "outputs": [],
   "source": [
    "tag_spec"
   ]
  },
  {
   "cell_type": "markdown",
   "id": "0c948dfe-bda0-4fbe-88fe-4e12cbccb66f",
   "metadata": {},
   "source": [
    "### Define output filenames"
   ]
  },
  {
   "cell_type": "markdown",
   "id": "b3f20159-5ccb-40c7-99ad-a5dbede3360f",
   "metadata": {},
   "source": [
    "#### Fit results"
   ]
  },
  {
   "cell_type": "code",
   "execution_count": null,
   "id": "9788734b-d868-497d-ae1c-8ce6c08c1337",
   "metadata": {},
   "outputs": [],
   "source": [
    "output_filename = shortfilename.split('.')[0] + \"-results.fits\""
   ]
  },
  {
   "cell_type": "code",
   "execution_count": null,
   "id": "a499cdae-a410-416f-bf82-1da46e94271a",
   "metadata": {},
   "outputs": [],
   "source": [
    "output_filename"
   ]
  },
  {
   "cell_type": "markdown",
   "id": "02880a82-4ead-43fc-9bd8-0fda7192728c",
   "metadata": {},
   "source": [
    "#### pulls and emission-line results"
   ]
  },
  {
   "cell_type": "code",
   "execution_count": null,
   "id": "a74b1249-2a43-48e6-a2ef-2b1c1db4f8b7",
   "metadata": {},
   "outputs": [],
   "source": [
    "output_filename_pulls = shortfilename.split('.')[0] + \"-pulls-results.csv\"\n",
    "output_filename_emissionlines = shortfilename.split('.')[0] + \"-emissionlines-results.csv\""
   ]
  },
  {
   "cell_type": "markdown",
   "id": "0e14b26c-4426-4e53-a2c8-282638bb9457",
   "metadata": {},
   "source": [
    "#### Find the redshift"
   ]
  },
  {
   "cell_type": "code",
   "execution_count": null,
   "id": "dfdcb213-41c6-4a63-81f6-29b1d535cec1",
   "metadata": {},
   "outputs": [],
   "source": [
    "if len(tag_spec)>0:\n",
    "    tag_spec = tag_spec[0]\n",
    "    all_inputspecfilenames = df_objectslist.Path.values\n",
    "    for idx_tag,filen in enumerate(all_inputspecfilenames):\n",
    "        if tag_spec in filen:\n",
    "                break\n",
    "\n",
    "    df_row = df_objectslist.iloc[idx_tag]\n",
    "    redshift = df_row[\"z\"]"
   ]
  },
  {
   "cell_type": "code",
   "execution_count": null,
   "id": "6f337480-ec20-43eb-9fae-bfdf125ffead",
   "metadata": {},
   "outputs": [],
   "source": [
    "spec_name_sel = tag_spec"
   ]
  },
  {
   "cell_type": "code",
   "execution_count": null,
   "id": "12d4ac7e-d523-4060-b07a-3ccbf6d25c81",
   "metadata": {},
   "outputs": [],
   "source": [
    "spec_name_sel"
   ]
  },
  {
   "cell_type": "code",
   "execution_count": null,
   "id": "744d0ebe-d45b-40cc-bfb3-1b961ab2f8f5",
   "metadata": {},
   "outputs": [],
   "source": [
    "# acess to the image array\n",
    "img = fors2.get_specimg(spec_name_sel)\n",
    "\n",
    "# get the image filename and path\n",
    "spec_sec_fileimg = fors2.get_specimgfile(spec_name_sel)"
   ]
  },
  {
   "cell_type": "code",
   "execution_count": null,
   "id": "4d985222-205f-4d15-a569-2fdf785bc7f8",
   "metadata": {},
   "outputs": [],
   "source": [
    "fig = plt.figure(constrained_layout=True,figsize=(12,6))\n",
    "plt.imshow(img)\n",
    "ax = plt.gca()\n",
    "# Hide X and Y axes label marks\n",
    "ax.xaxis.set_tick_params(labelbottom=False)\n",
    "ax.yaxis.set_tick_params(labelleft=False)\n",
    "# Hide X and Y axes tick marks\n",
    "ax.set_xticks([])\n",
    "ax.set_yticks([])\n",
    "plt.show()"
   ]
  },
  {
   "cell_type": "code",
   "execution_count": null,
   "id": "263056a9-b27c-4a33-9077-f6829ab86ca7",
   "metadata": {},
   "outputs": [],
   "source": [
    "print(df_row,redshift)"
   ]
  },
  {
   "cell_type": "code",
   "execution_count": null,
   "id": "c8826071-bd04-464b-9729-b415d7bea551",
   "metadata": {},
   "outputs": [],
   "source": [
    "title = f\"{index}) {output_filename}, z={redshift:.3f}\" "
   ]
  },
  {
   "cell_type": "markdown",
   "id": "114f2b48-270d-48e9-8503-7a6b9f331c57",
   "metadata": {},
   "source": [
    "#### Get the spectrum"
   ]
  },
  {
   "cell_type": "code",
   "execution_count": null,
   "id": "91d72d8a",
   "metadata": {},
   "outputs": [],
   "source": [
    "spectrum = Table.read(path_spec)\n",
    "\n",
    "# Start with inverse variance\n",
    "ivar = spectrum['ivar']\n",
    "good = ivar > 0 # GELATO only looks at points with nonzero weights\n",
    "\n",
    "# Finally, let's load in the data\n",
    "wavl = 10**spectrum['loglam'][good]\n",
    "flux = spectrum['flux'][good]\n",
    "ivar = ivar[good]\n",
    "args = (wavl,flux,ivar) # These will be useful later"
   ]
  },
  {
   "cell_type": "code",
   "execution_count": null,
   "id": "cb517d26-27a6-4d06-8f11-b22ff8ae805b",
   "metadata": {},
   "outputs": [],
   "source": [
    "spectrum[:5]"
   ]
  },
  {
   "cell_type": "markdown",
   "id": "ef6ac810",
   "metadata": {},
   "source": [
    "Let's go ahead and plot our spectrum to get an idea of what we're dealing with."
   ]
  },
  {
   "cell_type": "code",
   "execution_count": null,
   "id": "ff0fd13b",
   "metadata": {},
   "outputs": [],
   "source": [
    "# Create figure\n",
    "fig, ax = pyplot.subplots(figsize=(15,7))\n",
    "\n",
    "# Plot Spectrum\n",
    "sig = 3/np.sqrt(ivar) # 3 Sigma boundary\n",
    "ax.fill_between(wavl,flux-sig,flux+sig,color='gray')\n",
    "ax.step(wavl,flux,where='mid',c='k',lw=0.5)\n",
    "\n",
    "# Axis limits\n",
    "ax.set(xlim=[wavl.min(),wavl.max()],ylim=[0,flux.max()])\n",
    "\n",
    "# Axis labels\n",
    "ax.set(xlabel=r'Obs. Wavelength [\\AA]',ylabel=r'$F_\\lambda$')\n",
    "ax.set_title(title)\n",
    "# Show figure\n",
    "pyplot.show()"
   ]
  },
  {
   "cell_type": "markdown",
   "id": "4aaffa71",
   "metadata": {},
   "source": [
    "The main gelato function takes three inputs.\n",
    "* The path to the parameters file or the parameters dictionary.\n",
    "* The path to the spectrum.\n",
    "* The redshift of the spectrum.\n",
    "\n",
    "We already have the last two, and we need to take a little precaution with the first.\n",
    "The main gelato function will only return the final model if the code is being run without multiprocessing (as the return statement can break Python multiprocessing). So we can either change the Parameters JSON file, or edit the parameters dictionary. "
   ]
  },
  {
   "cell_type": "markdown",
   "id": "baba7e48-d98a-42db-940d-9f7ae2d2d14c",
   "metadata": {},
   "source": [
    "## Output for results"
   ]
  },
  {
   "cell_type": "code",
   "execution_count": null,
   "id": "aba67e5b-e7a1-4822-b863-a2e2ee98ba67",
   "metadata": {},
   "outputs": [],
   "source": [
    "output_path = params_gel['OutFolder']"
   ]
  },
  {
   "cell_type": "code",
   "execution_count": null,
   "id": "b6cd989a-698b-4b90-9a55-4cc3fefdb91d",
   "metadata": {},
   "outputs": [],
   "source": [
    "if not os.path.isdir(output_path):\n",
    "        os.mkdir(output_path)"
   ]
  },
  {
   "cell_type": "code",
   "execution_count": null,
   "id": "17ad2f3f-3f95-415f-9b33-ee8212f9bb66",
   "metadata": {},
   "outputs": [],
   "source": [
    "print(f\"output_path defined in json file : {output_path}\")"
   ]
  },
  {
   "cell_type": "code",
   "execution_count": null,
   "id": "84207d32-0a2f-4fc5-8fd3-f60a0e792c2e",
   "metadata": {},
   "outputs": [],
   "source": [
    "output_path_fullfilename = os.path.join(output_path,output_filename)\n",
    "output_path_fullfilename_pulls = os.path.join(output_path,output_filename_pulls)\n",
    "output_path_fullfilename_emissionlines = os.path.join(output_path,output_filename_emissionlines)"
   ]
  },
  {
   "cell_type": "markdown",
   "id": "a290115c-c3dd-4e5b-82d8-9a7b3aa8b1ed",
   "metadata": {},
   "source": [
    "## Run Gelato Fit"
   ]
  },
  {
   "cell_type": "markdown",
   "id": "a55b5373",
   "metadata": {},
   "source": [
    "We are now ready to run GELATO. Note, before you do this, ensure the results directory exists, either by running the Example from the README file or creating it. It will return the final callable model, however it won't be used in this notebook. "
   ]
  },
  {
   "cell_type": "code",
   "execution_count": null,
   "id": "59bbef2b",
   "metadata": {},
   "outputs": [],
   "source": [
    "model = gelato.gelato(params_gel,path_spec,redshift)"
   ]
  },
  {
   "cell_type": "markdown",
   "id": "7306686e-eec2-4df2-b5ce-14d195279d26",
   "metadata": {},
   "source": [
    "## Results of Gelato Fit"
   ]
  },
  {
   "cell_type": "markdown",
   "id": "d9ee2209",
   "metadata": {},
   "source": [
    "The results have been saved to the \"Results/\" Directory. Let's go ahead and load them in. We will print all extensions on the folder."
   ]
  },
  {
   "cell_type": "markdown",
   "id": "fdee66eb-4d77-42c1-bb6e-8eb10b1e0db5",
   "metadata": {},
   "source": [
    "### 1) results"
   ]
  },
  {
   "cell_type": "code",
   "execution_count": null,
   "id": "0815df14",
   "metadata": {},
   "outputs": [],
   "source": [
    "# Load in results\n",
    "results = fits.open(output_path_fullfilename)\n",
    "\n",
    "# Print FITS extensions\n",
    "results.info()"
   ]
  },
  {
   "cell_type": "markdown",
   "id": "ef7bdfdb",
   "metadata": {},
   "source": [
    "We have two FITS extensions, SUMMARY and PARAMS. They are described in more detail in the README File but let's play around with them directly. Let's go ahead and take a look inside the SUMMARY extension. As we can see, it is a binary FITS Table."
   ]
  },
  {
   "cell_type": "markdown",
   "id": "f0664785-e868-42ec-9b44-75c41d3cd713",
   "metadata": {},
   "source": [
    "### Summary of fitted model"
   ]
  },
  {
   "cell_type": "code",
   "execution_count": null,
   "id": "aa5d5647",
   "metadata": {},
   "outputs": [],
   "source": [
    "summary = Table(results['SUMMARY'].data)\n",
    "summary"
   ]
  },
  {
   "cell_type": "markdown",
   "id": "ff74199d",
   "metadata": {},
   "source": [
    "In this table, we have the original spectrum along with the various model components, we can go ahead and plot them."
   ]
  },
  {
   "cell_type": "code",
   "execution_count": null,
   "id": "fe9ba407-cdf0-4b9e-b5d5-7e3a841d8553",
   "metadata": {},
   "outputs": [],
   "source": [
    "df = summary.to_pandas()"
   ]
  },
  {
   "cell_type": "code",
   "execution_count": null,
   "id": "01b0d53c-e9db-40bc-8710-7353cf50dc73",
   "metadata": {},
   "outputs": [],
   "source": [
    "# Create figure\n",
    "fig, ax = pyplot.subplots(figsize=(15,3))\n",
    "\n",
    "# Plot Spectrum\n",
    "ax.step(10**summary['loglam'],summary['LINE'],where='mid',c='y',label='Emission Lines')\n",
    "ax.legend()\n",
    "\n",
    "# Axis limits\n",
    "ax.set(xlim=[wavl.min(),wavl.max()],ylim=[0,flux.max()])\n",
    "# Axis labels\n",
    "ax.set(xlabel=r'Obs. Wavelength [\\AA]',ylabel=r'$F_\\lambda$')\n",
    "ax.set_title(title)\n",
    "ax.grid()\n",
    "# Show figure\n",
    "pyplot.show()"
   ]
  },
  {
   "cell_type": "code",
   "execution_count": null,
   "id": "dcd1823b",
   "metadata": {},
   "outputs": [],
   "source": [
    "# Create figure\n",
    "fig, ax = pyplot.subplots(figsize=(15,7))\n",
    "\n",
    "# Plot Spectrum\n",
    "ax.fill_between(wavl,flux-sig,flux+sig,color='gray')\n",
    "ax.step(wavl,flux,where='mid',c='k',lw=0.5,label='Data')\n",
    "ax.step(10**summary['loglam'],summary['MODEL'],where='mid',c='r',label='Total Model')\n",
    "ax.step(10**summary['loglam'],summary['SSP'],where='mid',c='g',label='SSP Cont.')\n",
    "#ax.step(10**summary['loglam'],summary['PL'],where='mid',c='b',label='Power-Law Cont.')\n",
    "ax.step(10**summary['loglam'],summary['LINE'],where='mid',c='y',label='Emission Lines')\n",
    "ax.legend()\n",
    "\n",
    "# Axis limits\n",
    "ax.set(xlim=[wavl.min(),wavl.max()],ylim=[0,flux.max()])\n",
    "\n",
    "# Axis labels\n",
    "ax.set(xlabel=r'Obs. Wavelength [\\AA]',ylabel=r'$F_\\lambda$')\n",
    "ax.set_title(title)\n",
    "# Show figure\n",
    "pyplot.show()"
   ]
  },
  {
   "cell_type": "markdown",
   "id": "d7a3e294",
   "metadata": {},
   "source": [
    "Looks great! You can see an example of the GELATO generated plots in the results folder, but this will let you incorporate GELATO fits easily into your own work. Let's go ahead and take a look at the PARAMS extension. This is a much larger table! It's made up of the parameters from each bootstrap iteration. "
   ]
  },
  {
   "cell_type": "markdown",
   "id": "15399dab-8e57-409d-9554-ebd74ff73a7a",
   "metadata": {},
   "source": [
    "### A very simple view of fit results "
   ]
  },
  {
   "cell_type": "code",
   "execution_count": null,
   "id": "f1b42701-9d3d-40b3-8563-d223b1af48fb",
   "metadata": {},
   "outputs": [],
   "source": [
    "MySimplePlotSpectrumWithFittedModel(output_path_fullfilename,redshift,title)"
   ]
  },
  {
   "cell_type": "markdown",
   "id": "2fb4f37c-7599-414e-b294-d41b6dd8169b",
   "metadata": {},
   "source": [
    "### 2) Access to the fitted spectrum object directly"
   ]
  },
  {
   "cell_type": "code",
   "execution_count": null,
   "id": "ef81a6c0-cb8f-4e20-89fb-dc4eada4faef",
   "metadata": {},
   "outputs": [],
   "source": [
    " spectrum = SC.Spectrum(output_path_fullfilename,redshift,params_gel)"
   ]
  },
  {
   "cell_type": "code",
   "execution_count": null,
   "id": "37529e25-d684-499d-8ae1-e086a4b1c411",
   "metadata": {},
   "outputs": [],
   "source": [
    "spectrum.p"
   ]
  },
  {
   "cell_type": "code",
   "execution_count": null,
   "id": "29fb9563-13a7-479c-8699-fbf45901a61a",
   "metadata": {},
   "outputs": [],
   "source": [
    "spectrum.p[\"EmissionGroups\"]"
   ]
  },
  {
   "cell_type": "code",
   "execution_count": null,
   "id": "c1c435b8-5390-4e3d-b928-ae4c4d330743",
   "metadata": {},
   "outputs": [],
   "source": [
    "len(spectrum.p[\"EmissionGroups\"])"
   ]
  },
  {
   "cell_type": "markdown",
   "id": "fa5bb42e-6855-4ce0-b4a5-32f89f52aadd",
   "metadata": {},
   "source": [
    "### Complete plot result"
   ]
  },
  {
   "cell_type": "code",
   "execution_count": null,
   "id": "34d07a0d-d2e7-44a7-938a-5fc59b7f13f3",
   "metadata": {},
   "outputs": [],
   "source": [
    "FLAG_FAILURE = False\n",
    "try:\n",
    "    # access to spectrum directly\n",
    "    spectrum = SC.Spectrum(output_path_fullfilename,redshift,params_gel)\n",
    "\n",
    "    # extract the pulls\n",
    "    the_pulls = myplotfromresults(params_gel,output_path_fullfilename, redshift)\n",
    "    # build the pulls table\n",
    "    pulls_table = build_pulls_table(spectrum,the_pulls)\n",
    "    #save the pulls\n",
    "    pulls_table.to_csv(output_path_fullfilename_pulls) \n",
    "    print(pulls_table)\n",
    "\n",
    "    #go to the fit results\n",
    "    # Open Parameters extension\n",
    "    params_fit = Table(results['PARAMS'].data)\n",
    "    #print(params_fit)\n",
    "\n",
    "    fitted_redshift_mean = params_fit[\"SSP_Redshift\"].mean()/C\n",
    "    fitted_redshift_std = params_fit[\"SSP_Redshift\"].std()/C\n",
    "    fitted_rchi2_mean = params_fit[\"rChi2\"].mean()\n",
    "    fitted_rchi2_std = params_fit[\"rChi2\"].std()\n",
    "\n",
    "    dz = redshift_mean_fitted - redshift\n",
    "    print(f\"z1 = {redshift:.5f} , z2 ={redshift_mean_fitted:.5f}, dz = {dz:.5f}\")\n",
    "\n",
    "    reduced_chi2 = fitted_rchi2_mean\n",
    "    print(f\"Reduced Chi2 = {reduced_chi2:.2f}\")\n",
    "    \n",
    "    #get the emission-lines results\n",
    "    emissionlines_table = DecodeParamsFitEmissionLines(params_fit)\n",
    "    #save emission-lines\n",
    "    emissionlines_table.to_csv(output_path_fullfilename_emissionlines)\n",
    "    print(emissionlines_table)\n",
    "   \n",
    "   \n",
    "except Exception as inst:\n",
    "    print(f\">>>>>>>>>> Exception cautch for ==={index} )========{tag_spec}==== \")\n",
    "    print(type(inst))    # the exception type\n",
    "    print(inst.args)     # arguments stored in .args\n",
    "    print(inst)          # __str__ allows args to be printed directly,\n",
    " \n",
    "    \n",
    "    FLAG_FAILURE = True"
   ]
  },
  {
   "cell_type": "code",
   "execution_count": null,
   "id": "0a9fc8fb-0c87-41bc-be63-2a9db1b43751",
   "metadata": {},
   "outputs": [],
   "source": [
    "# stop if no failure\n",
    "if not FLAG_FAILURE:\n",
    "    assert False"
   ]
  },
  {
   "cell_type": "code",
   "execution_count": null,
   "id": "52015c9e-c5a3-4275-baf2-ec6b483ba036",
   "metadata": {},
   "outputs": [],
   "source": [
    "print(\">>>>>>>>>>>>>>>>>>>> GELATO FIT FAILURE <<<<<<<<<<<<<<<<<<<<<<<<<<<<<<<<<\")"
   ]
  },
  {
   "cell_type": "code",
   "execution_count": null,
   "id": "b5f416fa-807d-490d-a847-cedd80689ea5",
   "metadata": {},
   "outputs": [],
   "source": [
    "def updateparameterfile(oldver,newver,oldpath):\n",
    "    \"\"\"\n",
    "    \"\"\"\n",
    "    newpath=oldpath.replace(oldver,newver) \n",
    "    # create the new parameter file\n",
    "    shutil.copyfile(oldpath,newpath)\n",
    "\n",
    "    params_gel = gelato.ConstructParams.construct(newpath)\n",
    "    params_gel['OutFolder'] = params_gel['OutFolder'].replace(oldver,newver)\n",
    "    with open(newpath, 'w') as f:\n",
    "        json.dump(params_gel, f)\n",
    "    return newpath"
   ]
  },
  {
   "cell_type": "code",
   "execution_count": null,
   "id": "0316dfbb-1ab2-41c0-abd5-e35f91402aa4",
   "metadata": {},
   "outputs": [],
   "source": [
    "recoverversion = f\"recovery{version}\""
   ]
  },
  {
   "cell_type": "code",
   "execution_count": null,
   "id": "b485bb0f-96a9-4cb3-9d05-1404ee675ec6",
   "metadata": {},
   "outputs": [],
   "source": [
    "path_params_recover= updateparameterfile(version,recoverversion,path_params)"
   ]
  },
  {
   "cell_type": "code",
   "execution_count": null,
   "id": "d6b0ee73-dc63-45c4-b306-c6a2593c2004",
   "metadata": {},
   "outputs": [],
   "source": [
    "params_gel_recover = gelato.ConstructParams.construct(path_params_recover)"
   ]
  },
  {
   "cell_type": "code",
   "execution_count": null,
   "id": "35ab8325-e896-4450-a4f0-2cfde2c08b5f",
   "metadata": {},
   "outputs": [],
   "source": [
    "output_path = params_gel_recover['OutFolder']\n",
    "if not os.path.exists(output_path):\n",
    "    os.mkdir(output_path)\n",
    "topdirout = params_gel_recover['OutFolder']\n",
    "if not os.path.exists(topdirout):\n",
    "    os.mkdir(topdirout)\n",
    "dirout = os.path.join(topdirout,spec_name_sel)\n",
    "if not os.path.exists(dirout):\n",
    "    os.mkdir(dirout)\n",
    "\n",
    "#reindex the output under spec_name_sel folder\n",
    "params_gel_recover['OutFolder'] = dirout"
   ]
  },
  {
   "cell_type": "code",
   "execution_count": null,
   "id": "0d3a4754-4714-4584-b4f0-0f2c9596f7bc",
   "metadata": {},
   "outputs": [],
   "source": [
    "input_path_fullfilename = output_path_fullfilename \n",
    "output_path = params_gel_recover['OutFolder']\n",
    "output_path_fullfilename = os.path.join(output_path,output_filename)\n",
    "output_path_fullfilename_pulls = os.path.join(output_path,output_filename_pulls)\n",
    "output_path_fullfilename_emissionlines = os.path.join(output_path,output_filename_emissionlines)"
   ]
  },
  {
   "cell_type": "code",
   "execution_count": null,
   "id": "a7084dca-ee32-4973-a2d1-c5878e48d3bc",
   "metadata": {},
   "outputs": [],
   "source": [
    "def splitspectrum(spec_name_sel,input_path_fullfilename,redshift,params_gel,splitfract=0.5):\n",
    "    \"\"\"\n",
    "    \"\"\"\n",
    "    print(\"splitspectrum::\",spec_name_sel,input_path_fullfilename,redshift)\n",
    "    spectrum = Table.read(input_path_fullfilename)\n",
    "\n",
    "    # Start with inverse variance\n",
    "    ivar = spectrum['ivar']\n",
    "    good = ivar > 0 # GELATO only looks at points with nonzero weights\n",
    "\n",
    "    # Finally, let's load in the data\n",
    "    wavl = 10**spectrum['loglam'][good]\n",
    "    flux = spectrum['flux'][good]\n",
    "    ivar = ivar[good]\n",
    "    args = (wavl,flux,ivar) # These will be useful later\n",
    "\n",
    "    wlrange = wavl.max()-wavl.min()\n",
    "    wlsplit = wavl.min()+splitfract*wlrange\n",
    "\n",
    "    indexes_left = np.where(wavl<=wlsplit)[0]\n",
    "    indexes_right = np.where(wavl>wlsplit)[0]\n",
    "    \n",
    "    wavl_left = wavl[indexes_left]\n",
    "    wavl_right = wavl[indexes_right]\n",
    "    flux_left = flux[indexes_left]\n",
    "    flux_right = flux[indexes_right]\n",
    "    ivar_left = ivar[indexes_left]\n",
    "    ivar_right = ivar[indexes_right]\n",
    "    loglam_left = np.log10( wavl_left)\n",
    "    loglam_right = np.log10( wavl_right)\n",
    "\n",
    "    t_left = Table([loglam_left, flux_left, ivar_left], names=('loglam', 'flux', 'ivar'))\n",
    "    t_right = Table([loglam_right, flux_right, ivar_right], names=('loglam', 'flux', 'ivar'))\n",
    "\n",
    "    dirout = params_gel['OutFolder']\n",
    "\n",
    "\n",
    "    fracnum = splitfract*100\n",
    "    frac_str = f\"_{fracnum:.0f}\"\n",
    "    spectrum_filename = os.path.basename(input_path_fullfilename)\n",
    "    spectrum_rootfilename = spectrum_filename.split(\".\")[0]\n",
    "    spectrum_filename_left = spectrum_rootfilename + frac_str + \"_left.fits\"\n",
    "    spectrum_filename_right = spectrum_rootfilename + frac_str + \"_right.fits\"\n",
    "    spectrum_fullfilename_left = os.path.join(dirout,spectrum_filename_left)\n",
    "    spectrum_fullfilename_right = os.path.join(dirout,spectrum_filename_right)\n",
    "    t_left.write(spectrum_fullfilename_left, format=\"fits\",overwrite=True)\n",
    "    t_right.write(spectrum_fullfilename_right, format=\"fits\",overwrite=True)\n",
    "    return spectrum_fullfilename_left,spectrum_fullfilename_right"
   ]
  },
  {
   "cell_type": "code",
   "execution_count": null,
   "id": "34328493-f5ac-427b-b5f1-24bdd6594216",
   "metadata": {},
   "outputs": [],
   "source": [
    "path_spec"
   ]
  },
  {
   "cell_type": "code",
   "execution_count": null,
   "id": "e0c2fe8d-d542-4283-90a7-3f28b1d20bc5",
   "metadata": {},
   "outputs": [],
   "source": [
    "path_spec_left,path_spec_right = splitspectrum(spec_name_sel,path_spec,redshift,params_gel_recover,splitfract=0.7)"
   ]
  },
  {
   "cell_type": "code",
   "execution_count": null,
   "id": "ac7f1836-ad34-4d55-93b5-e94e0dff8e78",
   "metadata": {},
   "outputs": [],
   "source": [
    "model_left = gelato.gelato(params_gel_recover,path_spec_left,redshift)"
   ]
  },
  {
   "cell_type": "code",
   "execution_count": null,
   "id": "8c487b07-0231-419e-93b8-28adc60b25ff",
   "metadata": {},
   "outputs": [],
   "source": [
    "model_right = gelato.gelato(params_gel_recover,path_spec_right,redshift)"
   ]
  },
  {
   "cell_type": "code",
   "execution_count": null,
   "id": "a11b6782-22c8-4dfc-9de8-9ed71f439a32",
   "metadata": {},
   "outputs": [],
   "source": []
  }
 ],
 "metadata": {
  "kernelspec": {
   "display_name": "pcigale",
   "language": "python",
   "name": "pcigale"
  },
  "language_info": {
   "codemirror_mode": {
    "name": "ipython",
    "version": 3
   },
   "file_extension": ".py",
   "mimetype": "text/x-python",
   "name": "python",
   "nbconvert_exporter": "python",
   "pygments_lexer": "ipython3",
   "version": "3.10.13"
  }
 },
 "nbformat": 4,
 "nbformat_minor": 5
}

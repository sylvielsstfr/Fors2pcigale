{
 "cells": [
  {
   "cell_type": "markdown",
   "id": "115b33fe",
   "metadata": {},
   "source": [
    "Fit One Spectrum and tune redshift\n",
    "----------------------------------\n",
    "\n",
    "First let's import the packages we will need."
   ]
  },
  {
   "cell_type": "markdown",
   "id": "c1746e41-2c71-40d7-9b0d-ae82e5009d9d",
   "metadata": {},
   "source": [
    "\n",
    "Analyse outputs from GELATO fit results on a signe spectrum\n",
    "\n",
    "- author : Sylvie Dagoret-Campagne\n",
    "- creation date : 2024-03-25\n",
    "- update : 2024-04-29\n",
    "\n",
    "\n",
    "- Kernel at CCIN2P3 : ``conda_desc_py310_pcigale``"
   ]
  },
  {
   "cell_type": "code",
   "execution_count": null,
   "id": "54f68d58",
   "metadata": {},
   "outputs": [],
   "source": [
    "# Import packages\n",
    "import gelato\n",
    "import numpy as np\n",
    "%matplotlib inline\n",
    "import matplotlib as mpl\n",
    "mpl.rcParams['font.size'] = 25\n",
    "from matplotlib import pyplot # For plotting\n",
    "import matplotlib.pyplot as plt\n",
    "from mpl_toolkits.axes_grid1.inset_locator import inset_axes\n",
    "# For loading in data\n",
    "from astropy.io import fits\n",
    "from astropy.table import Table \n",
    "import os,re\n",
    "import pandas as pd"
   ]
  },
  {
   "cell_type": "code",
   "execution_count": null,
   "id": "a1165b3e-5aae-418d-8df8-960882741d79",
   "metadata": {},
   "outputs": [],
   "source": [
    "from astropy.modeling import models, fitting\n",
    "from astropy import modeling\n",
    "# define a model for a line\n",
    "g_init = models.Gaussian1D(amplitude=1, mean=0, stddev=1)\n",
    "# initialize a linear fitter\n",
    "fit_g = fitting.LevMarLSQFitter()"
   ]
  },
  {
   "cell_type": "code",
   "execution_count": null,
   "id": "a87cf48a-67b5-46cd-a596-3fdc29c671d9",
   "metadata": {},
   "outputs": [],
   "source": [
    "from fors2pcigale.fors2starlightio import Fors2DataAcess"
   ]
  },
  {
   "cell_type": "code",
   "execution_count": null,
   "id": "c140c518-92c9-4b81-8a42-276a519d7b0a",
   "metadata": {},
   "outputs": [],
   "source": [
    "#from gelato.Plotting import  Plot, PlotFig,subplotplot\n",
    "#from gelato.Plotting import subplotplot\n",
    "from gelato.Plotting import logbarrier\n",
    "from scipy.optimize import minimize\n",
    "\n",
    "#import gelato.ConstructParams as CP\n",
    "\n",
    "import gelato.Utility as U\n",
    "import gelato.Plotting as P\n",
    "import gelato.ConstructParams as CP\n",
    "\n",
    "# GELATO\n",
    "import gelato.Utility as U\n",
    "import gelato.CustomModels as CM\n",
    "import gelato.SpectrumClass as SC\n",
    "\n",
    "from gelato.Constants import C"
   ]
  },
  {
   "cell_type": "code",
   "execution_count": null,
   "id": "c695b6a4-91b8-44e1-aea9-3d4f540a424f",
   "metadata": {},
   "outputs": [],
   "source": [
    "m = modeling.models.Gaussian1D(amplitude=10, mean=30, stddev=5)\n",
    "x = np.linspace(0, 100, 2000)\n",
    "data = m(x)\n",
    "data = data + np.sqrt(data) * np.random.random(x.size) - 0.5\n",
    "data -= data.min()\n",
    "plt.plot(x, data)"
   ]
  },
  {
   "cell_type": "code",
   "execution_count": null,
   "id": "84fa3da8-b1b7-44f2-9309-acb7ccbddc78",
   "metadata": {},
   "outputs": [],
   "source": [
    "fitter = modeling.fitting.LevMarLSQFitter()\n",
    "model = modeling.models.Gaussian1D()   # depending on the data you need to give some initial values\n",
    "fitted_model = fit_g(model, x, data)\n"
   ]
  },
  {
   "cell_type": "code",
   "execution_count": null,
   "id": "b839494a-79bd-457e-a550-0e73eb6bec86",
   "metadata": {},
   "outputs": [],
   "source": [
    "fitted_model.mean.value"
   ]
  },
  {
   "cell_type": "code",
   "execution_count": null,
   "id": "22f8fd5d-01f0-48db-b524-44d171df4027",
   "metadata": {},
   "outputs": [],
   "source": [
    "# Add Linelabels\n",
    "def Mysubplotplot(pt,fax,rax,hax,spectrum,args,f):\n",
    "    \n",
    "    # Unpack\n",
    "    wav,flux,isig = args\n",
    "\n",
    "    # Plot data\n",
    "    fax.step(wav,flux,'gray',where='mid')\n",
    "\n",
    "    # Plot model(s)\n",
    "    # for p in parameters:\n",
    "    #     fax.step(wav,model.evaluate(p,*args),'r',where='mid',alpha=0.5)\n",
    "    fax.step(wav,f,'r',where='mid')\n",
    "   \n",
    "    \n",
    "    # Base Y axis on flux\n",
    "    ymin = np.max([0,flux.min()])\n",
    "    dy = flux.max() - ymin\n",
    "    ylim = [ymin,ymin+1.3*dy] # Increase Axis size by 20%\n",
    "    text_height = ymin+1.2*dy \n",
    "\n",
    "    # Get Line Names/Positions\n",
    "    linelocs = []\n",
    "    linelabels = []\n",
    "    for group in spectrum.p['EmissionGroups']:\n",
    "        for species in group['Species']:\n",
    "            if species['Flag'] >= 0:\n",
    "                for line in species['Lines']:\n",
    "                    x = line['Wavelength']*(1+spectrum.z)\n",
    "                    if ((x < wav[-1]) and (x > wav[0])):\n",
    "                        linelocs.append(x)\n",
    "                        linelabels.append(species['Name'])\n",
    "\n",
    "    # If we have lines to plot\n",
    "    if len(linelocs) > 0:\n",
    "\n",
    "        # Reorder line positions\n",
    "        inds = np.argsort(linelocs)\n",
    "        linelocs = np.array(linelocs)[inds]\n",
    "        linelabels = np.array(linelabels)[inds]\n",
    "\n",
    "        # Log barrier constraints\n",
    "        norm = 60 if pt == 0 else 20 # Magic numbers for line spacing\n",
    "        x0 = np.linspace(wav.min(),wav.max(),len(inds)+2)[1:-1] # Initial guess\n",
    "        linelabellocs = minimize(logbarrier,x0,args=(wav,linelocs,norm),method='Nelder-Mead',options={'adaptive':True,'maxiter':len(inds)*750}).x\n",
    "\n",
    "        # Plot names\n",
    "        for lineloc,linelabel,linelabelloc in zip(linelocs,linelabels,linelabellocs):\n",
    "            # Text\n",
    "            fax.text(linelabelloc,text_height,linelabel,rotation=90,fontsize=16,fontweight=\"bold\",color=\"b\",ha='center',va='center')\n",
    "            # Plot Lines\n",
    "            #fax.plot([lineloc,lineloc,linelabelloc,linelabelloc],[ymin+dy*1.01,ymin+dy*1.055,ymin+dy*1.075,ymin+dy*1.12],ls='-',c='gray',lw=0.25)\n",
    "            fax.plot([lineloc,lineloc,linelabelloc,linelabelloc],[ymin+dy*1.01,ymin+dy*1.055,ymin+dy*1.075,ymin+dy*1.12],ls='-',c='blue',lw=1.0)\n",
    "\n",
    "    # Axis labels and limits\n",
    "    fax.set(ylabel=r'$F_\\lambda$ ['+spectrum.p['FlamUnits']+']',ylim=ylim)\n",
    "    fax.set(yticks=[t for t in fax.get_yticks() if (t > ymin+0.05*dy) and (t < ylim[-1])],xlim=[wav.min(),wav.max()],xticklabels=[])\n",
    "    fax.grid(color=\"g\")\n",
    "        \n",
    "    # Residual Axis\n",
    "    \n",
    "    pulls = (flux - f)*isig\n",
    "    p_m = np.mean(pulls)\n",
    "    p_s = np.std(pulls)\n",
    "    p_l = f\"pulls = {p_m:.1f} +/- {p_s:.1f}\"\n",
    "    \n",
    "    \n",
    "    histarray,bin_edges = np.histogram(pulls, bins=2000, range=(-10,10), density=True)\n",
    "    g = fit_g(g_init,bin_edges[1:],histarray)\n",
    "    m_f = g.mean.value        \n",
    "    s_f = g.stddev.value  \n",
    "    fit_label = f\"normed residuals gaussian fit : {m_f:.2f} +/- {s_f:.2f}\"\n",
    "    textstr = '\\n'.join((\n",
    "    r'normed residuals gaussian fit : ',\n",
    "    r'$\\mu=%.2f$' % (m_f, ),\n",
    "    r'$\\sigma=%.2f$' % (s_f, )))\n",
    "    props = dict(boxstyle='round', facecolor='white', alpha=0.5)\n",
    "\n",
    "\n",
    "    \n",
    "    rax.step(wav,pulls,'gray',where='mid')\n",
    "    ymax = np.max(np.abs(rax.get_ylim()))\n",
    "    rax.set(xlim=[wav.min(),wav.max()],xlabel=r'Observed Wavelength [\\AA]',ylim=[-ymax,ymax])\n",
    "    rax.set_ylabel('Deviation',fontsize=15)\n",
    "    rax.grid(color=\"g\")\n",
    "    rax.text(0.01, 0.85,fit_label , transform=rax.transAxes, fontsize=12,verticalalignment='top', bbox=props)\n",
    "    \n",
    "    if pt == 0:\n",
    "        inset_rax = inset_axes(rax,\n",
    "            width=\"20%\", # width = 30% of parent_bbox\n",
    "            height=\"80%\", # height : 1 inch\n",
    "            loc=4)\n",
    "        inset_rax.hist(pulls,bins=30,range=(-5,5),density=True, histtype='step', facecolor='g',lw=2,color=\"g\",label=p_l)\n",
    "        inset_rax.set_xlabel(\"pulls\")\n",
    "        inset_rax.legend(loc=\"upper right\",prop={'size': 16})\n",
    "        \n",
    "    \n",
    "    elif pt>0 and hax!= None:\n",
    "        pulls = (flux - f)*isig\n",
    "        p_m = np.mean(pulls)\n",
    "        p_s = np.std(pulls)\n",
    "        p_l = f\"pulls = {p_m:.1f} +/- {p_s:.1f}\"\n",
    "        hax.hist(pulls,bins=30,range=(-5,5),density=True, histtype='step', facecolor='g',lw=2,color=\"g\",label=p_l)\n",
    "        hax.set_xlabel(\"pulls\")\n",
    "        hax.legend(loc=\"upper right\",prop={'size': 16})\n",
    "    return ymin"
   ]
  },
  {
   "cell_type": "code",
   "execution_count": null,
   "id": "3c3eef14-023a-4a1e-892c-609c5b0792e0",
   "metadata": {},
   "outputs": [],
   "source": [
    "# Overwrite functions from GELATO to view results in a notebook\n",
    "\n",
    "from matplotlib import rcParams,pyplot\n",
    "def MyPlotFig(spectrum,model,parameters,fpath,plottype=0):\n",
    "\n",
    "    # Calculate Medians\n",
    "    medians = np.median(parameters,0)\n",
    "\n",
    "    # Make figure name\n",
    "    #figname = U.fileName(path.split(fpath)[-1])+'-'  OLD\n",
    "    figname= U.fileName(fullfilename.split(\"/\")[-1].split(\".\")[0])+'-'  #SDC\n",
    "    \n",
    "    if plottype == 0:\n",
    "        figname += 'spec'\n",
    "    elif plottype == 1:\n",
    "        figname += 'fit'\n",
    "    elif plottype == 2:\n",
    "        figname += 'comp'\n",
    "\n",
    "  \n",
    "    # Get transform for secondary axis\n",
    "    transform = (lambda obs: obs / (1 + spectrum.z), lambda rest: rest * (1 + spectrum.z))\n",
    "\n",
    "    if plottype == 0:\n",
    "\n",
    "        # Make figure\n",
    "        fig = pyplot.figure(figsize=(15,10))\n",
    "        gs = fig.add_gridspec(ncols=1,nrows=2,height_ratios=[4,1],hspace=0)\n",
    "\n",
    "        # Get Spectrum\n",
    "        wav     = spectrum.wav\n",
    "        flux    = spectrum.flux\n",
    "        isig    = spectrum.isig\n",
    "\n",
    "        # Model prediction\n",
    "        args = wav,flux,isig\n",
    "        f = model.evaluate(medians,*args)\n",
    "\n",
    "        # Add axes flux axis and residuals axis\n",
    "        fax,rax = fig.add_subplot(gs[0,0]),fig.add_subplot(gs[1,0])\n",
    "\n",
    "        # Plot Power Law\n",
    "        if 'PowerLaw_Index' in model.get_names():\n",
    "            continuum = CM.CompoundModel(model.models[1:2]).evaluate(medians[model.models[0].nparams:],*args)\n",
    "            fax.step(wav,continuum,'k',ls='--',where='mid')\n",
    "\n",
    "        # Plot model(s)\n",
    "        #for p in parameters:\n",
    "        #     fax.step(wav,model.evaluate(p,*args),'r',where='mid',alpha=0.5)\n",
    "        fax.step(wav,f,'r',where='mid')\n",
    "\n",
    "        # Subplot plotting\n",
    "        hax=None\n",
    "        Mysubplotplot(plottype,fax,rax,hax,spectrum,args,f)\n",
    "\n",
    "        # Add secondary axis\n",
    "        rax.secondary_xaxis('top', functions=transform).set(xticklabels=[])\n",
    "        fax.secondary_xaxis('top', functions=transform).set_xlabel('Rest Wavelength [\\AA]',labelpad=10)\n",
    "        rax.axhline(0,color=\"b\")\n",
    "        \n",
    "    elif plottype > 0:\n",
    "\n",
    "        # Make figure\n",
    "        ncols   = len(spectrum.regions)\n",
    "        fig = pyplot.figure(figsize = (5*ncols,10))\n",
    "        gs = fig.add_gridspec(ncols=ncols,nrows=3,height_ratios=[3,1,2],hspace=0)\n",
    "\n",
    "        # Continuum and Model\n",
    "        args = spectrum.wav,spectrum.flux,spectrum.isig\n",
    "        if 'PowerLaw_Index' in model.get_names():\n",
    "            continuum = CM.CompoundModel(model.models[0:2]).evaluate(medians,*args)\n",
    "        else: \n",
    "            continuum = CM.CompoundModel(model.models[0:1]).evaluate(medians,*args)\n",
    "        f = model.evaluate(medians,*args)\n",
    "        \n",
    "        # Iterate over regions\n",
    "        for i,region in enumerate(spectrum.regions):\n",
    "\n",
    "            # Get Spectrum\n",
    "            good    = np.logical_and(spectrum.wav < region[1],spectrum.wav > region[0])\n",
    "            wav     = spectrum.wav[good]\n",
    "            flux    = spectrum.flux[good]\n",
    "            isig    = spectrum.isig[good]\n",
    "            args    = wav,flux,isig\n",
    "\n",
    "            # Add Axes\n",
    "            fax,rax,hax = fig.add_subplot(gs[0,i]),fig.add_subplot(gs[1,i]),fig.add_subplot(gs[2,i])\n",
    "\n",
    "            # Subplot plotting\n",
    "            ymin = Mysubplotplot(plottype,fax,rax,hax,spectrum,args,f[good])\n",
    "\n",
    "            # Plot Continuum\n",
    "            if plottype == 1:\n",
    "                fax.step(wav,continuum[good],ls='-',c='k',where='mid')\n",
    "            # Plot components\n",
    "            elif plottype == 2:\n",
    "                init = 1\n",
    "                if 'PowerLaw_Index' in model.get_names():\n",
    "                    init = 2\n",
    "                for j in range(init,len(model.models)):\n",
    "                    m = model.models[j]\n",
    "                    idx = model.indices[j]\n",
    "                    cm = CM.CompoundModel([m]).evaluate(medians[idx:idx+m.nparams],*(wav,flux,isig))\n",
    "                    fax.step(wav,ymin+cm,'--',c='gray')\n",
    "                    # for p in parameters:\n",
    "                    #     cm = CM.CompoundModel([m]).evaluate(p[idx:idx+m.nparams],*(wav,flux,isig))\n",
    "                    #     fax.step(wav,ymin+cm,'--',c='gray',alpha=0.5)\n",
    "\n",
    "            # Add secondary axis\n",
    "            rax.secondary_xaxis('top', functions=transform).set(xticklabels=[])\n",
    "            fax.secondary_xaxis('top', functions=transform).set_xlabel('Rest Wavelength [\\AA]',labelpad=10)\n",
    "            rax.axhline(0,color=\"b\")\n",
    "            \n",
    "    # Add title and save figure\n",
    "    fig.suptitle(figname.replace('_','\\_')+', $z='+str(np.round(spectrum.z,3))+'$',y=0.95)\n",
    "    fig.tight_layout()\n",
    "    #fig.savefig(path.join(spectrum.p['OutFolder'],figname+'.pdf'))\n",
    "    plt.show()\n",
    "    #pyplot.close(fig)\n"
   ]
  },
  {
   "cell_type": "code",
   "execution_count": null,
   "id": "76a06203-45c2-4fad-9d3c-85f401f4f4fa",
   "metadata": {},
   "outputs": [],
   "source": [
    "# Plot all Figures\n",
    "def MyPlot(spectrum,model,parameters,fpath):\n",
    "    for i in range(3): MyPlotFig(spectrum,model,parameters,fpath,plottype=i)"
   ]
  },
  {
   "cell_type": "code",
   "execution_count": null,
   "id": "e8f33751-e64e-44a2-a764-2bb711cc99ea",
   "metadata": {},
   "outputs": [],
   "source": [
    "# Plot from results\n",
    "def myplotfromresults(params,fpath,z):\n",
    "\n",
    "#    if params[\"Verbose\"]:\n",
    "#        print(\"Presenting GELATO:\",path.split(fpath)[-1])\n",
    "\n",
    "    ## Load in Spectrum ##\n",
    "  \n",
    "    spectrum = SC.Spectrum(fpath,z,params)\n",
    "    \n",
    "    #------------------------\n",
    "    #print(\"spectrum\",spectrum)\n",
    "    #--------------------------\n",
    "  \n",
    "    # Get just the final bit of the path\n",
    "    #fpath = path.split(fpath)[-1] #SDC remove this split\n",
    "    #print(fpath)\n",
    "    \n",
    "    ## Load Results ##\n",
    "    #fname = path.join(params['OutFolder'],U.fileName(fpath))+'-results.fits'\n",
    "    fname = fpath\n",
    "    parameters = fits.getdata(fname,'PARAMS')\n",
    "    pnames =  [n for n in parameters.columns.names if not (('EW' in n) or ('RAmp' in n) or ('PowerLaw_Scale' == n))][:-1]\n",
    "    ps = np.array([parameters[n] for n in pnames]).T\n",
    "    \n",
    "    #-------------\n",
    "    # print(pnames)\n",
    "    # print(\"ps\",ps)\n",
    "    #-------------\n",
    "\n",
    "    ## Create model ##\n",
    "    # Add continuum\n",
    "    ssp_names = [n[4:] for n in pnames if (('SSP_' in n) and (n != 'SSP_Redshift'))]\n",
    "    \n",
    "    #----------------------------\n",
    "    #print(\"(ssp_names\",ssp_names)\n",
    "    #----------------------------\n",
    "    \n",
    "    \n",
    "    models = [CM.SSPContinuumFree(spectrum,ssp_names = ssp_names)]\n",
    "    if 'PowerLaw_Index' in pnames:\n",
    "        models.append(CM.PowerLawContinuum(spectrum))\n",
    "        models[-1].starting()\n",
    "    \n",
    "    #-----------------------------------------\n",
    "    #print(\"spectrum.regions\",spectrum.regions)\n",
    "    #-----------------------------------------\n",
    "\n",
    "    #if spectrum.regions != []:\n",
    "    if len(spectrum.regions) != 0:\n",
    "\n",
    "        # Add spectral lines\n",
    "        ind = sum([m.nparams for m in models]) # index where emission lines begin\n",
    "        for i in range(ind,ps.shape[1],3):\n",
    "            center = float(pnames[i].split('_')[-2])\n",
    "            models.append(CM.SpectralFeature(center,spectrum))\n",
    "\n",
    "        # Final model\n",
    "        model = CM.CompoundModel(models)\n",
    "        #print(\"final model\",model)\n",
    "\n",
    "        # Plot\n",
    "        MyPlot(spectrum,model,ps,fpath)\n",
    "\n",
    "    else:\n",
    "\n",
    "        # Final Model\n",
    "        model = CM.CompoundModel(models)\n",
    "\n",
    "        # Plot\n",
    "        MyPlotFig(spectrum,model,ps,fpath)\n",
    "\n",
    "    if params[\"Verbose\"]:\n",
    "        print(\"GELATO presented:\",fpath)"
   ]
  },
  {
   "cell_type": "code",
   "execution_count": null,
   "id": "f702da75-802e-46c6-b9ec-9181a0c00776",
   "metadata": {},
   "outputs": [],
   "source": [
    "def MySimplePlotSpectrum(fullfilename ,redshift,title):\n",
    "    \"\"\"\n",
    "    MySimplePlotSpectrum : plot spectrum as it is , witout model\n",
    "    \"\"\"\n",
    "    # Let's load the spectrum\n",
    "    #path_spec = 'Spectra/spec-0280-51612-0117.fits'\n",
    "    path_spec = fullfilename \n",
    "    spectrum = Table.read(path_spec)\n",
    "\n",
    "    # Start with inverse variance\n",
    "    ivar = spectrum['ivar']\n",
    "    good = ivar > 0 # GELATO only looks at points with nonzero weights\n",
    "\n",
    "    # Finally, let's load in the data\n",
    "    wavl = 10**spectrum['loglam'][good]\n",
    "    flux = spectrum['flux'][good]\n",
    "    ivar = ivar[good]\n",
    "    args = (wavl,flux,ivar) # These will be useful later\n",
    "        \n",
    "    # Create figure\n",
    "    fig, ax = pyplot.subplots(figsize=(15,7))\n",
    "\n",
    "    # Plot Spectrum\n",
    "    sig = 3/np.sqrt(ivar) # 3 Sigma boundary\n",
    "    ax.fill_between(wavl,flux-sig,flux+sig,color='gray')\n",
    "    ax.step(wavl,flux,where='mid',c='k',lw=0.5)\n",
    "\n",
    "    # Axis limits\n",
    "    ax.set(xlim=[wavl.min(),wavl.max()],ylim=[0,flux.max()])\n",
    "\n",
    "    # Axis labels\n",
    "    ax.set(xlabel=r'Obs. Wavelength [\\AA]',ylabel=r'$F_\\lambda$')\n",
    "\n",
    "    ax.set_title(title)\n",
    "    # Show figure\n",
    "    pyplot.show()\n",
    "    "
   ]
  },
  {
   "cell_type": "code",
   "execution_count": null,
   "id": "6859a9d1-cedf-4342-8926-33659c032c80",
   "metadata": {},
   "outputs": [],
   "source": [
    "def MySimplePlotSpectrumWithFittedModel(fullfilename ,redshift,title):\n",
    "    \"\"\"\n",
    "    My simple plot spectrum with fitted model\n",
    "    \"\"\"\n",
    "    # Let's load the spectrum\n",
    "    #path_spec = 'Spectra/spec-0280-51612-0117.fits'\n",
    "    path_spec = fullfilename \n",
    "    spectrum = Table.read(path_spec)\n",
    "    \n",
    "    #load fit results    \n",
    "    results = fits.open(path_spec) \n",
    "    summary = Table(results['SUMMARY'].data)\n",
    "\n",
    "\n",
    "    # Start with inverse variance\n",
    "    ivar = spectrum['ivar']\n",
    "    good = ivar > 0 # GELATO only looks at points with nonzero weights\n",
    "\n",
    "    # Finally, let's load in the data\n",
    "    wavl = 10**spectrum['loglam'][good]\n",
    "    flux = spectrum['flux'][good]\n",
    "    ivar = ivar[good]\n",
    "    args = (wavl,flux,ivar) # These will be useful later\n",
    "        \n",
    "    # Plot Spectrum\n",
    "    sig = 3/np.sqrt(ivar) # 3 Sigma boundary\n",
    "    \n",
    "        \n",
    "    # Create figure\n",
    "    fig, ax = pyplot.subplots(figsize=(15,7))\n",
    "\n",
    "    \n",
    "    # Plot Spectrum\n",
    "    ax.fill_between(wavl,flux-sig,flux+sig,color='gray',alpha=0.2)\n",
    "    ax.step(wavl,flux,where='mid',c='k',lw=0.75,label='Data')\n",
    "    ax.step(10**summary['loglam'],summary['MODEL'],where='mid',c='r',label='Total Model')\n",
    "    ax.step(10**summary['loglam'],summary['SSP'],where='mid',c='g',label='SSP Cont.')\n",
    "    #ax.step(10**summary['loglam'],summary['PL'],where='mid',c='b',label='Power-Law Cont.')\n",
    "    ax.step(10**summary['loglam'],summary['LINE'],where='mid',c='orange',lw=3,label='Emission Lines')\n",
    "    ax.legend(loc=\"upper left\")\n",
    "\n",
    "    # Axis limits\n",
    "    ax.set(xlim=[wavl.min(),wavl.max()],ylim=[0,flux.max()*1.5])\n",
    "\n",
    "    # Axis labels\n",
    "    ax.set(xlabel=r'Obs. Wavelength [\\AA]',ylabel=r'$F_\\lambda$')\n",
    "\n",
    "    ax.set_title(title)\n",
    "    # Show figure\n",
    "    pyplot.show()\n",
    "    "
   ]
  },
  {
   "cell_type": "markdown",
   "id": "261b578a-1ba7-4962-9426-7934cd541f34",
   "metadata": {},
   "source": [
    "## Fors2 Interface"
   ]
  },
  {
   "cell_type": "code",
   "execution_count": null,
   "id": "e04be925-79a1-4eb4-a562-aec6f5f164c4",
   "metadata": {},
   "outputs": [],
   "source": [
    "fors2 = Fors2DataAcess()"
   ]
  },
  {
   "cell_type": "markdown",
   "id": "c03eede0-010f-46b5-ad74-b422329f9497",
   "metadata": {},
   "source": [
    "## Gelato Parameters"
   ]
  },
  {
   "cell_type": "code",
   "execution_count": null,
   "id": "772a8e32-87ed-4e8f-9aea-5b9122fe908b",
   "metadata": {},
   "outputs": [],
   "source": [
    "# Path to the parameters file\n",
    "path_params = './ExampleParametersFitInNb.json'\n",
    "\n",
    "# Create Parameters dictionary\n",
    "params_gel = gelato.ConstructParams.construct(path_params)\n",
    "\n",
    "# Set to not multiprocessing\n",
    "params_gel['NProcess'] = 1"
   ]
  },
  {
   "cell_type": "markdown",
   "id": "9f042c9a-f2b3-4f65-aac4-d00aab28d48e",
   "metadata": {},
   "source": [
    "## Table with Spectra name and Redshifts"
   ]
  },
  {
   "cell_type": "code",
   "execution_count": null,
   "id": "70edd15f-a407-44df-a094-32dca907d11f",
   "metadata": {},
   "outputs": [],
   "source": [
    "df = pd.read_csv(\"object_filelist_v0.csv\",index_col=0)"
   ]
  },
  {
   "cell_type": "markdown",
   "id": "3885d4f1-e31c-467b-936a-94ea9a2d85e0",
   "metadata": {},
   "source": [
    "## Input files before the fit, sorting and index"
   ]
  },
  {
   "cell_type": "code",
   "execution_count": null,
   "id": "941987f3-72ba-4dd6-a79f-45407449f419",
   "metadata": {},
   "outputs": [],
   "source": [
    "path = \"./spec_forgelato/v0\""
   ]
  },
  {
   "cell_type": "code",
   "execution_count": null,
   "id": "02162198-b78d-46ef-af60-82c33993a392",
   "metadata": {},
   "outputs": [],
   "source": [
    "list_all_files = os.listdir(path)"
   ]
  },
  {
   "cell_type": "code",
   "execution_count": null,
   "id": "a390bb30-cb57-4b77-beca-d28f480a428c",
   "metadata": {},
   "outputs": [],
   "source": [
    "idx_selected_files = []\n",
    "list_selected_files = []\n",
    "for file in list_all_files:\n",
    "    res = re.findall(\"^specgelato_SPEC.*[.]fits$\",file)\n",
    "    if len(res):\n",
    "        list_selected_files.append(file)\n",
    "        num = int(re.findall(\"specgelato_SPEC(.*)[.]fits$\",file)[0])   \n",
    "        idx_selected_files.append(num)"
   ]
  },
  {
   "cell_type": "code",
   "execution_count": null,
   "id": "d2e208f6-e60c-4030-b521-69a7c7d543c3",
   "metadata": {},
   "outputs": [],
   "source": [
    "idx_selected_files = np.array(idx_selected_files)\n",
    "list_selected_files = np.array(list_selected_files)\n",
    "idx_sorted_files = np.argsort(idx_selected_files)\n",
    "list_sorted_files = list_selected_files[idx_sorted_files]"
   ]
  },
  {
   "cell_type": "code",
   "execution_count": null,
   "id": "50d189c7-c863-4586-996e-a91b993bd60c",
   "metadata": {},
   "outputs": [],
   "source": [
    "NSPEC = len(list_sorted_files)"
   ]
  },
  {
   "cell_type": "markdown",
   "id": "5a151ce2-53d0-4197-b5d8-04db030e1b60",
   "metadata": {},
   "source": [
    "## Choose One file"
   ]
  },
  {
   "cell_type": "code",
   "execution_count": null,
   "id": "7a6770a0-3bd6-4402-99ba-b13dc07444d4",
   "metadata": {},
   "outputs": [],
   "source": [
    "index = 5\n",
    "shortfilename = list_sorted_files[index]\n",
    "fullfilename = os.path.join(path,shortfilename) \n",
    "path_spec = fullfilename\n",
    "tag_spec = re.findall(\".*_(SPEC.*).fits$\", shortfilename)"
   ]
  },
  {
   "cell_type": "code",
   "execution_count": null,
   "id": "f38d74b5-3d2d-40ee-87c3-e20ea8975dce",
   "metadata": {},
   "outputs": [],
   "source": [
    "shortfilename.split('.')[0]"
   ]
  },
  {
   "cell_type": "code",
   "execution_count": null,
   "id": "9788734b-d868-497d-ae1c-8ce6c08c1337",
   "metadata": {},
   "outputs": [],
   "source": [
    "output_filename = shortfilename.split('.')[0] + \"-results.fits\""
   ]
  },
  {
   "cell_type": "code",
   "execution_count": null,
   "id": "a499cdae-a410-416f-bf82-1da46e94271a",
   "metadata": {},
   "outputs": [],
   "source": [
    "output_filename"
   ]
  },
  {
   "cell_type": "code",
   "execution_count": null,
   "id": "256900be-d008-48f0-85b7-4ab836355edc",
   "metadata": {},
   "outputs": [],
   "source": [
    "tag_spec"
   ]
  },
  {
   "cell_type": "markdown",
   "id": "0e14b26c-4426-4e53-a2c8-282638bb9457",
   "metadata": {},
   "source": [
    "#### Find the redshift"
   ]
  },
  {
   "cell_type": "code",
   "execution_count": null,
   "id": "dfdcb213-41c6-4a63-81f6-29b1d535cec1",
   "metadata": {},
   "outputs": [],
   "source": [
    "if len(tag_spec)>0:\n",
    "    tag_spec = tag_spec[0]\n",
    "    all_inputspecfilenames = df.Path.values\n",
    "    for idx_tag,filen in enumerate(all_inputspecfilenames):\n",
    "        if tag_spec in filen:\n",
    "                break\n",
    "\n",
    "    df_row = df.iloc[idx_tag]\n",
    "    redshift = df_row[\"z\"]"
   ]
  },
  {
   "cell_type": "code",
   "execution_count": null,
   "id": "6f337480-ec20-43eb-9fae-bfdf125ffead",
   "metadata": {},
   "outputs": [],
   "source": [
    "spec_name_sel = tag_spec"
   ]
  },
  {
   "cell_type": "code",
   "execution_count": null,
   "id": "12d4ac7e-d523-4060-b07a-3ccbf6d25c81",
   "metadata": {},
   "outputs": [],
   "source": [
    "spec_name_sel"
   ]
  },
  {
   "cell_type": "code",
   "execution_count": null,
   "id": "744d0ebe-d45b-40cc-bfb3-1b961ab2f8f5",
   "metadata": {},
   "outputs": [],
   "source": [
    "# acess to the image array\n",
    "img = fors2.get_specimg(spec_name_sel)\n",
    "\n",
    "# get the image filename and path\n",
    "spec_sec_fileimg = fors2.get_specimgfile(spec_name_sel)"
   ]
  },
  {
   "cell_type": "code",
   "execution_count": null,
   "id": "4d985222-205f-4d15-a569-2fdf785bc7f8",
   "metadata": {},
   "outputs": [],
   "source": [
    "fig = plt.figure(constrained_layout=True,figsize=(12,6))\n",
    "plt.imshow(img)\n",
    "ax = plt.gca()\n",
    "# Hide X and Y axes label marks\n",
    "ax.xaxis.set_tick_params(labelbottom=False)\n",
    "ax.yaxis.set_tick_params(labelleft=False)\n",
    "# Hide X and Y axes tick marks\n",
    "ax.set_xticks([])\n",
    "ax.set_yticks([])\n",
    "plt.show()"
   ]
  },
  {
   "cell_type": "code",
   "execution_count": null,
   "id": "263056a9-b27c-4a33-9077-f6829ab86ca7",
   "metadata": {},
   "outputs": [],
   "source": [
    "print(df_row,redshift)"
   ]
  },
  {
   "cell_type": "code",
   "execution_count": null,
   "id": "c8826071-bd04-464b-9729-b415d7bea551",
   "metadata": {},
   "outputs": [],
   "source": [
    "title = f\"{index}) {output_filename}, z={redshift:.3f}\" "
   ]
  },
  {
   "cell_type": "markdown",
   "id": "114f2b48-270d-48e9-8503-7a6b9f331c57",
   "metadata": {},
   "source": [
    "#### Get the spectrum"
   ]
  },
  {
   "cell_type": "code",
   "execution_count": null,
   "id": "91d72d8a",
   "metadata": {},
   "outputs": [],
   "source": [
    "spectrum = Table.read(path_spec)\n",
    "\n",
    "# Start with inverse variance\n",
    "ivar = spectrum['ivar']\n",
    "good = ivar > 0 # GELATO only looks at points with nonzero weights\n",
    "\n",
    "# Finally, let's load in the data\n",
    "wavl = 10**spectrum['loglam'][good]\n",
    "flux = spectrum['flux'][good]\n",
    "ivar = ivar[good]\n",
    "args = (wavl,flux,ivar) # These will be useful later"
   ]
  },
  {
   "cell_type": "code",
   "execution_count": null,
   "id": "cb517d26-27a6-4d06-8f11-b22ff8ae805b",
   "metadata": {},
   "outputs": [],
   "source": [
    "spectrum[:5]"
   ]
  },
  {
   "cell_type": "markdown",
   "id": "ef6ac810",
   "metadata": {},
   "source": [
    "Let's go ahead and plot our spectrum to get an idea of what we're dealing with."
   ]
  },
  {
   "cell_type": "code",
   "execution_count": null,
   "id": "ff0fd13b",
   "metadata": {},
   "outputs": [],
   "source": [
    "# Create figure\n",
    "fig, ax = pyplot.subplots(figsize=(15,7))\n",
    "\n",
    "# Plot Spectrum\n",
    "sig = 3/np.sqrt(ivar) # 3 Sigma boundary\n",
    "ax.fill_between(wavl,flux-sig,flux+sig,color='gray')\n",
    "ax.step(wavl,flux,where='mid',c='k',lw=0.5)\n",
    "\n",
    "# Axis limits\n",
    "ax.set(xlim=[wavl.min(),wavl.max()],ylim=[0,flux.max()])\n",
    "\n",
    "# Axis labels\n",
    "ax.set(xlabel=r'Obs. Wavelength [\\AA]',ylabel=r'$F_\\lambda$')\n",
    "ax.set_title(title)\n",
    "# Show figure\n",
    "pyplot.show()"
   ]
  },
  {
   "cell_type": "markdown",
   "id": "4aaffa71",
   "metadata": {},
   "source": [
    "The main gelato function takes three inputs.\n",
    "* The path to the parameters file or the parameters dictionary.\n",
    "* The path to the spectrum.\n",
    "* The redshift of the spectrum.\n",
    "\n",
    "We already have the last two, and we need to take a little precaution with the first.\n",
    "The main gelato function will only return the final model if the code is being run without multiprocessing (as the return statement can break Python multiprocessing). So we can either change the Parameters JSON file, or edit the parameters dictionary. "
   ]
  },
  {
   "cell_type": "markdown",
   "id": "baba7e48-d98a-42db-940d-9f7ae2d2d14c",
   "metadata": {},
   "source": [
    "## Output for results"
   ]
  },
  {
   "cell_type": "code",
   "execution_count": null,
   "id": "aba67e5b-e7a1-4822-b863-a2e2ee98ba67",
   "metadata": {},
   "outputs": [],
   "source": [
    "output_path = params_gel['OutFolder']"
   ]
  },
  {
   "cell_type": "code",
   "execution_count": null,
   "id": "84207d32-0a2f-4fc5-8fd3-f60a0e792c2e",
   "metadata": {},
   "outputs": [],
   "source": [
    "output_path_fullfilename = os.path.join(output_path,output_filename)"
   ]
  },
  {
   "cell_type": "markdown",
   "id": "a290115c-c3dd-4e5b-82d8-9a7b3aa8b1ed",
   "metadata": {},
   "source": [
    "## Run Gelato Fit"
   ]
  },
  {
   "cell_type": "markdown",
   "id": "a55b5373",
   "metadata": {},
   "source": [
    "We are now ready to run GELATO. Note, before you do this, ensure the results directory exists, either by running the Example from the README file or creating it. It will return the final callable model, however it won't be used in this notebook. "
   ]
  },
  {
   "cell_type": "code",
   "execution_count": null,
   "id": "59bbef2b",
   "metadata": {},
   "outputs": [],
   "source": [
    "model = gelato.gelato(params_gel,path_spec,redshift)"
   ]
  },
  {
   "cell_type": "code",
   "execution_count": null,
   "id": "46d4d166-f7c8-4ece-8bf8-e00306f196fe",
   "metadata": {},
   "outputs": [],
   "source": []
  },
  {
   "cell_type": "markdown",
   "id": "7306686e-eec2-4df2-b5ce-14d195279d26",
   "metadata": {},
   "source": [
    "## Results"
   ]
  },
  {
   "cell_type": "markdown",
   "id": "d9ee2209",
   "metadata": {},
   "source": [
    "The results have been saved to the \"Results/\" Directory. Let's go ahead and load them in. We will print all extensions on the folder."
   ]
  },
  {
   "cell_type": "code",
   "execution_count": null,
   "id": "0815df14",
   "metadata": {},
   "outputs": [],
   "source": [
    "# Load in results\n",
    "results = fits.open(output_path_fullfilename )\n",
    "\n",
    "# Print FITS extensions\n",
    "results.info()"
   ]
  },
  {
   "cell_type": "markdown",
   "id": "ef7bdfdb",
   "metadata": {},
   "source": [
    "We have two FITS extensions, SUMMARY and PARAMS. They are described in more detail in the README File but let's play around with them directly. Let's go ahead and take a look inside the SUMMARY extension. As we can see, it is a binary FITS Table."
   ]
  },
  {
   "cell_type": "code",
   "execution_count": null,
   "id": "aa5d5647",
   "metadata": {},
   "outputs": [],
   "source": [
    "summary = Table(results['SUMMARY'].data)\n",
    "summary"
   ]
  },
  {
   "cell_type": "markdown",
   "id": "ff74199d",
   "metadata": {},
   "source": [
    "In this table, we have the original spectrum along with the various model components, we can go ahead and plot them."
   ]
  },
  {
   "cell_type": "code",
   "execution_count": null,
   "id": "fe9ba407-cdf0-4b9e-b5d5-7e3a841d8553",
   "metadata": {},
   "outputs": [],
   "source": [
    "df = summary.to_pandas()"
   ]
  },
  {
   "cell_type": "code",
   "execution_count": null,
   "id": "01b0d53c-e9db-40bc-8710-7353cf50dc73",
   "metadata": {},
   "outputs": [],
   "source": [
    "# Create figure\n",
    "fig, ax = pyplot.subplots(figsize=(15,3))\n",
    "\n",
    "# Plot Spectrum\n",
    "ax.step(10**summary['loglam'],summary['LINE'],where='mid',c='y',label='Emission Lines')\n",
    "ax.legend()\n",
    "\n",
    "# Axis limits\n",
    "ax.set(xlim=[wavl.min(),wavl.max()],ylim=[0,flux.max()])\n",
    "# Axis labels\n",
    "ax.set(xlabel=r'Obs. Wavelength [\\AA]',ylabel=r'$F_\\lambda$')\n",
    "ax.set_title(title)\n",
    "ax.grid()\n",
    "# Show figure\n",
    "pyplot.show()"
   ]
  },
  {
   "cell_type": "code",
   "execution_count": null,
   "id": "dcd1823b",
   "metadata": {},
   "outputs": [],
   "source": [
    "# Create figure\n",
    "fig, ax = pyplot.subplots(figsize=(15,7))\n",
    "\n",
    "# Plot Spectrum\n",
    "ax.fill_between(wavl,flux-sig,flux+sig,color='gray')\n",
    "ax.step(wavl,flux,where='mid',c='k',lw=0.5,label='Data')\n",
    "ax.step(10**summary['loglam'],summary['MODEL'],where='mid',c='r',label='Total Model')\n",
    "ax.step(10**summary['loglam'],summary['SSP'],where='mid',c='g',label='SSP Cont.')\n",
    "#ax.step(10**summary['loglam'],summary['PL'],where='mid',c='b',label='Power-Law Cont.')\n",
    "ax.step(10**summary['loglam'],summary['LINE'],where='mid',c='y',label='Emission Lines')\n",
    "ax.legend()\n",
    "\n",
    "# Axis limits\n",
    "ax.set(xlim=[wavl.min(),wavl.max()],ylim=[0,flux.max()])\n",
    "\n",
    "# Axis labels\n",
    "ax.set(xlabel=r'Obs. Wavelength [\\AA]',ylabel=r'$F_\\lambda$')\n",
    "ax.set_title(title)\n",
    "# Show figure\n",
    "pyplot.show()"
   ]
  },
  {
   "cell_type": "markdown",
   "id": "d7a3e294",
   "metadata": {},
   "source": [
    "Looks great! You can see an example of the GELATO generated plots in the results folder, but this will let you incorporate GELATO fits easily into your own work. Let's go ahead and take a look at the PARAMS extension. This is a much larger table! It's made up of the parameters from each bootstrap iteration. "
   ]
  },
  {
   "cell_type": "code",
   "execution_count": null,
   "id": "f1b42701-9d3d-40b3-8563-d223b1af48fb",
   "metadata": {},
   "outputs": [],
   "source": [
    "MySimplePlotSpectrumWithFittedModel(output_path_fullfilename,redshift,title)"
   ]
  },
  {
   "cell_type": "code",
   "execution_count": null,
   "id": "02e5214f-ed92-415d-bcd6-c830cfc67f33",
   "metadata": {},
   "outputs": [],
   "source": [
    "myplotfromresults(params_gel,output_path_fullfilename, redshift)"
   ]
  },
  {
   "cell_type": "code",
   "execution_count": null,
   "id": "80356c36",
   "metadata": {},
   "outputs": [],
   "source": [
    "# Open Parameters extension\n",
    "params_fit = Table(results['PARAMS'].data)\n",
    "print(params_fit)"
   ]
  },
  {
   "cell_type": "code",
   "execution_count": null,
   "id": "18d8b4d1-626c-4521-820c-73654737ba66",
   "metadata": {},
   "outputs": [],
   "source": [
    "params_gel['EmissionGroups']"
   ]
  },
  {
   "cell_type": "code",
   "execution_count": null,
   "id": "0b66b5fe-bd6e-43f6-97b1-f7c9fafef363",
   "metadata": {},
   "outputs": [],
   "source": [
    "for group in params_gel['EmissionGroups']:\n",
    "    info_group = \"Group : \"+ group[\"Name\"]\n",
    "    print(info_group)\n",
    "    all_species = group['Species']\n",
    "    for the_species in all_species:\n",
    "        #info_species = \"\\t  Species : \" + the_species['Name'] + \" FlagGroup :: \" +  the_species['FlagGroups'][0] + \"Nlines = \" + str(len( the_species['Lines'] )) \n",
    "        info_species = \"\\t  Species : \" + the_species['Name']  + \" , Nlines = \" + str(len( the_species['Lines'] )) \n",
    "        print(info_species)"
   ]
  },
  {
   "cell_type": "code",
   "execution_count": null,
   "id": "7ce0fdb9-bb4e-41f1-9136-260f3533ed30",
   "metadata": {},
   "outputs": [],
   "source": [
    " the_species['FlagGroups']"
   ]
  },
  {
   "cell_type": "code",
   "execution_count": null,
   "id": "c9552ea4-b7df-4542-b1a6-dffb9325c390",
   "metadata": {},
   "outputs": [],
   "source": [
    "for col in params_fit.colnames:\n",
    "    print(col)"
   ]
  },
  {
   "cell_type": "code",
   "execution_count": null,
   "id": "93e0eed4-33f3-4689-9e41-7ec35d982195",
   "metadata": {},
   "outputs": [],
   "source": [
    "params_fit[\"SSP_Redshift\"].mean()/C"
   ]
  },
  {
   "cell_type": "code",
   "execution_count": null,
   "id": "5a2f922c-5928-4e6d-83b3-10e38f673010",
   "metadata": {},
   "outputs": [],
   "source": [
    "params_fit[\"SSP_Redshift\"].std()/C"
   ]
  },
  {
   "cell_type": "code",
   "execution_count": null,
   "id": "c85076e8-40eb-4243-b6bb-2acee44d24db",
   "metadata": {},
   "outputs": [],
   "source": [
    "params_fit[\"SSP_Ech1.30Zm0.71T00.0631_iPp0.00_baseFe_LIS5.0\"].mean()"
   ]
  },
  {
   "cell_type": "code",
   "execution_count": null,
   "id": "e6f0cfe2-85fe-4cd0-96aa-6e799a34bc92",
   "metadata": {},
   "outputs": [],
   "source": [
    "params_fit[\"SF_[OII]_3728.48_Flux\"].mean()"
   ]
  },
  {
   "cell_type": "code",
   "execution_count": null,
   "id": "1a8299e9-4cdc-43b9-9cc2-5a887bc01353",
   "metadata": {},
   "outputs": [],
   "source": [
    "params_fit[\"SF_[OII]_3728.48_Flux\"].std()"
   ]
  },
  {
   "cell_type": "markdown",
   "id": "69f1147e",
   "metadata": {},
   "source": [
    "Here we can see all of the fitted model paramters, it's certainly a handful! A quick note, many parameters here are tied together, reducing the degrees of freedom. It's also worth noting the SSP Continuum Redshift and the PL Continuum Scale are not fitted, and so are constant throughout all the bootstraps. Let's go ahead and throw this object onto a BPT diagram!"
   ]
  },
  {
   "cell_type": "code",
   "execution_count": null,
   "id": "5cc6ddbd-1fd2-4c4b-aa26-e15cc8b2cda4",
   "metadata": {},
   "outputs": [],
   "source": [
    "params_fit"
   ]
  },
  {
   "cell_type": "markdown",
   "id": "e3f72ad4",
   "metadata": {},
   "source": [
    "And that's all for this short IPython notebook! GELATO is designed to be run through the wrapper scripts, but hopefully this helps if you want to run in an IPython notebook or to help you understand the GELATO output."
   ]
  }
 ],
 "metadata": {
  "kernelspec": {
   "display_name": "conda_desc_py310_pcigale",
   "language": "python",
   "name": "conda_desc_py310_pcigale"
  },
  "language_info": {
   "codemirror_mode": {
    "name": "ipython",
    "version": 3
   },
   "file_extension": ".py",
   "mimetype": "text/x-python",
   "name": "python",
   "nbconvert_exporter": "python",
   "pygments_lexer": "ipython3",
   "version": "3.10.14"
  }
 },
 "nbformat": 4,
 "nbformat_minor": 5
}

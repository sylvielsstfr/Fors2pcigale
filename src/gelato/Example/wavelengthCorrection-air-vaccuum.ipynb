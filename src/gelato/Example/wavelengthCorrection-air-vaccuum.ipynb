{
 "cells": [
  {
   "cell_type": "markdown",
   "id": "5bb4d0d1-924e-4cdf-8f94-2aeb80136861",
   "metadata": {},
   "source": [
    "# Conversion wavelength vaccum to air"
   ]
  },
  {
   "cell_type": "code",
   "execution_count": null,
   "id": "ad856006-cb8b-4e3f-8e17-0073573e23dc",
   "metadata": {},
   "outputs": [],
   "source": [
    "#import gelato"
   ]
  },
  {
   "cell_type": "code",
   "execution_count": null,
   "id": "bdb403d5-f068-405d-881c-a3a9c5c058db",
   "metadata": {},
   "outputs": [],
   "source": [
    "#dir(gelato)"
   ]
  },
  {
   "cell_type": "code",
   "execution_count": null,
   "id": "4794e61a-c9d8-403b-bb80-a51d56883214",
   "metadata": {},
   "outputs": [],
   "source": [
    "# Import packages\n",
    "import numpy as np\n",
    "from astropy.io import fits\n",
    "from scipy.optimize import minimize"
   ]
  },
  {
   "cell_type": "code",
   "execution_count": null,
   "id": "c9110b3f-d1c6-428d-ba1c-6017eff902cf",
   "metadata": {},
   "outputs": [],
   "source": [
    "%matplotlib inline\n",
    "import matplotlib as mpl\n",
    "mpl.rcParams['font.size'] = 25\n",
    "from matplotlib import pyplot # For plotting\n",
    "import matplotlib.pyplot as plt\n",
    "from mpl_toolkits.axes_grid1.inset_locator import inset_axes\n",
    "from matplotlib.ticker import ScalarFormatter"
   ]
  },
  {
   "cell_type": "code",
   "execution_count": null,
   "id": "e92462d2-b659-4bfb-adae-cb726b8dd57e",
   "metadata": {},
   "outputs": [],
   "source": [
    "# Vaccuum to Air wavelengths (Ciddor 1996)\n",
    "def vacuum_to_air(vacuum): # Input in aangstroms\n",
    "\n",
    "    s = 1e8/(vacuum*vacuum)\n",
    "    f = 1 + 5.792105E-2/(238.0185 - s) + 1.67917E-3/(57.362 - s)\n",
    "    \n",
    "    return vacuum/f\n",
    "\n",
    "# Back out Ciddor using minimization algorithm\n",
    "def air_to_vacuum(air): # Input in aangstroms\n",
    "\n",
    "    if hasattr(air,'__iter__'):\n",
    "\n",
    "        return np.array([air_to_vacuum(a) for a in air])\n",
    "\n",
    "    return minimize(lambda x: np.square(vacuum_to_air(x)-air),air,method='Nelder-Mead').x[0]"
   ]
  },
  {
   "cell_type": "code",
   "execution_count": null,
   "id": "460a289b-6dc8-4282-8f94-1ca18a9c92e4",
   "metadata": {},
   "outputs": [],
   "source": [
    "wl_air = np.linspace(4000.,8000.)"
   ]
  },
  {
   "cell_type": "code",
   "execution_count": null,
   "id": "90ec3151-f635-4da3-94f5-9cde0a38fb66",
   "metadata": {},
   "outputs": [],
   "source": [
    "wl_vac = air_to_vacuum(wl_air)"
   ]
  },
  {
   "cell_type": "code",
   "execution_count": null,
   "id": "46f3c71d-64de-4d32-8e1a-3b8c5a032168",
   "metadata": {},
   "outputs": [],
   "source": [
    "dwl = wl_vac - wl_air"
   ]
  },
  {
   "cell_type": "code",
   "execution_count": null,
   "id": "54640efc-aaf3-49dd-9c9b-3e8abf1fb6cc",
   "metadata": {},
   "outputs": [],
   "source": [
    "plt.plot(wl_air,dwl)"
   ]
  },
  {
   "cell_type": "code",
   "execution_count": null,
   "id": "8576678c-0b97-463f-a7ad-cc3e0ec188cb",
   "metadata": {},
   "outputs": [],
   "source": []
  }
 ],
 "metadata": {
  "kernelspec": {
   "display_name": "conda_desc_py310_pcigale",
   "language": "python",
   "name": "conda_desc_py310_pcigale"
  },
  "language_info": {
   "codemirror_mode": {
    "name": "ipython",
    "version": 3
   },
   "file_extension": ".py",
   "mimetype": "text/x-python",
   "name": "python",
   "nbconvert_exporter": "python",
   "pygments_lexer": "ipython3",
   "version": "3.10.14"
  }
 },
 "nbformat": 4,
 "nbformat_minor": 5
}

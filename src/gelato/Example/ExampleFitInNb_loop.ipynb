{
 "cells": [
  {
   "cell_type": "markdown",
   "id": "115b33fe",
   "metadata": {},
   "source": [
    "Fit a series of spectra\n",
    "----------------------------------\n",
    "\n",
    "First let's import the packages we will need."
   ]
  },
  {
   "cell_type": "markdown",
   "id": "c1746e41-2c71-40d7-9b0d-ae82e5009d9d",
   "metadata": {},
   "source": [
    "\n",
    "Analyse outputs from GELATO fit results on a signe spectrum\n",
    "\n",
    "- author : Sylvie Dagoret-Campagne\n",
    "- creation date : 2024-03-25\n",
    "- update : 2024-05-24\n",
    "\n",
    "\n",
    "- Kernel at CCIN2P3 : ``conda_desc_py310_pcigale``\n",
    "- Kernel on my laptop : ``pcigale``"
   ]
  },
  {
   "cell_type": "markdown",
   "id": "b3091bf0-a25e-4d88-b474-a21218c0578a",
   "metadata": {},
   "source": [
    "# Create dir\n",
    "  ``ResultsFitInNb/``"
   ]
  },
  {
   "cell_type": "code",
   "execution_count": null,
   "id": "54f68d58",
   "metadata": {},
   "outputs": [],
   "source": [
    "# Import packages\n",
    "import gelato\n",
    "import numpy as np\n",
    "%matplotlib inline\n",
    "import matplotlib as mpl\n",
    "mpl.rcParams['font.size'] = 25\n",
    "from matplotlib import pyplot # For plotting\n",
    "import matplotlib.pyplot as plt\n",
    "from mpl_toolkits.axes_grid1.inset_locator import inset_axes\n",
    "# For loading in data\n",
    "from astropy.io import fits\n",
    "from astropy.table import Table \n",
    "import os,re\n",
    "import pandas as pd"
   ]
  },
  {
   "cell_type": "code",
   "execution_count": null,
   "id": "a1165b3e-5aae-418d-8df8-960882741d79",
   "metadata": {},
   "outputs": [],
   "source": [
    "from astropy.modeling import models, fitting\n",
    "from astropy import modeling\n",
    "# define a model for a line\n",
    "g_init = models.Gaussian1D(amplitude=1, mean=0, stddev=1)\n",
    "# initialize a linear fitter\n",
    "fit_g = fitting.LevMarLSQFitter()"
   ]
  },
  {
   "cell_type": "code",
   "execution_count": null,
   "id": "a87cf48a-67b5-46cd-a596-3fdc29c671d9",
   "metadata": {},
   "outputs": [],
   "source": [
    "from fors2pcigale.fors2starlightio import Fors2DataAcess"
   ]
  },
  {
   "cell_type": "code",
   "execution_count": null,
   "id": "c140c518-92c9-4b81-8a42-276a519d7b0a",
   "metadata": {},
   "outputs": [],
   "source": [
    "#from gelato.Plotting import  Plot, PlotFig,subplotplot\n",
    "#from gelato.Plotting import subplotplot\n",
    "from gelato.Plotting import logbarrier\n",
    "from scipy.optimize import minimize\n",
    "\n",
    "#import gelato.ConstructParams as CP\n",
    "\n",
    "import gelato.Utility as U\n",
    "import gelato.Plotting as P\n",
    "import gelato.ConstructParams as CP\n",
    "\n",
    "# GELATO\n",
    "import gelato.Utility as U\n",
    "import gelato.CustomModels as CM\n",
    "import gelato.SpectrumClass as SC\n",
    "\n",
    "from gelato.Constants import C"
   ]
  },
  {
   "cell_type": "code",
   "execution_count": null,
   "id": "87fba0dc-94e2-4672-9fba-bba480685fc6",
   "metadata": {},
   "outputs": [],
   "source": [
    "from libExampleFitInNb import *"
   ]
  },
  {
   "cell_type": "markdown",
   "id": "261b578a-1ba7-4962-9426-7934cd541f34",
   "metadata": {},
   "source": [
    "## Fors2 Interface"
   ]
  },
  {
   "cell_type": "code",
   "execution_count": null,
   "id": "e04be925-79a1-4eb4-a562-aec6f5f164c4",
   "metadata": {},
   "outputs": [],
   "source": [
    "fors2 = Fors2DataAcess()"
   ]
  },
  {
   "cell_type": "markdown",
   "id": "4dc42502-00af-43c2-bbb1-bee0f4a9e6ec",
   "metadata": {},
   "source": [
    "## Config"
   ]
  },
  {
   "cell_type": "code",
   "execution_count": null,
   "id": "08ec6e9c-e0f8-4e49-a170-81abcac20ea6",
   "metadata": {},
   "outputs": [],
   "source": [
    "version = \"v2\""
   ]
  },
  {
   "cell_type": "markdown",
   "id": "c03eede0-010f-46b5-ad74-b422329f9497",
   "metadata": {},
   "source": [
    "## Gelato Parameters"
   ]
  },
  {
   "cell_type": "code",
   "execution_count": null,
   "id": "772a8e32-87ed-4e8f-9aea-5b9122fe908b",
   "metadata": {},
   "outputs": [],
   "source": [
    "# Path to the parameters file\n",
    "#path_params = './ExampleParametersFitInNb.json'\n",
    "path_params = f\"./ExampleParametersFitInNb_{version}.json\"\n",
    "\n",
    "# Create Parameters dictionary\n",
    "params_gel = gelato.ConstructParams.construct(path_params)\n",
    "\n",
    "# Set to not multiprocessing\n",
    "params_gel['NProcess'] = 1\n",
    "params_gel['Verbose'] = False"
   ]
  },
  {
   "cell_type": "code",
   "execution_count": null,
   "id": "403083b0-0cab-4eba-b3cf-c5b02c41b6dc",
   "metadata": {},
   "outputs": [],
   "source": [
    "params_gel['EmissionGroups']"
   ]
  },
  {
   "cell_type": "code",
   "execution_count": null,
   "id": "29f0c52e-3a6e-46bc-ab64-b024fc03ba77",
   "metadata": {},
   "outputs": [],
   "source": [
    "for group in params_gel['EmissionGroups']:\n",
    "    info_group = \"Group : \"+ group[\"Name\"]\n",
    "    print(info_group)\n",
    "    all_species = group['Species']\n",
    "    for the_species in all_species:\n",
    "        #info_species = \"\\t  Species : \" + the_species['Name'] + \" FlagGroup :: \" +  the_species['FlagGroups'][0] + \"Nlines = \" + str(len( the_species['Lines'] )) \n",
    "        info_species = \"\\t  Species : \" + the_species['Name']  + \" , Nlines = \" + str(len( the_species['Lines'] )) \n",
    "        print(info_species)"
   ]
  },
  {
   "cell_type": "markdown",
   "id": "9f042c9a-f2b3-4f65-aac4-d00aab28d48e",
   "metadata": {},
   "source": [
    "## Table with Spectra name and Redshifts"
   ]
  },
  {
   "cell_type": "code",
   "execution_count": null,
   "id": "70edd15f-a407-44df-a094-32dca907d11f",
   "metadata": {},
   "outputs": [],
   "source": [
    "#df_objlist = pd.read_csv(\"object_filelist_v0.csv\",index_col=0)\n",
    "filename_object_file_list = f\"object_filelist_{version}.csv\"\n",
    "df_objlist = pd.read_csv(filename_object_file_list,index_col=0)"
   ]
  },
  {
   "cell_type": "markdown",
   "id": "3885d4f1-e31c-467b-936a-94ea9a2d85e0",
   "metadata": {},
   "source": [
    "## Input files before the fit, sorting and index"
   ]
  },
  {
   "cell_type": "code",
   "execution_count": null,
   "id": "941987f3-72ba-4dd6-a79f-45407449f419",
   "metadata": {},
   "outputs": [],
   "source": [
    "#path = \"./spec_forgelato/v0\"\n",
    "path = f\"./spec_forgelato/{version}\""
   ]
  },
  {
   "cell_type": "code",
   "execution_count": null,
   "id": "02162198-b78d-46ef-af60-82c33993a392",
   "metadata": {},
   "outputs": [],
   "source": [
    "list_all_files = os.listdir(path)"
   ]
  },
  {
   "cell_type": "code",
   "execution_count": null,
   "id": "a390bb30-cb57-4b77-beca-d28f480a428c",
   "metadata": {},
   "outputs": [],
   "source": [
    "idx_selected_files = []\n",
    "list_selected_files = []\n",
    "for file in list_all_files:\n",
    "    res = re.findall(\"^specgelato_SPEC.*[.]fits$\",file)\n",
    "    if len(res):\n",
    "        list_selected_files.append(file)\n",
    "        num = int(re.findall(\"specgelato_SPEC(.*)[.]fits$\",file)[0])   \n",
    "        idx_selected_files.append(num)"
   ]
  },
  {
   "cell_type": "code",
   "execution_count": null,
   "id": "d2e208f6-e60c-4030-b521-69a7c7d543c3",
   "metadata": {},
   "outputs": [],
   "source": [
    "idx_selected_files = np.array(idx_selected_files)\n",
    "list_selected_files = np.array(list_selected_files)\n",
    "idx_sorted_files = np.argsort(idx_selected_files)\n",
    "list_sorted_files = list_selected_files[idx_sorted_files]"
   ]
  },
  {
   "cell_type": "code",
   "execution_count": null,
   "id": "50d189c7-c863-4586-996e-a91b993bd60c",
   "metadata": {},
   "outputs": [],
   "source": [
    "NSPEC = len(list_sorted_files)"
   ]
  },
  {
   "cell_type": "code",
   "execution_count": null,
   "id": "9b4974a5-45aa-42f1-aa95-846f3b20ab5e",
   "metadata": {},
   "outputs": [],
   "source": [
    "print(f\"Number of Spectra : {NSPEC}\")"
   ]
  },
  {
   "cell_type": "markdown",
   "id": "7bf2a4eb-0f5d-4f9c-b136-452478732c13",
   "metadata": {},
   "source": [
    "### Output path"
   ]
  },
  {
   "cell_type": "code",
   "execution_count": null,
   "id": "6b4ab352-b0a6-4cd6-80a1-fd52ce62c37e",
   "metadata": {},
   "outputs": [],
   "source": [
    "#Output path \n",
    "output_path = params_gel['OutFolder']\n",
    "print(f\"output_path defined in json file : {output_path}\")"
   ]
  },
  {
   "cell_type": "code",
   "execution_count": null,
   "id": "8f1c155b-4c4c-4f81-a5bb-5bcebdf400b5",
   "metadata": {},
   "outputs": [],
   "source": [
    "if not os.path.isdir(output_path):\n",
    "    os.mkdir(output_path)"
   ]
  },
  {
   "cell_type": "markdown",
   "id": "5a151ce2-53d0-4197-b5d8-04db030e1b60",
   "metadata": {},
   "source": [
    "## Loop on files"
   ]
  },
  {
   "cell_type": "code",
   "execution_count": null,
   "id": "b5f75e5f-de14-4b2b-b0cc-e711a61fa8e2",
   "metadata": {},
   "outputs": [],
   "source": [
    "NStart = 190\n",
    "NStop = 550\n",
    "\n",
    "outputpathname  = os.path.basename(params_gel['OutFolder'])\n",
    "filename_processing_final = f\"runFinalStatus_fitgenato_{NStart}-{NStop}_{outputpathname}.csv\"\n",
    "filename_processing_previous = f\"runCurrentStatus_fitgenato_{NStart}-{NStart}_{outputpathname}.csv\"\n",
    "df_processing = pd.DataFrame(columns=['index','tag','redshift','fitstatus','rchi2_m','r_chi2_std','redshift_m','redshift_std','exception'])\n",
    "\n",
    "print(filename_processing_final)\n",
    "print(filename_processing_previous)\n",
    "\n",
    "\n",
    "for index in range(NStart,NStop):\n",
    "    \n",
    "    filename_processing_current = f\"runCurrentStatus_fitgenato_{NStart}-{index}_{outputpathname}.csv\"\n",
    "    print(filename_processing_current)\n",
    "    \n",
    "    shortfilename = list_sorted_files[index]\n",
    "    fullfilename = os.path.join(path,shortfilename) \n",
    "    path_spec = fullfilename\n",
    "    tag_spec = re.findall(\".*_(SPEC.*).fits$\", shortfilename)\n",
    "\n",
    "    #define outputfilenames\n",
    "    output_filename = shortfilename.split('.')[0] + \"-results.fits\"\n",
    "    output_filename_pulls = shortfilename.split('.')[0] + \"-pulls-results.csv\"\n",
    "    output_filename_emissionlines = shortfilename.split('.')[0] + \"-emissionlines-results.csv\"\n",
    "\n",
    "    #find the redshift\n",
    "    if len(tag_spec)>0:\n",
    "        tag_spec = tag_spec[0]\n",
    "        all_inputspecfilenames = df_objlist.Path.values\n",
    "        for idx_tag,filen in enumerate(all_inputspecfilenames):\n",
    "            if tag_spec in filen:\n",
    "                break\n",
    "\n",
    "    df_row = df_objlist.iloc[idx_tag]\n",
    "    redshift = df_row[\"z\"]\n",
    "\n",
    "   \n",
    "\n",
    "    spec_name_sel = tag_spec\n",
    "    title = f\"{index}) {output_filename}, z={redshift:.3f}\" \n",
    "    \n",
    "    print(index,spec_name_sel,\"redshift\",df_row,redshift)\n",
    "    print(title)\n",
    "\n",
    "    # acess to the image array\n",
    "    img = fors2.get_specimg(spec_name_sel)\n",
    "\n",
    "    # get the image filename and path\n",
    "    spec_sec_fileimg = fors2.get_specimgfile(spec_name_sel)\n",
    "\n",
    "    # Show original image\n",
    "    if 1:\n",
    "        fig = plt.figure(constrained_layout=True,figsize=(12,6))\n",
    "        plt.imshow(img)\n",
    "        ax = plt.gca()\n",
    "        # Hide X and Y axes label marks\n",
    "        ax.xaxis.set_tick_params(labelbottom=False)\n",
    "        ax.yaxis.set_tick_params(labelleft=False)\n",
    "        # Hide X and Y axes tick marks\n",
    "        ax.set_xticks([])\n",
    "        ax.set_yticks([])\n",
    "        plt.show()\n",
    "\n",
    "    \n",
    "    # case when the input file does not exist\n",
    "    if not os.path.exists(path_spec):\n",
    "        msg = f\"Input spectrum file {path_spec} does not exists\"\n",
    "        df_processing.loc[index] = [index, tag_spec, redshift,False,-1, -1,-1, -1,msg]\n",
    "        # handle temporary file\n",
    "        df_processing.to_csv(filename_processing_current)\n",
    "        if index !=NStart and os.path.exists(filename_processing_previous):\n",
    "            os.remove(filename_processing_previous)\n",
    "        filename_processing_previous = filename_processing_current\n",
    "        continue\n",
    "        \n",
    "    #Get the spectrum\n",
    "    spectrum = Table.read(path_spec)\n",
    "    # Start with inverse variance\n",
    "    ivar = spectrum['ivar']\n",
    "    good = ivar > 0 # GELATO only looks at points with nonzero weights\n",
    "    # Finally, let's load in the data\n",
    "    wavl = 10**spectrum['loglam'][good]\n",
    "    flux = spectrum['flux'][good]\n",
    "    ivar = ivar[good]\n",
    "    args = (wavl,flux,ivar) # These will be useful later\n",
    "\n",
    "    # show the spectrum and 1-sigma boundary\n",
    "    if 0:\n",
    "        # Create figure\n",
    "        fig, ax = pyplot.subplots(figsize=(15,7))\n",
    "\n",
    "        # Plot Spectrum\n",
    "        sig = 1/np.sqrt(ivar) # 1 Sigma boundary\n",
    "        ax.fill_between(wavl,flux-sig,flux+sig,color='gray')\n",
    "        ax.step(wavl,flux,where='mid',c='k',lw=0.5)\n",
    "\n",
    "        # Axis limits\n",
    "        ax.set(xlim=[wavl.min(),wavl.max()],ylim=[0,flux.max()])\n",
    "\n",
    "        # Axis labels\n",
    "        ax.set(xlabel=r'Obs. Wavelength [\\AA]',ylabel=r'$F_\\lambda$')\n",
    "        ax.set_title(title)\n",
    "        # Show figure\n",
    "        pyplot.show()\n",
    "\n",
    "  \n",
    "    output_path_fullfilename = os.path.join(output_path,output_filename)\n",
    "    output_path_fullfilename_pulls = os.path.join(output_path,output_filename_pulls)\n",
    "    output_path_fullfilename_emissionlines = os.path.join(output_path,output_filename_emissionlines)\n",
    "    \n",
    "    # Run gelato fit\n",
    "    model = gelato.gelato(params_gel,path_spec,redshift)\n",
    "\n",
    "    #result\n",
    "    # Load in results\n",
    "    results = fits.open(output_path_fullfilename)\n",
    "\n",
    "    # Print FITS extensions\n",
    "    #print(results.info())\n",
    "\n",
    "    #get summary\n",
    "    summary = Table(results['SUMMARY'].data)\n",
    "    df = summary.to_pandas()\n",
    "    #print(df)\n",
    "\n",
    "    #emissionline plot\n",
    "    if 0:\n",
    "        # Create figure\n",
    "        fig, ax = pyplot.subplots(figsize=(15,3))\n",
    "\n",
    "        # Plot Spectrum\n",
    "        ax.step(10**summary['loglam'],summary['LINE'],where='mid',c='y',label='Emission Lines')\n",
    "        ax.legend()\n",
    "\n",
    "        # Axis limits\n",
    "        ax.set(xlim=[wavl.min(),wavl.max()],ylim=[0,flux.max()])\n",
    "        # Axis labels\n",
    "        ax.set(xlabel=r'Obs. Wavelength [\\AA]',ylabel=r'$F_\\lambda$')\n",
    "        ax.set_title(title)\n",
    "        ax.grid()\n",
    "        # Show figure\n",
    "        pyplot.show()\n",
    "\n",
    "    if 0:\n",
    "        # Create figure\n",
    "        fig, ax = pyplot.subplots(figsize=(15,7))\n",
    "\n",
    "        # Plot Spectrum\n",
    "        ax.fill_between(wavl,flux-sig,flux+sig,color='gray')\n",
    "        ax.step(wavl,flux,where='mid',c='k',lw=0.5,label='Data')\n",
    "        ax.step(10**summary['loglam'],summary['MODEL'],where='mid',c='r',label='Total Model')\n",
    "        ax.step(10**summary['loglam'],summary['SSP'],where='mid',c='g',label='SSP Cont.')\n",
    "        #ax.step(10**summary['loglam'],summary['PL'],where='mid',c='b',label='Power-Law Cont.')\n",
    "        ax.step(10**summary['loglam'],summary['LINE'],where='mid',c='y',label='Emission Lines')\n",
    "        ax.legend()\n",
    "\n",
    "        # Axis limits\n",
    "        ax.set(xlim=[wavl.min(),wavl.max()],ylim=[0,flux.max()])\n",
    "\n",
    "        # Axis labels\n",
    "        ax.set(xlabel=r'Obs. Wavelength [\\AA]',ylabel=r'$F_\\lambda$')\n",
    "        ax.set_title(title)\n",
    "        # Show figure\n",
    "        pyplot.show()\n",
    "\n",
    "    # I do my plot results\n",
    "    ### A very simple view of fit results \n",
    "    if 0:\n",
    "        MySimplePlotSpectrumWithFittedModel(output_path_fullfilename,redshift,title)\n",
    "\n",
    "   \n",
    "    try:\n",
    "        # access to spectrum directly\n",
    "        spectrum = SC.Spectrum(output_path_fullfilename,redshift,params_gel)\n",
    "\n",
    "        # extract the pulls\n",
    "        the_pulls = myplotfromresults(params_gel,output_path_fullfilename, redshift)\n",
    "        # build the pulls table\n",
    "        pulls_table = build_pulls_table(spectrum,the_pulls)\n",
    "        #save the pulls\n",
    "        pulls_table.to_csv(output_path_fullfilename_pulls) \n",
    "        print(pulls_table)\n",
    "\n",
    "        #go to the fit results\n",
    "        # Open Parameters extension\n",
    "        params_fit = Table(results['PARAMS'].data)\n",
    "        #print(params_fit)\n",
    "\n",
    "        fitted_redshift_mean = params_fit[\"SSP_Redshift\"].mean()/C\n",
    "        fitted_redshift_std = params_fit[\"SSP_Redshift\"].std()/C\n",
    "        fitted_rchi2_mean = params_fit[\"rChi2\"].mean()\n",
    "        fitted_rchi2_std = params_fit[\"rChi2\"].mean()\n",
    "\n",
    "        #get the emission-lines results\n",
    "        emissionlines_table = DecodeParamsFitEmissionLines(params_fit)\n",
    "        #save emission-lines\n",
    "        emissionlines_table.to_csv(output_path_fullfilename_emissionlines)\n",
    "        print(emissionlines_table)\n",
    "   \n",
    "        #df_processing = pd.DataFrame(columns=['index','tag','redshift','fitstatus','rchi2_m','r_chi2_std','redshift_m','redshift_std'])\n",
    "        df_processing.loc[index] = [index, tag_spec, redshift,True,fitted_rchi2_mean, fitted_rchi2_std,fitted_redshift_mean, fitted_redshift_std,\"No\"]\n",
    "\n",
    "    except Exception as inst:\n",
    "        print(f\">>>>>>>>>> Exception cautch for ==={index} )========{tag_spec}==== \")\n",
    "        print(type(inst))    # the exception type\n",
    "        print(inst.args)     # arguments stored in .args\n",
    "        print(inst)          # __str__ allows args to be printed directly,\n",
    "        df_processing.loc[index] = [index, tag_spec, redshift,False,-1, -1,-1, -1,inst]\n",
    "        \n",
    "    \n",
    "    # handle temprary file\n",
    "    df_processing.to_csv(filename_processing_current)\n",
    "    if index !=NStart and os.path.exists(filename_processing_previous):\n",
    "        os.remove(filename_processing_previous)\n",
    "    filename_processing_previous = filename_processing_current\n",
    "        \n",
    "    \n",
    "    "
   ]
  },
  {
   "cell_type": "markdown",
   "id": "e0808527-b6e9-4e65-b3bf-f4049baa3515",
   "metadata": {},
   "source": [
    "# Save file status"
   ]
  },
  {
   "cell_type": "code",
   "execution_count": null,
   "id": "9470ef5a-a941-4047-b9cc-ca82a68d2fee",
   "metadata": {},
   "outputs": [],
   "source": [
    "df_processing"
   ]
  },
  {
   "cell_type": "code",
   "execution_count": null,
   "id": "7d459266-fa1b-4153-acaa-bd72b8dfd66c",
   "metadata": {},
   "outputs": [],
   "source": [
    "df_processing.to_csv(filename_processing_final) "
   ]
  },
  {
   "cell_type": "code",
   "execution_count": null,
   "id": "3edfd4e4-3a08-4f4a-91a8-73f07257bcf0",
   "metadata": {},
   "outputs": [],
   "source": []
  }
 ],
 "metadata": {
  "kernelspec": {
   "display_name": "conda_desc_py310_pcigale",
   "language": "python",
   "name": "conda_desc_py310_pcigale"
  },
  "language_info": {
   "codemirror_mode": {
    "name": "ipython",
    "version": 3
   },
   "file_extension": ".py",
   "mimetype": "text/x-python",
   "name": "python",
   "nbconvert_exporter": "python",
   "pygments_lexer": "ipython3",
   "version": "3.10.14"
  }
 },
 "nbformat": 4,
 "nbformat_minor": 5
}

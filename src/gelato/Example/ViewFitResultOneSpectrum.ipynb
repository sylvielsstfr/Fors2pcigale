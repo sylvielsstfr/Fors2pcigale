{
 "cells": [
  {
   "cell_type": "markdown",
   "id": "115b33fe",
   "metadata": {},
   "source": [
    "View Fit Result on A single Spectrum\n",
    "------------------------------------\n",
    "\n",
    "\n",
    "Analyse outputs from GELATO fit results on a signe spectrum\n",
    "\n",
    "- author : Sylvie Dagoret-Campagne\n",
    "- creation date : 2024-03-25\n",
    "- update : 2024-04-17\n",
    "\n",
    "\n",
    "- Kernel at CCIN2P3 : ``conda_desc_py310_pcigale``\n"
   ]
  },
  {
   "cell_type": "code",
   "execution_count": null,
   "id": "54f68d58",
   "metadata": {},
   "outputs": [],
   "source": [
    "# Import packages\n",
    "import gelato\n",
    "import numpy as np\n",
    "%matplotlib inline\n",
    "import matplotlib as mpl\n",
    "mpl.rcParams['font.size'] = 25\n",
    "from matplotlib import pyplot # For plotting\n",
    "import matplotlib.pyplot as plt\n",
    "from mpl_toolkits.axes_grid1.inset_locator import inset_axes\n",
    "# For loading in data\n",
    "from astropy.io import fits\n",
    "from astropy.table import Table \n",
    "import os\n",
    "import re\n",
    "from collections import OrderedDict\n",
    "import pandas as pd"
   ]
  },
  {
   "cell_type": "code",
   "execution_count": null,
   "id": "509c8068-7bcd-435b-b191-ba276c8c9d92",
   "metadata": {},
   "outputs": [],
   "source": [
    "#from gelato.Plotting import  Plot, PlotFig,subplotplot\n",
    "#from gelato.Plotting import subplotplot\n",
    "from gelato.Plotting import logbarrier\n",
    "from scipy.optimize import minimize\n",
    "\n",
    "#import gelato.ConstructParams as CP\n",
    "\n",
    "import gelato.Utility as U\n",
    "import gelato.Plotting as P\n",
    "import gelato.ConstructParams as CP\n",
    "\n",
    "# GELATO\n",
    "import gelato.Utility as U\n",
    "import gelato.CustomModels as CM\n",
    "import gelato.SpectrumClass as SC\n"
   ]
  },
  {
   "cell_type": "markdown",
   "id": "c300bc6b-c5d3-4716-9fa4-c6bcdd044a58",
   "metadata": {},
   "source": [
    "### redefined functions of GELATO to View in notebook"
   ]
  },
  {
   "cell_type": "code",
   "execution_count": null,
   "id": "d460f7d4-35ad-46da-9f20-347c0569d75e",
   "metadata": {},
   "outputs": [],
   "source": [
    "# Add Linelabels\n",
    "def Mysubplotplot(pt,fax,rax,hax,spectrum,args,f):\n",
    "    \n",
    "    # Unpack\n",
    "    wav,flux,isig = args\n",
    "\n",
    "    # Plot data\n",
    "    fax.step(wav,flux,'gray',where='mid')\n",
    "\n",
    "    # Plot model(s)\n",
    "    # for p in parameters:\n",
    "    #     fax.step(wav,model.evaluate(p,*args),'r',where='mid',alpha=0.5)\n",
    "    fax.step(wav,f,'r',where='mid')\n",
    "    \n",
    "    # Base Y axis on flux\n",
    "    ymin = np.max([0,flux.min()])\n",
    "    dy = flux.max() - ymin\n",
    "    ylim = [ymin,ymin+1.3*dy] # Increase Axis size by 20%\n",
    "    text_height = ymin+1.2*dy \n",
    "\n",
    "    # Get Line Names/Positions\n",
    "    linelocs = []\n",
    "    linelabels = []\n",
    "    for group in spectrum.p['EmissionGroups']:\n",
    "        for species in group['Species']:\n",
    "            if species['Flag'] >= 0:\n",
    "                for line in species['Lines']:\n",
    "                    x = line['Wavelength']*(1+spectrum.z)\n",
    "                    if ((x < wav[-1]) and (x > wav[0])):\n",
    "                        linelocs.append(x)\n",
    "                        linelabels.append(species['Name'])\n",
    "\n",
    "    # If we have lines to plot\n",
    "    if len(linelocs) > 0:\n",
    "\n",
    "        # Reorder line positions\n",
    "        inds = np.argsort(linelocs)\n",
    "        linelocs = np.array(linelocs)[inds]\n",
    "        linelabels = np.array(linelabels)[inds]\n",
    "\n",
    "        # Log barrier constraints\n",
    "        norm = 60 if pt == 0 else 20 # Magic numbers for line spacing\n",
    "        x0 = np.linspace(wav.min(),wav.max(),len(inds)+2)[1:-1] # Initial guess\n",
    "        linelabellocs = minimize(logbarrier,x0,args=(wav,linelocs,norm),method='Nelder-Mead',options={'adaptive':True,'maxiter':len(inds)*750}).x\n",
    "\n",
    "        # Plot names\n",
    "        for lineloc,linelabel,linelabelloc in zip(linelocs,linelabels,linelabellocs):\n",
    "            # Text\n",
    "            fax.text(linelabelloc,text_height,linelabel,rotation=90,fontsize=12,ha='center',va='center')\n",
    "            # Plot Lines\n",
    "            fax.plot([lineloc,lineloc,linelabelloc,linelabelloc],[ymin+dy*1.01,ymin+dy*1.055,ymin+dy*1.075,ymin+dy*1.12],ls='-',c='gray',lw=0.25)\n",
    "\n",
    "    # Axis labels and limits\n",
    "    fax.set(ylabel=r'$F_\\lambda$ ['+spectrum.p['FlamUnits']+']',ylim=ylim)\n",
    "    fax.set(yticks=[t for t in fax.get_yticks() if (t > ymin+0.05*dy) and (t < ylim[-1])],xlim=[wav.min(),wav.max()],xticklabels=[])\n",
    "    \n",
    "    \n",
    "   \n",
    "    \n",
    "    # Residual Axis\n",
    "    \n",
    "    pulls = (flux - f)*isig\n",
    "    p_m = np.mean(pulls)\n",
    "    p_s = np.std(pulls)\n",
    "    p_l = f\"pulls = {p_m:.1f} +/- {p_s:.1f}\"\n",
    "    \n",
    "    rax.step(wav,pulls,'gray',where='mid')\n",
    "    ymax = np.max(np.abs(rax.get_ylim()))\n",
    "    rax.set(xlim=[wav.min(),wav.max()],xlabel=r'Observed Wavelength [\\AA]',ylim=[-ymax,ymax])\n",
    "    rax.set_ylabel('Deviation',fontsize=15)\n",
    "    \n",
    "    if pt == 0:\n",
    "        inset_rax = inset_axes(rax,\n",
    "                    width=\"20%\", # width = 30% of parent_bbox\n",
    "                    height=\"80%\", # height : 1 inch\n",
    "                    loc=4)\n",
    "        inset_rax.hist(pulls,bins=30,range=(-5,5),density=True, histtype='step', facecolor='g',lw=2,color=\"g\",label=p_l)\n",
    "        inset_rax.set_xlabel(\"pulls\")\n",
    "        inset_rax.legend(loc=\"upper right\",prop={'size': 16})\n",
    "        \n",
    "    \n",
    "    elif pt>0 and hax!= None:\n",
    "        \n",
    "        hax.hist(pulls,bins=30,range=(-5,5),density=True, histtype='step', facecolor='g',lw=2,color=\"g\",label=p_l)\n",
    "        hax.set_xlabel(\"pulls\")\n",
    "        hax.legend(loc=\"upper right\",prop={'size': 16})\n",
    "    return ymin"
   ]
  },
  {
   "cell_type": "code",
   "execution_count": null,
   "id": "411c2cb1-6f9d-4664-bdd4-38dbd75b4fcb",
   "metadata": {},
   "outputs": [],
   "source": [
    "# Overwrite functions from GELATO to view results in a notebook\n",
    "\n",
    "from matplotlib import rcParams,pyplot\n",
    "def MyPlotFig(spectrum,model,parameters,fpath,plottype=0):\n",
    "\n",
    "    # Calculate Medians\n",
    "    medians = np.median(parameters,0)\n",
    "\n",
    "    # Make figure name\n",
    "    #figname = U.fileName(path.split(fpath)[-1])+'-'  OLD\n",
    "    figname= U.fileName(fullfilename.split(\"/\")[-1].split(\".\")[0])+'-'  #SDC\n",
    "    \n",
    "    if plottype == 0:\n",
    "        figname += 'spec'\n",
    "    elif plottype == 1:\n",
    "        figname += 'fit'\n",
    "    elif plottype == 2:\n",
    "        figname += 'comp'\n",
    "\n",
    "  \n",
    "    # Get transform for secondary axis\n",
    "    transform = (lambda obs: obs / (1 + spectrum.z), lambda rest: rest * (1 + spectrum.z))\n",
    "\n",
    "    if plottype == 0:\n",
    "\n",
    "        # Make figure\n",
    "        fig = pyplot.figure(figsize=(15,10))\n",
    "        gs = fig.add_gridspec(ncols=1,nrows=2,height_ratios=[4,1],hspace=0)\n",
    "\n",
    "        # Get Spectrum\n",
    "        wav     = spectrum.wav\n",
    "        flux    = spectrum.flux\n",
    "        isig    = spectrum.isig\n",
    "\n",
    "        # Model prediction\n",
    "        args = wav,flux,isig\n",
    "        f = model.evaluate(medians,*args)\n",
    "\n",
    "        # Add axes flux axis and residuals axis\n",
    "        fax,rax = fig.add_subplot(gs[0,0]),fig.add_subplot(gs[1,0])\n",
    "\n",
    "        # Plot Power Law\n",
    "        if 'PowerLaw_Index' in model.get_names():\n",
    "            continuum = CM.CompoundModel(model.models[1:2]).evaluate(medians[model.models[0].nparams:],*args)\n",
    "            fax.step(wav,continuum,'k',ls='--',where='mid')\n",
    "\n",
    "        # Plot model(s)\n",
    "        #for p in parameters:\n",
    "        #     fax.step(wav,model.evaluate(p,*args),'r',where='mid',alpha=0.5)\n",
    "        fax.step(wav,f,'r',where='mid')\n",
    "\n",
    "        # Subplot plotting\n",
    "        hax=None\n",
    "        Mysubplotplot(plottype,fax,rax,hax,spectrum,args,f)\n",
    "\n",
    "        # Add secondary axis\n",
    "        rax.secondary_xaxis('top', functions=transform).set(xticklabels=[])\n",
    "        fax.secondary_xaxis('top', functions=transform).set_xlabel('Rest Wavelength [\\AA]',labelpad=10)\n",
    "        rax.axhline(0,color=\"b\")\n",
    "            \n",
    "    elif plottype > 0:\n",
    "\n",
    "        # Make figure\n",
    "        ncols   = len(spectrum.regions)\n",
    "        fig = pyplot.figure(figsize = (5*ncols,10))\n",
    "        gs = fig.add_gridspec(ncols=ncols,nrows=3,height_ratios=[3,1,2],hspace=0)\n",
    "\n",
    "        # Continuum and Model\n",
    "        args = spectrum.wav,spectrum.flux,spectrum.isig\n",
    "        if 'PowerLaw_Index' in model.get_names():\n",
    "            continuum = CM.CompoundModel(model.models[0:2]).evaluate(medians,*args)\n",
    "        else: \n",
    "            continuum = CM.CompoundModel(model.models[0:1]).evaluate(medians,*args)\n",
    "        f = model.evaluate(medians,*args)\n",
    "        \n",
    "        # Iterate over regions\n",
    "        for i,region in enumerate(spectrum.regions):\n",
    "\n",
    "            # Get Spectrum\n",
    "            good    = np.logical_and(spectrum.wav < region[1],spectrum.wav > region[0])\n",
    "            wav     = spectrum.wav[good]\n",
    "            flux    = spectrum.flux[good]\n",
    "            isig    = spectrum.isig[good]\n",
    "            args    = wav,flux,isig\n",
    "\n",
    "            # Add Axes\n",
    "            fax,rax,hax = fig.add_subplot(gs[0,i]),fig.add_subplot(gs[1,i]),fig.add_subplot(gs[2,i])\n",
    "\n",
    "            # Subplot plotting\n",
    "            ymin = Mysubplotplot(plottype,fax,rax,hax,spectrum,args,f[good])\n",
    "\n",
    "            # Plot Continuum\n",
    "            if plottype == 1:\n",
    "                fax.step(wav,continuum[good],ls='-',c='k',where='mid')\n",
    "            # Plot components\n",
    "            elif plottype == 2:\n",
    "                init = 1\n",
    "                if 'PowerLaw_Index' in model.get_names():\n",
    "                    init = 2\n",
    "                for j in range(init,len(model.models)):\n",
    "                    m = model.models[j]\n",
    "                    idx = model.indices[j]\n",
    "                    cm = CM.CompoundModel([m]).evaluate(medians[idx:idx+m.nparams],*(wav,flux,isig))\n",
    "                    fax.step(wav,ymin+cm,'--',c='gray')\n",
    "                    # for p in parameters:\n",
    "                    #     cm = CM.CompoundModel([m]).evaluate(p[idx:idx+m.nparams],*(wav,flux,isig))\n",
    "                    #     fax.step(wav,ymin+cm,'--',c='gray',alpha=0.5)\n",
    "\n",
    "            # Add secondary axis\n",
    "            rax.secondary_xaxis('top', functions=transform).set(xticklabels=[])\n",
    "            fax.secondary_xaxis('top', functions=transform).set_xlabel('Rest Wavelength [\\AA]',labelpad=10)\n",
    "            rax.axhline(0,color=\"b\")\n",
    "            \n",
    "    # Add title and save figure\n",
    "    fig.suptitle(figname.replace('_','\\_')+', $z='+str(np.round(spectrum.z,3))+'$',y=0.95)\n",
    "    fig.tight_layout()\n",
    "    #fig.savefig(path.join(spectrum.p['OutFolder'],figname+'.pdf'))\n",
    "    plt.show()\n",
    "    #pyplot.close(fig)\n"
   ]
  },
  {
   "cell_type": "code",
   "execution_count": null,
   "id": "5a4b1505-7c81-4382-9646-29d935a6713b",
   "metadata": {},
   "outputs": [],
   "source": [
    "# Plot all Figures\n",
    "def MyPlot(spectrum,model,parameters,fpath):\n",
    "    for i in range(3): MyPlotFig(spectrum,model,parameters,fpath,plottype=i)"
   ]
  },
  {
   "cell_type": "code",
   "execution_count": null,
   "id": "ea441c09-7f5c-4bed-822e-1b622d7b7bbf",
   "metadata": {},
   "outputs": [],
   "source": [
    "# Plot from results\n",
    "def myplotfromresults(params,fpath,z):\n",
    "\n",
    "#    if params[\"Verbose\"]:\n",
    "#        print(\"Presenting GELATO:\",path.split(fpath)[-1])\n",
    "\n",
    "    ## Load in Spectrum ##\n",
    "  \n",
    "    spectrum = SC.Spectrum(fpath,z,params)\n",
    "    \n",
    "    #------------------------\n",
    "    #print(\"spectrum\",spectrum)\n",
    "    #--------------------------\n",
    "  \n",
    "    # Get just the final bit of the path\n",
    "    #fpath = path.split(fpath)[-1] #SDC remove this split\n",
    "    #print(fpath)\n",
    "    \n",
    "    ## Load Results ##\n",
    "    #fname = path.join(params['OutFolder'],U.fileName(fpath))+'-results.fits'\n",
    "    fname = fpath\n",
    "    parameters = fits.getdata(fname,'PARAMS')\n",
    "    pnames =  [n for n in parameters.columns.names if not (('EW' in n) or ('RAmp' in n) or ('PowerLaw_Scale' == n))][:-1]\n",
    "    ps = np.array([parameters[n] for n in pnames]).T\n",
    "    \n",
    "    #-------------\n",
    "    # print(pnames)\n",
    "    # print(\"ps\",ps)\n",
    "    #-------------\n",
    "\n",
    "    ## Create model ##\n",
    "    # Add continuum\n",
    "    ssp_names = [n[4:] for n in pnames if (('SSP_' in n) and (n != 'SSP_Redshift'))]\n",
    "    \n",
    "    #----------------------------\n",
    "    #print(\"(ssp_names\",ssp_names)\n",
    "    #----------------------------\n",
    "    \n",
    "    \n",
    "    models = [CM.SSPContinuumFree(spectrum,ssp_names = ssp_names)]\n",
    "    if 'PowerLaw_Index' in pnames:\n",
    "        models.append(CM.PowerLawContinuum(spectrum))\n",
    "        models[-1].starting()\n",
    "    \n",
    "    #-----------------------------------------\n",
    "    #print(\"spectrum.regions\",spectrum.regions)\n",
    "    #-----------------------------------------\n",
    "\n",
    "    #if spectrum.regions != []:\n",
    "    if len(spectrum.regions) != 0:\n",
    "\n",
    "        # Add spectral lines\n",
    "        ind = sum([m.nparams for m in models]) # index where emission lines begin\n",
    "        for i in range(ind,ps.shape[1],3):\n",
    "            center = float(pnames[i].split('_')[-2])\n",
    "            models.append(CM.SpectralFeature(center,spectrum))\n",
    "\n",
    "        # Final model\n",
    "        model = CM.CompoundModel(models)\n",
    "        #print(\"final model\",model)\n",
    "\n",
    "        # Plot\n",
    "        MyPlot(spectrum,model,ps,fpath)\n",
    "\n",
    "    else:\n",
    "\n",
    "        # Final Model\n",
    "        model = CM.CompoundModel(models)\n",
    "\n",
    "        # Plot\n",
    "        MyPlotFig(spectrum,model,ps,fpath)\n",
    "\n",
    "    if params[\"Verbose\"]:\n",
    "        print(\"GELATO presented:\",fpath)"
   ]
  },
  {
   "cell_type": "code",
   "execution_count": null,
   "id": "734458ed-9d78-4a24-ae94-c895992e6963",
   "metadata": {},
   "outputs": [],
   "source": [
    "def MySimplePlotSpectrum(fullfilename ,redshift,title):\n",
    "    \"\"\"\n",
    "    My simple plot spectrum without model\n",
    "    \"\"\"\n",
    "    # Let's load the spectrum\n",
    "    #path_spec = 'Spectra/spec-0280-51612-0117.fits'\n",
    "    path_spec = fullfilename \n",
    "    spectrum = Table.read(path_spec)\n",
    "\n",
    "    # Start with inverse variance\n",
    "    ivar = spectrum['ivar']\n",
    "    good = ivar > 0 # GELATO only looks at points with nonzero weights\n",
    "\n",
    "    # Finally, let's load in the data\n",
    "    wavl = 10**spectrum['loglam'][good]\n",
    "    flux = spectrum['flux'][good]\n",
    "    ivar = ivar[good]\n",
    "    args = (wavl,flux,ivar) # These will be useful later\n",
    "        \n",
    "    # Create figure\n",
    "    fig, ax = pyplot.subplots(figsize=(15,7))\n",
    "\n",
    "    # Plot Spectrum\n",
    "    sig = 3/np.sqrt(ivar) # 3 Sigma boundary\n",
    "    ax.fill_between(wavl,flux-sig,flux+sig,color='gray')\n",
    "    ax.step(wavl,flux,where='mid',c='k',lw=0.5)\n",
    "\n",
    "    # Axis limits\n",
    "    ax.set(xlim=[wavl.min(),wavl.max()],ylim=[0,flux.max()])\n",
    "\n",
    "    # Axis labels\n",
    "    ax.set(xlabel=r'Obs. Wavelength [\\AA]',ylabel=r'$F_\\lambda$')\n",
    "\n",
    "    ax.set_title(title)\n",
    "    # Show figure\n",
    "    pyplot.show()\n",
    "    "
   ]
  },
  {
   "cell_type": "code",
   "execution_count": null,
   "id": "ddbe2f02-6cb6-45bb-aa8d-bcc7ae163471",
   "metadata": {},
   "outputs": [],
   "source": [
    "def MySimplePlotSpectrumWithFittedModel(fullfilename ,redshift,title):\n",
    "    \"\"\"\n",
    "    My simple plot spectrum with fitted model\n",
    "    \"\"\"\n",
    "    # Let's load the spectrum\n",
    "    #path_spec = 'Spectra/spec-0280-51612-0117.fits'\n",
    "    path_spec = fullfilename \n",
    "    spectrum = Table.read(path_spec)\n",
    "    \n",
    "    # loat fit results\n",
    "    results = fits.open(path_spec) \n",
    "    summary = Table(results['SUMMARY'].data)\n",
    "\n",
    "    # Start with inverse variance\n",
    "    ivar = spectrum['ivar']\n",
    "    good = ivar > 0 # GELATO only looks at points with nonzero weights\n",
    "\n",
    "    # Finally, let's load in the data\n",
    "    wavl = 10**spectrum['loglam'][good]\n",
    "    flux = spectrum['flux'][good]\n",
    "    ivar = ivar[good]\n",
    "    args = (wavl,flux,ivar) # These will be useful later\n",
    "        \n",
    "    # Plot Spectrum\n",
    "    sig = 3/np.sqrt(ivar) # 3 Sigma boundary\n",
    "    \n",
    "        \n",
    "    # Create figure\n",
    "    fig, ax = pyplot.subplots(figsize=(15,7))\n",
    "\n",
    "    \n",
    "    # Plot Spectrum\n",
    "    ax.fill_between(wavl,flux-sig,flux+sig,color='gray',alpha=0.2)\n",
    "    ax.step(wavl,flux,where='mid',c='k',lw=0.75,label='Data')\n",
    "    ax.step(10**summary['loglam'],summary['MODEL'],where='mid',c='r',label='Total Model')\n",
    "    ax.step(10**summary['loglam'],summary['SSP'],where='mid',c='g',label='SSP Cont.')\n",
    "    #ax.step(10**summary['loglam'],summary['PL'],where='mid',c='b',label='Power-Law Cont.')\n",
    "    ax.step(10**summary['loglam'],summary['LINE'],where='mid',c='orange',lw=3,label='Emission Lines')\n",
    "    ax.legend(loc=\"upper left\")\n",
    "\n",
    "    # Axis limits\n",
    "    ax.set(xlim=[wavl.min(),wavl.max()],ylim=[0,flux.max()*1.5])\n",
    "\n",
    "    # Axis labels\n",
    "    ax.set(xlabel=r'Obs. Wavelength [\\AA]',ylabel=r'$F_\\lambda$')\n",
    "\n",
    "    ax.set_title(title)\n",
    "    # Show figure\n",
    "    pyplot.show()\n",
    "    "
   ]
  },
  {
   "cell_type": "markdown",
   "id": "97a7e602-d43e-4cc0-b814-c4c177d98ad2",
   "metadata": {},
   "source": [
    "## Config"
   ]
  },
  {
   "cell_type": "markdown",
   "id": "7f6fd71d-d25f-4f7d-866d-a91f46d49ead",
   "metadata": {},
   "source": [
    "### Table with spectra name / redshifts"
   ]
  },
  {
   "cell_type": "code",
   "execution_count": null,
   "id": "2ac3397f-ac46-45b0-b32b-124f6c533c0e",
   "metadata": {},
   "outputs": [],
   "source": [
    "df = pd.read_csv(\"object_filelist_v0.csv\",index_col=0)"
   ]
  },
  {
   "cell_type": "code",
   "execution_count": null,
   "id": "c54a9390-5bee-43d3-b2d0-a97c7ca3d207",
   "metadata": {},
   "outputs": [],
   "source": [
    "df"
   ]
  },
  {
   "cell_type": "markdown",
   "id": "d7fc3924-f40d-4ede-91bf-ff274a731709",
   "metadata": {},
   "source": [
    "### Gelato Input parameters"
   ]
  },
  {
   "cell_type": "code",
   "execution_count": null,
   "id": "c7964e97-a276-4b9f-ad46-b8bc55f5be16",
   "metadata": {
    "tags": []
   },
   "outputs": [],
   "source": [
    "# Path to the parameters file\n",
    "path_params = './ExampleParameters.json'"
   ]
  },
  {
   "cell_type": "code",
   "execution_count": null,
   "id": "097637c0-64eb-4c22-920f-749b6cddf0cf",
   "metadata": {},
   "outputs": [],
   "source": [
    "params_gel = CP.construct(path_params)"
   ]
  },
  {
   "cell_type": "code",
   "execution_count": null,
   "id": "9bde11f4-f5ed-430b-9fd0-122b69cf8102",
   "metadata": {},
   "outputs": [],
   "source": [
    "params_gel"
   ]
  },
  {
   "cell_type": "code",
   "execution_count": null,
   "id": "ae8757ac-2dad-4602-b1bd-ed39a423277a",
   "metadata": {},
   "outputs": [],
   "source": [
    "path = \"Results_v0\""
   ]
  },
  {
   "cell_type": "code",
   "execution_count": null,
   "id": "eb010ac2-6ab4-4572-8be1-6eb1099e9da9",
   "metadata": {},
   "outputs": [],
   "source": [
    "params_gel['OutFolder'] = path"
   ]
  },
  {
   "cell_type": "code",
   "execution_count": null,
   "id": "58ccaec5-ca3e-4e54-ad72-148641cd20f8",
   "metadata": {
    "tags": []
   },
   "outputs": [],
   "source": [
    "list_all_files = os.listdir(path)"
   ]
  },
  {
   "cell_type": "code",
   "execution_count": null,
   "id": "7118408e-5dde-4a12-a3a9-88e66bd711ce",
   "metadata": {
    "tags": []
   },
   "outputs": [],
   "source": [
    "list_all_files[:5]"
   ]
  },
  {
   "cell_type": "code",
   "execution_count": null,
   "id": "aa7c379e-5ec9-4454-83a5-a63ab6d2c12e",
   "metadata": {
    "tags": []
   },
   "outputs": [],
   "source": [
    "re.findall(\".*[.]fits$\",'specgelato_SPEC308-results.fits')"
   ]
  },
  {
   "cell_type": "code",
   "execution_count": null,
   "id": "3182fe61-6879-4f75-bb01-65f8f1cf73f6",
   "metadata": {
    "tags": []
   },
   "outputs": [],
   "source": [
    "int(re.findall(\"specgelato_SPEC(.*)-results[.]fits$\",'specgelato_SPEC308-results.fits')[0])"
   ]
  },
  {
   "cell_type": "code",
   "execution_count": null,
   "id": "b6d9e03c-ac98-402e-9770-c3b901c600e1",
   "metadata": {
    "tags": []
   },
   "outputs": [],
   "source": [
    "idx_selected_files = []\n",
    "list_selected_files = []\n",
    "for file in list_all_files:\n",
    "    res = re.findall(\"^specgelato_SPEC.*[.]fits$\",file)\n",
    "    if len(res):\n",
    "        list_selected_files.append(file)\n",
    "        num = int(re.findall(\"specgelato_SPEC(.*)-results[.]fits$\",file)[0])   \n",
    "        idx_selected_files.append(num)"
   ]
  },
  {
   "cell_type": "code",
   "execution_count": null,
   "id": "3a6788ad-043a-4977-bca9-88d02c6be3b8",
   "metadata": {
    "tags": []
   },
   "outputs": [],
   "source": [
    "idx_selected_files = np.array(idx_selected_files)\n",
    "list_selected_files = np.array(list_selected_files)\n",
    "idx_sorted_files = np.argsort(idx_selected_files)\n",
    "list_sorted_files = list_selected_files[idx_sorted_files]"
   ]
  },
  {
   "cell_type": "markdown",
   "id": "f6ece421-cfb0-440c-a362-9d410d9d25fd",
   "metadata": {},
   "source": [
    "## Select one Spectrum"
   ]
  },
  {
   "cell_type": "code",
   "execution_count": null,
   "id": "ffd7ea28-7898-4f71-9e9d-07829f9c4a26",
   "metadata": {
    "tags": []
   },
   "outputs": [],
   "source": [
    "idx=0"
   ]
  },
  {
   "cell_type": "code",
   "execution_count": null,
   "id": "9bc96674-7e0e-49df-9d7d-9637f181f3b9",
   "metadata": {
    "tags": []
   },
   "outputs": [],
   "source": [
    "shortfilename = list_sorted_files[idx]\n",
    "fullfilename = os.path.join(path,list_sorted_files[idx])\n",
    "title = f\"{idx}) {fullfilename}\" "
   ]
  },
  {
   "cell_type": "code",
   "execution_count": null,
   "id": "ea24bcd1-24eb-497f-981a-81b1d5340589",
   "metadata": {},
   "outputs": [],
   "source": [
    "print(shortfilename,fullfilename)"
   ]
  },
  {
   "cell_type": "code",
   "execution_count": null,
   "id": "0c950495-d27c-4d19-b696-1b0613124c0e",
   "metadata": {},
   "outputs": [],
   "source": [
    "tag_spec = re.findall(\".*_(SPEC.*)-results.fits$\", shortfilename)"
   ]
  },
  {
   "cell_type": "code",
   "execution_count": null,
   "id": "a2d4b249-f135-4970-9af0-f09decf1eacc",
   "metadata": {},
   "outputs": [],
   "source": [
    "if len(tag_spec)>0:\n",
    "    tag_spec = tag_spec[0]"
   ]
  },
  {
   "cell_type": "code",
   "execution_count": null,
   "id": "b382bea9-1b11-499f-a346-bf4f90cc269a",
   "metadata": {},
   "outputs": [],
   "source": [
    "tag_spec"
   ]
  },
  {
   "cell_type": "code",
   "execution_count": null,
   "id": "2deb31cf-aba0-4651-b924-47267e4fd9f7",
   "metadata": {},
   "outputs": [],
   "source": [
    "all_inputspecfilenames = df.Path.values\n",
    "for idx_tag,filen in enumerate(all_inputspecfilenames):\n",
    "    if tag_spec in filen:\n",
    "        break\n",
    "idx_tag\n",
    "df_row = df.iloc[idx_tag]\n",
    "redshift = df_row[\"z\"]\n",
    "title = title + f\" z ={redshift:.3f}\""
   ]
  },
  {
   "cell_type": "code",
   "execution_count": null,
   "id": "af751a20-f21d-40f3-8138-5df1b9a05082",
   "metadata": {},
   "outputs": [],
   "source": [
    "path_spec = fullfilename"
   ]
  },
  {
   "cell_type": "code",
   "execution_count": null,
   "id": "e27166c1-bc4e-4b9b-a7b2-aa32fc098f1d",
   "metadata": {},
   "outputs": [],
   "source": [
    "MySimplePlotSpectrum(fullfilename ,redshift,title)"
   ]
  },
  {
   "cell_type": "markdown",
   "id": "4aaffa71",
   "metadata": {},
   "source": [
    "The main gelato function takes three inputs.\n",
    "* The path to the parameters file or the parameters dictionary.\n",
    "* The path to the spectrum.\n",
    "* The redshift of the spectrum.\n",
    "\n",
    "We already have the last two, and we need to take a little precaution with the first.\n",
    "The main gelato function will only return the final model if the code is being run without multiprocessing (as the return statement can break Python multiprocessing). So we can either change the Parameters JSON file, or edit the parameters dictionary. "
   ]
  },
  {
   "cell_type": "code",
   "execution_count": null,
   "id": "e8ad5e9b",
   "metadata": {},
   "outputs": [],
   "source": [
    "# Path to the parameters file\n",
    "#path_params = './ExampleParameters.json'\n",
    "\n",
    "# Create Parameters dictionary\n",
    "#params = gelato.ConstructParams.construct(path_params)\n",
    "\n",
    "# Set to not multiprocessing\n",
    "#params['NProcess'] = 1"
   ]
  },
  {
   "cell_type": "markdown",
   "id": "a55b5373",
   "metadata": {},
   "source": [
    "We are now ready to run GELATO. Note, before you do this, ensure the results directory exists, either by running the Example from the README file or creating it. It will return the final callable model, however it won't be used in this notebook. "
   ]
  },
  {
   "cell_type": "code",
   "execution_count": null,
   "id": "59bbef2b",
   "metadata": {},
   "outputs": [],
   "source": [
    "#model = gelato.gelato(params,path_spec,0.69)"
   ]
  },
  {
   "cell_type": "markdown",
   "id": "d9ee2209",
   "metadata": {},
   "source": [
    "The results have been saved to the \"Results/\" Directory. Let's go ahead and load them in. We will print all extensions on the folder."
   ]
  },
  {
   "cell_type": "code",
   "execution_count": null,
   "id": "8dc818e0-c22c-4aad-89ab-3c28734153c1",
   "metadata": {},
   "outputs": [],
   "source": [
    "path_spec"
   ]
  },
  {
   "cell_type": "code",
   "execution_count": null,
   "id": "0815df14",
   "metadata": {},
   "outputs": [],
   "source": [
    "# Load in results\n",
    "results = fits.open(path_spec)\n",
    "\n",
    "# Print FITS extensions\n",
    "results.info()"
   ]
  },
  {
   "cell_type": "code",
   "execution_count": null,
   "id": "3f75f635-90a1-4dd4-a785-560f9b051a98",
   "metadata": {},
   "outputs": [],
   "source": [
    "header = Table(results['PRIMARY'].data)"
   ]
  },
  {
   "cell_type": "code",
   "execution_count": null,
   "id": "34718a4e-5cfd-4db4-9c9e-738ad0eff31a",
   "metadata": {},
   "outputs": [],
   "source": [
    "header"
   ]
  },
  {
   "cell_type": "markdown",
   "id": "ef7bdfdb",
   "metadata": {},
   "source": [
    "We have two FITS extensions, SUMMARY and PARAMS. They are described in more detail in the README File but let's play around with them directly. Let's go ahead and take a look inside the SUMMARY extension. As we can see, it is a binary FITS Table."
   ]
  },
  {
   "cell_type": "code",
   "execution_count": null,
   "id": "aa5d5647",
   "metadata": {},
   "outputs": [],
   "source": [
    "summary = Table(results['SUMMARY'].data)\n",
    "summary"
   ]
  },
  {
   "cell_type": "code",
   "execution_count": null,
   "id": "4f27df25-657a-4e99-9eb9-d5120c76d67a",
   "metadata": {},
   "outputs": [],
   "source": [
    "MySimplePlotSpectrumWithFittedModel(fullfilename ,redshift,title)"
   ]
  },
  {
   "cell_type": "markdown",
   "id": "ff74199d",
   "metadata": {},
   "source": [
    "In this table, we have the original spectrum along with the various model components, we can go ahead and plot them."
   ]
  },
  {
   "cell_type": "markdown",
   "id": "d7a3e294",
   "metadata": {},
   "source": [
    "Looks great! You can see an example of the GELATO generated plots in the results folder, but this will let you incorporate GELATO fits easily into your own work. Let's go ahead and take a look at the PARAMS extension. This is a much larger table! It's made up of the parameters from each bootstrap iteration. "
   ]
  },
  {
   "cell_type": "markdown",
   "id": "69f1147e",
   "metadata": {},
   "source": [
    "Here we can see all of the fitted model paramters, it's certainly a handful! A quick note, many parameters here are tied together, reducing the degrees of freedom. It's also worth noting the SSP Continuum Redshift and the PL Continuum Scale are not fitted, and so are constant throughout all the bootstraps. Let's go ahead and throw this object onto a BPT diagram!"
   ]
  },
  {
   "cell_type": "markdown",
   "id": "02b20373-9bde-43de-850b-bbee4d83fa02",
   "metadata": {},
   "source": [
    "## Call gelato plot fucntion"
   ]
  },
  {
   "cell_type": "code",
   "execution_count": null,
   "id": "068863d0-29de-4c10-8ea6-4c2a425aa2a5",
   "metadata": {},
   "outputs": [],
   "source": [
    "# Ceci marche\n",
    "# parameters = fits.getdata(fullfilename,'PARAMS')"
   ]
  },
  {
   "cell_type": "code",
   "execution_count": null,
   "id": "012e3b51-d4ba-47a7-adfa-0e4372e41086",
   "metadata": {},
   "outputs": [],
   "source": [
    "fullfilename.split(\"/\")[-1].split(\".\")[0]"
   ]
  },
  {
   "cell_type": "code",
   "execution_count": null,
   "id": "c6300074-fc0d-4e95-9ff5-b4ac958fbb1b",
   "metadata": {},
   "outputs": [],
   "source": [
    "U.fileName(fullfilename.split(\"/\")[-1].split(\".\")[0])+'-'"
   ]
  },
  {
   "cell_type": "code",
   "execution_count": null,
   "id": "58f68723-522b-4ae7-9b7e-66ea26830d34",
   "metadata": {},
   "outputs": [],
   "source": [
    "U.fileName(path.split(fullfilename)[-1])+'-'"
   ]
  },
  {
   "cell_type": "code",
   "execution_count": null,
   "id": "d08904c9-bac5-43e6-965c-c05de760c4e9",
   "metadata": {},
   "outputs": [],
   "source": [
    "path.split(fullfilename)"
   ]
  },
  {
   "cell_type": "code",
   "execution_count": null,
   "id": "d4b3839b-a049-4103-be75-546eff967753",
   "metadata": {},
   "outputs": [],
   "source": [
    "U.fileName(path.split(fullfilename))"
   ]
  },
  {
   "cell_type": "code",
   "execution_count": null,
   "id": "706418d4-3f8c-4736-8dac-faf1d07748a9",
   "metadata": {},
   "outputs": [],
   "source": [
    "U.fileName"
   ]
  },
  {
   "cell_type": "code",
   "execution_count": null,
   "id": "72dc8683-3c9d-4258-8bd3-5dac7310a3e5",
   "metadata": {},
   "outputs": [],
   "source": [
    "#Plot(spectrum,results,path_params,fpath=path_spec)\n",
    "#myplotfromresults(path_params, fullfilename, redshift)\n",
    "myplotfromresults(params_gel,fullfilename, redshift)"
   ]
  },
  {
   "cell_type": "markdown",
   "id": "e3f72ad4",
   "metadata": {},
   "source": [
    "And that's all for this short IPython notebook! GELATO is designed to be run through the wrapper scripts, but hopefully this helps if you want to run in an IPython notebook or to help you understand the GELATO output."
   ]
  },
  {
   "cell_type": "code",
   "execution_count": null,
   "id": "a547ce6b-3d7b-47b1-920a-b0effc97ec1a",
   "metadata": {},
   "outputs": [],
   "source": [
    "results['PARAMS'].columns"
   ]
  },
  {
   "cell_type": "code",
   "execution_count": null,
   "id": "fd1ede72-5be6-420c-b181-823f9b02887d",
   "metadata": {},
   "outputs": [],
   "source": [
    "# Open Parameters extension\n",
    "params = Table(results['PARAMS'].data)\n",
    "print(params)\n"
   ]
  },
  {
   "cell_type": "code",
   "execution_count": null,
   "id": "db458e4b-580d-4003-885a-3d5147212876",
   "metadata": {},
   "outputs": [],
   "source": [
    "for col in params.colnames:\n",
    "    print(col)"
   ]
  },
  {
   "cell_type": "markdown",
   "id": "820002b7-a915-4a66-9a12-d5dd29f9483b",
   "metadata": {},
   "source": [
    "Here we can see all of the fitted model paramters, it's certainly a handful! A quick note, many parameters here are tied together, reducing the degrees of freedom. It's also worth noting the SSP Continuum Redshift and the PL Continuum Scale are not fitted, and so are constant throughout all the bootstraps. Let's go ahead and throw this object onto a BPT diagram!"
   ]
  },
  {
   "cell_type": "code",
   "execution_count": null,
   "id": "f55de25b-e629-4e7a-b96c-a8eb3dc8571b",
   "metadata": {},
   "outputs": [],
   "source": [
    "selected_col_Flux = []\n",
    "for col in params.columns:\n",
    "    if \"Flux\" in col:\n",
    "        selected_col_Flux.append(col)\n",
    "        \n",
    "    "
   ]
  },
  {
   "cell_type": "code",
   "execution_count": null,
   "id": "79412326-6833-4667-84c0-928c54c57e2f",
   "metadata": {},
   "outputs": [],
   "source": [
    "params_Flux = params[selected_col_Flux]"
   ]
  },
  {
   "cell_type": "code",
   "execution_count": null,
   "id": "c4d8f7e1-ee29-4c34-9413-a7a47b10f1b2",
   "metadata": {},
   "outputs": [],
   "source": [
    "params_Flux.to_pandas().describe()"
   ]
  },
  {
   "cell_type": "code",
   "execution_count": null,
   "id": "7b92be1f-c3b0-438c-aba3-e7b5cb3fa607",
   "metadata": {},
   "outputs": [],
   "source": [
    "plt.plot(params[\"rChi2\"])"
   ]
  },
  {
   "cell_type": "code",
   "execution_count": null,
   "id": "3addb1ad-1601-4e05-9443-2e13e551d219",
   "metadata": {},
   "outputs": [],
   "source": [
    "all_ser = []\n",
    "for idx,file in enumerate(list_sorted_files):   \n",
    "    path_spec =  os.path.join(path,file)\n",
    "    results = fits.open(path_spec)\n",
    "    #spectrum = Table.read(path_spec)\n",
    "    params = Table(results['PARAMS'].data)\n",
    "    selected_col_Flux = []\n",
    "    for col in params.columns:\n",
    "        if \"Flux\" in col:\n",
    "            selected_col_Flux.append(col)\n",
    "    selected_col = selected_col_Flux \n",
    "    selected_col.append(\"rChi2\")\n",
    "    t_sub = params[selected_col]\n",
    "    df = t_sub.to_pandas()\n",
    "    ser = df.median()\n",
    "    #print(ser)\n",
    "    all_ser.append(ser)\n",
    "    "
   ]
  },
  {
   "cell_type": "code",
   "execution_count": null,
   "id": "40d0d3ac-7a54-469b-a27a-c125d9d4f00e",
   "metadata": {},
   "outputs": [],
   "source": [
    "pd.concat(all_ser, axis=1).T"
   ]
  },
  {
   "cell_type": "code",
   "execution_count": null,
   "id": "4849df7f-d063-469a-94cc-1b647a289b3d",
   "metadata": {},
   "outputs": [],
   "source": []
  }
 ],
 "metadata": {
  "kernelspec": {
   "display_name": "conda_desc_py310_pcigale",
   "language": "python",
   "name": "conda_desc_py310_pcigale"
  },
  "language_info": {
   "codemirror_mode": {
    "name": "ipython",
    "version": 3
   },
   "file_extension": ".py",
   "mimetype": "text/x-python",
   "name": "python",
   "nbconvert_exporter": "python",
   "pygments_lexer": "ipython3",
   "version": "3.10.14"
  }
 },
 "nbformat": 4,
 "nbformat_minor": 5
}

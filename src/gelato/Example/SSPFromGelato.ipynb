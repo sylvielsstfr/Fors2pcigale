{
 "cells": [
  {
   "cell_type": "markdown",
   "id": "647b8a7c-00da-4dc9-b02e-74311b689065",
   "metadata": {},
   "source": [
    "# Retrieve SSP from GELATO"
   ]
  },
  {
   "cell_type": "code",
   "execution_count": null,
   "id": "0fe586f4-c8a9-4f40-9067-d218102b7b27",
   "metadata": {},
   "outputs": [],
   "source": [
    "import gelato\n",
    "import os\n",
    "import numpy as np\n",
    "\n",
    "%matplotlib inline\n",
    "import matplotlib as mpl\n",
    "mpl.rcParams['font.size'] = 25\n",
    "from matplotlib import pyplot # For plotting\n",
    "import matplotlib.pyplot as plt\n",
    "from mpl_toolkits.axes_grid1.inset_locator import inset_axes\n",
    "from matplotlib.ticker import ScalarFormatter\n",
    "# For loading in data\n",
    "from astropy.io import fits\n",
    "from astropy.table import Table \n",
    "\n",
    "\n",
    "import re"
   ]
  },
  {
   "cell_type": "code",
   "execution_count": null,
   "id": "b419c93f-be11-4b8a-815c-9e198618ccf7",
   "metadata": {},
   "outputs": [],
   "source": [
    "gelato.__path__"
   ]
  },
  {
   "cell_type": "markdown",
   "id": "21f01bc3-3647-4e31-833f-08d5cf0fef54",
   "metadata": {},
   "source": [
    "## Preselected spectra in gelato"
   ]
  },
  {
   "cell_type": "code",
   "execution_count": null,
   "id": "b0bdac31-9696-4a1a-8cbb-fc60bc33aa3a",
   "metadata": {},
   "outputs": [],
   "source": [
    "Continuums = ['Ech1.30Zm1.71T00.0631_iPp0.00_baseFe_LIS5.0.fits.gz',\n",
    "'Ech1.30Zm1.71T00.2239_iPp0.00_baseFe_LIS5.0.fits.gz',\n",
    "'Ech1.30Zm1.71T00.8913_iPp0.00_baseFe_LIS5.0.fits.gz',\n",
    "'Ech1.30Zm1.71T03.1623_iPp0.00_baseFe_LIS5.0.fits.gz',\n",
    "'Ech1.30Zm1.71T12.5893_iPp0.00_baseFe_LIS5.0.fits.gz',\n",
    "'Ech1.30Zm0.71T00.0631_iPp0.00_baseFe_LIS5.0.fits.gz',\n",
    "'Ech1.30Zm0.71T00.2239_iPp0.00_baseFe_LIS5.0.fits.gz',\n",
    "'Ech1.30Zm0.71T00.8913_iPp0.00_baseFe_LIS5.0.fits.gz',\n",
    "'Ech1.30Zm0.71T03.1623_iPp0.00_baseFe_LIS5.0.fits.gz',\n",
    "'Ech1.30Zm0.71T12.5893_iPp0.00_baseFe_LIS5.0.fits.gz',\n",
    "'Ech1.30Zp0.00T00.0631_iPp0.00_baseFe_LIS5.0.fits.gz',\n",
    "'Ech1.30Zp0.00T00.2239_iPp0.00_baseFe_LIS5.0.fits.gz',\n",
    "'Ech1.30Zp0.00T00.8913_iPp0.00_baseFe_LIS5.0.fits.gz',\n",
    "'Ech1.30Zp0.00T03.1623_iPp0.00_baseFe_LIS5.0.fits.gz',\n",
    "'Ech1.30Zp0.00T12.5893_iPp0.00_baseFe_LIS5.0.fits.gz']"
   ]
  },
  {
   "cell_type": "code",
   "execution_count": null,
   "id": "77c85ac2-7a49-46b6-8ab1-06f754b209da",
   "metadata": {},
   "outputs": [],
   "source": [
    "#SSP_Ech1.30Zm0.71T00.0631_iPp0.00_baseFe_LIS5.0\n",
    "#SSP_Ech1.30Zm0.71T00.2239_iPp0.00_baseFe_LIS5.0\n",
    "#SSP_Ech1.30Zm0.71T00.8913_iPp0.00_baseFe_LIS5.0\n",
    "#SSP_Ech1.30Zm0.71T03.1623_iPp0.00_baseFe_LIS5.0\n",
    "#SSP_Ech1.30Zm0.71T12.5893_iPp0.00_baseFe_LIS5.0\n",
    "#SSP_Ech1.30Zm1.71T00.0631_iPp0.00_baseFe_LIS5.0\n",
    "#SSP_Ech1.30Zm1.71T00.2239_iPp0.00_baseFe_LIS5.0\n",
    "#SSP_Ech1.30Zm1.71T00.8913_iPp0.00_baseFe_LIS5.0\n",
    "#SSP_Ech1.30Zm1.71T03.1623_iPp0.00_baseFe_LIS5.0\n",
    "#SSP_Ech1.30Zm1.71T12.5893_iPp0.00_baseFe_LIS5.0\n",
    "#SSP_Ech1.30Zp0.00T00.0631_iPp0.00_baseFe_LIS5.0\n",
    "#SSP_Ech1.30Zp0.00T00.2239_iPp0.00_baseFe_LIS5.0\n",
    "#SSP_Ech1.30Zp0.00T00.8913_iPp0.00_baseFe_LIS5.0\n",
    "#SSP_Ech1.30Zp0.00T03.1623_iPp0.00_baseFe_LIS5.0\n",
    "#SSP_Ech1.30Zp0.00T12.5893_iPp0.00_baseFe_LIS5.0"
   ]
  },
  {
   "cell_type": "code",
   "execution_count": null,
   "id": "d224a67a-b7a5-4070-a554-5fef77b8a44f",
   "metadata": {},
   "outputs": [],
   "source": [
    "path_ssp = os.path.join(gelato.__path__[0],\"SSPs\")"
   ]
  },
  {
   "cell_type": "code",
   "execution_count": null,
   "id": "683aed7c-8c5e-420f-9a0a-f4b028fe99cc",
   "metadata": {},
   "outputs": [],
   "source": [
    "path_ssp"
   ]
  },
  {
   "cell_type": "code",
   "execution_count": null,
   "id": "300d2721-cb4e-4996-bb06-40e6ffe115d0",
   "metadata": {},
   "outputs": [],
   "source": [
    "all_files = os.listdir(path_ssp)"
   ]
  },
  {
   "cell_type": "code",
   "execution_count": null,
   "id": "f1900ba4-2b4c-4f30-866d-c17f2f1dd3ac",
   "metadata": {},
   "outputs": [],
   "source": [
    "selected_files = []\n",
    "for file in all_files:\n",
    "    typefile = file.split(\".\")[0]\n",
    "    if typefile == \"Ech1\":\n",
    "        selected_files.append(file)"
   ]
  },
  {
   "cell_type": "code",
   "execution_count": null,
   "id": "87236d08-ce29-46da-8b18-27b1f18f0757",
   "metadata": {},
   "outputs": [],
   "source": [
    "fullfilename = os.path.join(path_ssp,\"SSP_Wavelength_Vacuum.fits\")\n",
    "# t = Table.read(fullfilename)\n",
    "hdul = fits.open(fullfilename)\n",
    "wl = hdul[0].data"
   ]
  },
  {
   "cell_type": "code",
   "execution_count": null,
   "id": "9d40bc1a-2de7-42e6-8dde-780ca6f82183",
   "metadata": {},
   "outputs": [],
   "source": [
    "all_spectra = []\n",
    "for file in selected_files:\n",
    "    if file in Continuums:\n",
    "        fullfilename = os.path.join(path_ssp,file)\n",
    "        hdul = fits.open(fullfilename)\n",
    "        spectrum = hdul[0].data\n",
    "        all_spectra.append(spectrum)"
   ]
  },
  {
   "cell_type": "code",
   "execution_count": null,
   "id": "371d2e13-e4bf-497e-b389-61eb735954d2",
   "metadata": {},
   "outputs": [],
   "source": [
    "N = len(all_spectra)"
   ]
  },
  {
   "cell_type": "code",
   "execution_count": null,
   "id": "53f1c717-cfe5-472b-808b-2b8ec4280f65",
   "metadata": {},
   "outputs": [],
   "source": [
    "fig,ax = plt.subplots(1,1,figsize=(15,5))\n",
    "\n",
    "for idx in range(N):\n",
    "    ax.plot(wl,all_spectra[idx])\n",
    "\n",
    "ax.loglog()\n",
    "\n",
    "xticks = [1000.,5000.,10000.,50000.,100000.]\n",
    "xlabels = [f'{x:1.2f}' for x in xticks]\n",
    "ax.set_xticks(xticks, labels=xlabels)"
   ]
  },
  {
   "cell_type": "code",
   "execution_count": null,
   "id": "6ed9a9eb-4d7d-4a93-8199-bad43fec36f1",
   "metadata": {},
   "outputs": [],
   "source": []
  }
 ],
 "metadata": {
  "kernelspec": {
   "display_name": "conda_desc_py310_pcigale",
   "language": "python",
   "name": "conda_desc_py310_pcigale"
  },
  "language_info": {
   "codemirror_mode": {
    "name": "ipython",
    "version": 3
   },
   "file_extension": ".py",
   "mimetype": "text/x-python",
   "name": "python",
   "nbconvert_exporter": "python",
   "pygments_lexer": "ipython3",
   "version": "3.10.14"
  }
 },
 "nbformat": 4,
 "nbformat_minor": 5
}

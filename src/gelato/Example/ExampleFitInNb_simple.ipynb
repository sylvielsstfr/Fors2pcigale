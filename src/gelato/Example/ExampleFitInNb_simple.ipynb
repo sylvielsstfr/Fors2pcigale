{
 "cells": [
  {
   "cell_type": "markdown",
   "id": "115b33fe",
   "metadata": {},
   "source": [
    "Fit One Spectrum and tune redshift\n",
    "----------------------------------\n",
    "\n",
    "First let's import the packages we will need."
   ]
  },
  {
   "cell_type": "markdown",
   "id": "c1746e41-2c71-40d7-9b0d-ae82e5009d9d",
   "metadata": {},
   "source": [
    "\n",
    "Analyse outputs from GELATO fit results on a signe spectrum\n",
    "\n",
    "- author : Sylvie Dagoret-Campagne\n",
    "- creation date : 2024-03-25\n",
    "- update : 2024-05-23\n",
    "\n",
    "\n",
    "- Kernel at CCIN2P3 : ``conda_desc_py310_pcigale``\n",
    "- Kernel on my laptop : ``pcigale``"
   ]
  },
  {
   "cell_type": "markdown",
   "id": "b3091bf0-a25e-4d88-b474-a21218c0578a",
   "metadata": {},
   "source": [
    "# Create dir\n",
    "  ``ResultsFitInNb/``"
   ]
  },
  {
   "cell_type": "code",
   "execution_count": null,
   "id": "54f68d58",
   "metadata": {},
   "outputs": [],
   "source": [
    "# Import packages\n",
    "import gelato\n",
    "import numpy as np\n",
    "%matplotlib inline\n",
    "import matplotlib as mpl\n",
    "mpl.rcParams['font.size'] = 25\n",
    "from matplotlib import pyplot # For plotting\n",
    "import matplotlib.pyplot as plt\n",
    "from mpl_toolkits.axes_grid1.inset_locator import inset_axes\n",
    "# For loading in data\n",
    "from astropy.io import fits\n",
    "from astropy.table import Table \n",
    "import os,re\n",
    "import pandas as pd"
   ]
  },
  {
   "cell_type": "code",
   "execution_count": null,
   "id": "a1165b3e-5aae-418d-8df8-960882741d79",
   "metadata": {},
   "outputs": [],
   "source": [
    "from astropy.modeling import models, fitting\n",
    "from astropy import modeling\n",
    "# define a model for a line\n",
    "g_init = models.Gaussian1D(amplitude=1, mean=0, stddev=1)\n",
    "# initialize a linear fitter\n",
    "fit_g = fitting.LevMarLSQFitter()"
   ]
  },
  {
   "cell_type": "code",
   "execution_count": null,
   "id": "a87cf48a-67b5-46cd-a596-3fdc29c671d9",
   "metadata": {},
   "outputs": [],
   "source": [
    "from fors2pcigale.fors2starlightio import Fors2DataAcess"
   ]
  },
  {
   "cell_type": "code",
   "execution_count": null,
   "id": "c140c518-92c9-4b81-8a42-276a519d7b0a",
   "metadata": {},
   "outputs": [],
   "source": [
    "#from gelato.Plotting import  Plot, PlotFig,subplotplot\n",
    "#from gelato.Plotting import subplotplot\n",
    "from gelato.Plotting import logbarrier\n",
    "from scipy.optimize import minimize\n",
    "\n",
    "#import gelato.ConstructParams as CP\n",
    "\n",
    "import gelato.Utility as U\n",
    "import gelato.Plotting as P\n",
    "import gelato.ConstructParams as CP\n",
    "\n",
    "# GELATO\n",
    "import gelato.Utility as U\n",
    "import gelato.CustomModels as CM\n",
    "import gelato.SpectrumClass as SC\n",
    "\n",
    "from gelato.Constants import C"
   ]
  },
  {
   "cell_type": "code",
   "execution_count": null,
   "id": "87fba0dc-94e2-4672-9fba-bba480685fc6",
   "metadata": {},
   "outputs": [],
   "source": [
    "from libExampleFitInNb import *"
   ]
  },
  {
   "cell_type": "markdown",
   "id": "261b578a-1ba7-4962-9426-7934cd541f34",
   "metadata": {},
   "source": [
    "## Fors2 Interface"
   ]
  },
  {
   "cell_type": "code",
   "execution_count": null,
   "id": "e04be925-79a1-4eb4-a562-aec6f5f164c4",
   "metadata": {},
   "outputs": [],
   "source": [
    "fors2 = Fors2DataAcess()"
   ]
  },
  {
   "cell_type": "markdown",
   "id": "c03eede0-010f-46b5-ad74-b422329f9497",
   "metadata": {},
   "source": [
    "## Gelato Parameters"
   ]
  },
  {
   "cell_type": "code",
   "execution_count": null,
   "id": "772a8e32-87ed-4e8f-9aea-5b9122fe908b",
   "metadata": {},
   "outputs": [],
   "source": [
    "# Path to the parameters file\n",
    "path_params = './ExampleParametersFitInNb.json'\n",
    "\n",
    "# Create Parameters dictionary\n",
    "params_gel = gelato.ConstructParams.construct(path_params)\n",
    "\n",
    "# Set to not multiprocessing\n",
    "params_gel['NProcess'] = 1"
   ]
  },
  {
   "cell_type": "code",
   "execution_count": null,
   "id": "403083b0-0cab-4eba-b3cf-c5b02c41b6dc",
   "metadata": {},
   "outputs": [],
   "source": [
    "params_gel['EmissionGroups']"
   ]
  },
  {
   "cell_type": "code",
   "execution_count": null,
   "id": "29f0c52e-3a6e-46bc-ab64-b024fc03ba77",
   "metadata": {},
   "outputs": [],
   "source": [
    "for group in params_gel['EmissionGroups']:\n",
    "    info_group = \"Group : \"+ group[\"Name\"]\n",
    "    print(info_group)\n",
    "    all_species = group['Species']\n",
    "    for the_species in all_species:\n",
    "        #info_species = \"\\t  Species : \" + the_species['Name'] + \" FlagGroup :: \" +  the_species['FlagGroups'][0] + \"Nlines = \" + str(len( the_species['Lines'] )) \n",
    "        info_species = \"\\t  Species : \" + the_species['Name']  + \" , Nlines = \" + str(len( the_species['Lines'] )) \n",
    "        print(info_species)"
   ]
  },
  {
   "cell_type": "markdown",
   "id": "9f042c9a-f2b3-4f65-aac4-d00aab28d48e",
   "metadata": {},
   "source": [
    "## Table with Spectra name and Redshifts"
   ]
  },
  {
   "cell_type": "code",
   "execution_count": null,
   "id": "70edd15f-a407-44df-a094-32dca907d11f",
   "metadata": {},
   "outputs": [],
   "source": [
    "df = pd.read_csv(\"object_filelist_v0.csv\",index_col=0)"
   ]
  },
  {
   "cell_type": "markdown",
   "id": "3885d4f1-e31c-467b-936a-94ea9a2d85e0",
   "metadata": {},
   "source": [
    "## Input files before the fit, sorting and index"
   ]
  },
  {
   "cell_type": "code",
   "execution_count": null,
   "id": "941987f3-72ba-4dd6-a79f-45407449f419",
   "metadata": {},
   "outputs": [],
   "source": [
    "path = \"./spec_forgelato/v0\""
   ]
  },
  {
   "cell_type": "code",
   "execution_count": null,
   "id": "02162198-b78d-46ef-af60-82c33993a392",
   "metadata": {},
   "outputs": [],
   "source": [
    "list_all_files = os.listdir(path)"
   ]
  },
  {
   "cell_type": "code",
   "execution_count": null,
   "id": "a390bb30-cb57-4b77-beca-d28f480a428c",
   "metadata": {},
   "outputs": [],
   "source": [
    "idx_selected_files = []\n",
    "list_selected_files = []\n",
    "for file in list_all_files:\n",
    "    res = re.findall(\"^specgelato_SPEC.*[.]fits$\",file)\n",
    "    if len(res):\n",
    "        list_selected_files.append(file)\n",
    "        num = int(re.findall(\"specgelato_SPEC(.*)[.]fits$\",file)[0])   \n",
    "        idx_selected_files.append(num)"
   ]
  },
  {
   "cell_type": "code",
   "execution_count": null,
   "id": "d2e208f6-e60c-4030-b521-69a7c7d543c3",
   "metadata": {},
   "outputs": [],
   "source": [
    "idx_selected_files = np.array(idx_selected_files)\n",
    "list_selected_files = np.array(list_selected_files)\n",
    "idx_sorted_files = np.argsort(idx_selected_files)\n",
    "list_sorted_files = list_selected_files[idx_sorted_files]"
   ]
  },
  {
   "cell_type": "code",
   "execution_count": null,
   "id": "50d189c7-c863-4586-996e-a91b993bd60c",
   "metadata": {},
   "outputs": [],
   "source": [
    "NSPEC = len(list_sorted_files)"
   ]
  },
  {
   "cell_type": "markdown",
   "id": "5a151ce2-53d0-4197-b5d8-04db030e1b60",
   "metadata": {},
   "source": [
    "## Choose One file"
   ]
  },
  {
   "cell_type": "code",
   "execution_count": null,
   "id": "7a6770a0-3bd6-4402-99ba-b13dc07444d4",
   "metadata": {},
   "outputs": [],
   "source": [
    "index = 34\n",
    "shortfilename = list_sorted_files[index]\n",
    "fullfilename = os.path.join(path,shortfilename) \n",
    "path_spec = fullfilename\n",
    "tag_spec = re.findall(\".*_(SPEC.*).fits$\", shortfilename)"
   ]
  },
  {
   "cell_type": "code",
   "execution_count": null,
   "id": "f38d74b5-3d2d-40ee-87c3-e20ea8975dce",
   "metadata": {},
   "outputs": [],
   "source": [
    "shortfilename.split('.')[0]"
   ]
  },
  {
   "cell_type": "code",
   "execution_count": null,
   "id": "0b0ee46e-6089-4a39-aa8a-617ec1864701",
   "metadata": {},
   "outputs": [],
   "source": [
    "tag_spec"
   ]
  },
  {
   "cell_type": "markdown",
   "id": "0c948dfe-bda0-4fbe-88fe-4e12cbccb66f",
   "metadata": {},
   "source": [
    "### Define output filenames"
   ]
  },
  {
   "cell_type": "markdown",
   "id": "b3f20159-5ccb-40c7-99ad-a5dbede3360f",
   "metadata": {},
   "source": [
    "#### Fit results"
   ]
  },
  {
   "cell_type": "code",
   "execution_count": null,
   "id": "9788734b-d868-497d-ae1c-8ce6c08c1337",
   "metadata": {},
   "outputs": [],
   "source": [
    "output_filename = shortfilename.split('.')[0] + \"-results.fits\""
   ]
  },
  {
   "cell_type": "code",
   "execution_count": null,
   "id": "a499cdae-a410-416f-bf82-1da46e94271a",
   "metadata": {},
   "outputs": [],
   "source": [
    "output_filename"
   ]
  },
  {
   "cell_type": "markdown",
   "id": "02880a82-4ead-43fc-9bd8-0fda7192728c",
   "metadata": {},
   "source": [
    "#### pulls and emission-line results"
   ]
  },
  {
   "cell_type": "code",
   "execution_count": null,
   "id": "a74b1249-2a43-48e6-a2ef-2b1c1db4f8b7",
   "metadata": {},
   "outputs": [],
   "source": [
    "output_filename_pulls = shortfilename.split('.')[0] + \"-pulls-results.csv\"\n",
    "output_filename_emissionlines = shortfilename.split('.')[0] + \"-emissionlines-results.csv\""
   ]
  },
  {
   "cell_type": "markdown",
   "id": "0e14b26c-4426-4e53-a2c8-282638bb9457",
   "metadata": {},
   "source": [
    "#### Find the redshift"
   ]
  },
  {
   "cell_type": "code",
   "execution_count": null,
   "id": "dfdcb213-41c6-4a63-81f6-29b1d535cec1",
   "metadata": {},
   "outputs": [],
   "source": [
    "if len(tag_spec)>0:\n",
    "    tag_spec = tag_spec[0]\n",
    "    all_inputspecfilenames = df.Path.values\n",
    "    for idx_tag,filen in enumerate(all_inputspecfilenames):\n",
    "        if tag_spec in filen:\n",
    "                break\n",
    "\n",
    "    df_row = df.iloc[idx_tag]\n",
    "    redshift = df_row[\"z\"]"
   ]
  },
  {
   "cell_type": "code",
   "execution_count": null,
   "id": "6f337480-ec20-43eb-9fae-bfdf125ffead",
   "metadata": {},
   "outputs": [],
   "source": [
    "spec_name_sel = tag_spec"
   ]
  },
  {
   "cell_type": "code",
   "execution_count": null,
   "id": "12d4ac7e-d523-4060-b07a-3ccbf6d25c81",
   "metadata": {},
   "outputs": [],
   "source": [
    "spec_name_sel"
   ]
  },
  {
   "cell_type": "code",
   "execution_count": null,
   "id": "744d0ebe-d45b-40cc-bfb3-1b961ab2f8f5",
   "metadata": {},
   "outputs": [],
   "source": [
    "# acess to the image array\n",
    "img = fors2.get_specimg(spec_name_sel)\n",
    "\n",
    "# get the image filename and path\n",
    "spec_sec_fileimg = fors2.get_specimgfile(spec_name_sel)"
   ]
  },
  {
   "cell_type": "code",
   "execution_count": null,
   "id": "4d985222-205f-4d15-a569-2fdf785bc7f8",
   "metadata": {},
   "outputs": [],
   "source": [
    "fig = plt.figure(constrained_layout=True,figsize=(12,6))\n",
    "plt.imshow(img)\n",
    "ax = plt.gca()\n",
    "# Hide X and Y axes label marks\n",
    "ax.xaxis.set_tick_params(labelbottom=False)\n",
    "ax.yaxis.set_tick_params(labelleft=False)\n",
    "# Hide X and Y axes tick marks\n",
    "ax.set_xticks([])\n",
    "ax.set_yticks([])\n",
    "plt.show()"
   ]
  },
  {
   "cell_type": "code",
   "execution_count": null,
   "id": "263056a9-b27c-4a33-9077-f6829ab86ca7",
   "metadata": {},
   "outputs": [],
   "source": [
    "print(df_row,redshift)"
   ]
  },
  {
   "cell_type": "code",
   "execution_count": null,
   "id": "c8826071-bd04-464b-9729-b415d7bea551",
   "metadata": {},
   "outputs": [],
   "source": [
    "title = f\"{index}) {output_filename}, z={redshift:.3f}\" "
   ]
  },
  {
   "cell_type": "markdown",
   "id": "114f2b48-270d-48e9-8503-7a6b9f331c57",
   "metadata": {},
   "source": [
    "#### Get the spectrum"
   ]
  },
  {
   "cell_type": "code",
   "execution_count": null,
   "id": "91d72d8a",
   "metadata": {},
   "outputs": [],
   "source": [
    "spectrum = Table.read(path_spec)\n",
    "\n",
    "# Start with inverse variance\n",
    "ivar = spectrum['ivar']\n",
    "good = ivar > 0 # GELATO only looks at points with nonzero weights\n",
    "\n",
    "# Finally, let's load in the data\n",
    "wavl = 10**spectrum['loglam'][good]\n",
    "flux = spectrum['flux'][good]\n",
    "ivar = ivar[good]\n",
    "args = (wavl,flux,ivar) # These will be useful later"
   ]
  },
  {
   "cell_type": "code",
   "execution_count": null,
   "id": "cb517d26-27a6-4d06-8f11-b22ff8ae805b",
   "metadata": {},
   "outputs": [],
   "source": [
    "spectrum[:5]"
   ]
  },
  {
   "cell_type": "markdown",
   "id": "ef6ac810",
   "metadata": {},
   "source": [
    "Let's go ahead and plot our spectrum to get an idea of what we're dealing with."
   ]
  },
  {
   "cell_type": "code",
   "execution_count": null,
   "id": "ff0fd13b",
   "metadata": {},
   "outputs": [],
   "source": [
    "# Create figure\n",
    "fig, ax = pyplot.subplots(figsize=(15,7))\n",
    "\n",
    "# Plot Spectrum\n",
    "sig = 3/np.sqrt(ivar) # 3 Sigma boundary\n",
    "ax.fill_between(wavl,flux-sig,flux+sig,color='gray')\n",
    "ax.step(wavl,flux,where='mid',c='k',lw=0.5)\n",
    "\n",
    "# Axis limits\n",
    "ax.set(xlim=[wavl.min(),wavl.max()],ylim=[0,flux.max()])\n",
    "\n",
    "# Axis labels\n",
    "ax.set(xlabel=r'Obs. Wavelength [\\AA]',ylabel=r'$F_\\lambda$')\n",
    "ax.set_title(title)\n",
    "# Show figure\n",
    "pyplot.show()"
   ]
  },
  {
   "cell_type": "markdown",
   "id": "4aaffa71",
   "metadata": {},
   "source": [
    "The main gelato function takes three inputs.\n",
    "* The path to the parameters file or the parameters dictionary.\n",
    "* The path to the spectrum.\n",
    "* The redshift of the spectrum.\n",
    "\n",
    "We already have the last two, and we need to take a little precaution with the first.\n",
    "The main gelato function will only return the final model if the code is being run without multiprocessing (as the return statement can break Python multiprocessing). So we can either change the Parameters JSON file, or edit the parameters dictionary. "
   ]
  },
  {
   "cell_type": "markdown",
   "id": "baba7e48-d98a-42db-940d-9f7ae2d2d14c",
   "metadata": {},
   "source": [
    "## Output for results"
   ]
  },
  {
   "cell_type": "code",
   "execution_count": null,
   "id": "aba67e5b-e7a1-4822-b863-a2e2ee98ba67",
   "metadata": {},
   "outputs": [],
   "source": [
    "output_path = params_gel['OutFolder']"
   ]
  },
  {
   "cell_type": "code",
   "execution_count": null,
   "id": "17ad2f3f-3f95-415f-9b33-ee8212f9bb66",
   "metadata": {},
   "outputs": [],
   "source": [
    "print(f\"output_path defined in json file : {output_path}\")"
   ]
  },
  {
   "cell_type": "code",
   "execution_count": null,
   "id": "84207d32-0a2f-4fc5-8fd3-f60a0e792c2e",
   "metadata": {},
   "outputs": [],
   "source": [
    "output_path_fullfilename = os.path.join(output_path,output_filename)\n",
    "output_path_fullfilename_pulls = os.path.join(output_path,output_filename_pulls)\n",
    "output_path_fullfilename_emissionlines = os.path.join(output_path,output_filename_emissionlines)"
   ]
  },
  {
   "cell_type": "markdown",
   "id": "a290115c-c3dd-4e5b-82d8-9a7b3aa8b1ed",
   "metadata": {},
   "source": [
    "## Run Gelato Fit"
   ]
  },
  {
   "cell_type": "markdown",
   "id": "a55b5373",
   "metadata": {},
   "source": [
    "We are now ready to run GELATO. Note, before you do this, ensure the results directory exists, either by running the Example from the README file or creating it. It will return the final callable model, however it won't be used in this notebook. "
   ]
  },
  {
   "cell_type": "code",
   "execution_count": null,
   "id": "59bbef2b",
   "metadata": {},
   "outputs": [],
   "source": [
    "model = gelato.gelato(params_gel,path_spec,redshift)"
   ]
  },
  {
   "cell_type": "markdown",
   "id": "7306686e-eec2-4df2-b5ce-14d195279d26",
   "metadata": {},
   "source": [
    "## Results of Gelato Fit"
   ]
  },
  {
   "cell_type": "markdown",
   "id": "d9ee2209",
   "metadata": {},
   "source": [
    "The results have been saved to the \"Results/\" Directory. Let's go ahead and load them in. We will print all extensions on the folder."
   ]
  },
  {
   "cell_type": "markdown",
   "id": "fdee66eb-4d77-42c1-bb6e-8eb10b1e0db5",
   "metadata": {},
   "source": [
    "### 1) results"
   ]
  },
  {
   "cell_type": "code",
   "execution_count": null,
   "id": "0815df14",
   "metadata": {},
   "outputs": [],
   "source": [
    "# Load in results\n",
    "results = fits.open(output_path_fullfilename)\n",
    "\n",
    "# Print FITS extensions\n",
    "results.info()"
   ]
  },
  {
   "cell_type": "markdown",
   "id": "ef7bdfdb",
   "metadata": {},
   "source": [
    "We have two FITS extensions, SUMMARY and PARAMS. They are described in more detail in the README File but let's play around with them directly. Let's go ahead and take a look inside the SUMMARY extension. As we can see, it is a binary FITS Table."
   ]
  },
  {
   "cell_type": "markdown",
   "id": "f0664785-e868-42ec-9b44-75c41d3cd713",
   "metadata": {},
   "source": [
    "### Summary of fitted model"
   ]
  },
  {
   "cell_type": "code",
   "execution_count": null,
   "id": "aa5d5647",
   "metadata": {},
   "outputs": [],
   "source": [
    "summary = Table(results['SUMMARY'].data)\n",
    "summary"
   ]
  },
  {
   "cell_type": "markdown",
   "id": "ff74199d",
   "metadata": {},
   "source": [
    "In this table, we have the original spectrum along with the various model components, we can go ahead and plot them."
   ]
  },
  {
   "cell_type": "code",
   "execution_count": null,
   "id": "fe9ba407-cdf0-4b9e-b5d5-7e3a841d8553",
   "metadata": {},
   "outputs": [],
   "source": [
    "df = summary.to_pandas()"
   ]
  },
  {
   "cell_type": "code",
   "execution_count": null,
   "id": "01b0d53c-e9db-40bc-8710-7353cf50dc73",
   "metadata": {},
   "outputs": [],
   "source": [
    "# Create figure\n",
    "fig, ax = pyplot.subplots(figsize=(15,3))\n",
    "\n",
    "# Plot Spectrum\n",
    "ax.step(10**summary['loglam'],summary['LINE'],where='mid',c='y',label='Emission Lines')\n",
    "ax.legend()\n",
    "\n",
    "# Axis limits\n",
    "ax.set(xlim=[wavl.min(),wavl.max()],ylim=[0,flux.max()])\n",
    "# Axis labels\n",
    "ax.set(xlabel=r'Obs. Wavelength [\\AA]',ylabel=r'$F_\\lambda$')\n",
    "ax.set_title(title)\n",
    "ax.grid()\n",
    "# Show figure\n",
    "pyplot.show()"
   ]
  },
  {
   "cell_type": "code",
   "execution_count": null,
   "id": "dcd1823b",
   "metadata": {},
   "outputs": [],
   "source": [
    "# Create figure\n",
    "fig, ax = pyplot.subplots(figsize=(15,7))\n",
    "\n",
    "# Plot Spectrum\n",
    "ax.fill_between(wavl,flux-sig,flux+sig,color='gray')\n",
    "ax.step(wavl,flux,where='mid',c='k',lw=0.5,label='Data')\n",
    "ax.step(10**summary['loglam'],summary['MODEL'],where='mid',c='r',label='Total Model')\n",
    "ax.step(10**summary['loglam'],summary['SSP'],where='mid',c='g',label='SSP Cont.')\n",
    "#ax.step(10**summary['loglam'],summary['PL'],where='mid',c='b',label='Power-Law Cont.')\n",
    "ax.step(10**summary['loglam'],summary['LINE'],where='mid',c='y',label='Emission Lines')\n",
    "ax.legend()\n",
    "\n",
    "# Axis limits\n",
    "ax.set(xlim=[wavl.min(),wavl.max()],ylim=[0,flux.max()])\n",
    "\n",
    "# Axis labels\n",
    "ax.set(xlabel=r'Obs. Wavelength [\\AA]',ylabel=r'$F_\\lambda$')\n",
    "ax.set_title(title)\n",
    "# Show figure\n",
    "pyplot.show()"
   ]
  },
  {
   "cell_type": "markdown",
   "id": "d7a3e294",
   "metadata": {},
   "source": [
    "Looks great! You can see an example of the GELATO generated plots in the results folder, but this will let you incorporate GELATO fits easily into your own work. Let's go ahead and take a look at the PARAMS extension. This is a much larger table! It's made up of the parameters from each bootstrap iteration. "
   ]
  },
  {
   "cell_type": "markdown",
   "id": "15399dab-8e57-409d-9554-ebd74ff73a7a",
   "metadata": {},
   "source": [
    "### A very simple view of fit results "
   ]
  },
  {
   "cell_type": "code",
   "execution_count": null,
   "id": "f1b42701-9d3d-40b3-8563-d223b1af48fb",
   "metadata": {},
   "outputs": [],
   "source": [
    "MySimplePlotSpectrumWithFittedModel(output_path_fullfilename,redshift,title)"
   ]
  },
  {
   "cell_type": "markdown",
   "id": "2fb4f37c-7599-414e-b294-d41b6dd8169b",
   "metadata": {},
   "source": [
    "### 2) Access to the fitted spectrum object directly"
   ]
  },
  {
   "cell_type": "code",
   "execution_count": null,
   "id": "ef81a6c0-cb8f-4e20-89fb-dc4eada4faef",
   "metadata": {},
   "outputs": [],
   "source": [
    " spectrum = SC.Spectrum(output_path_fullfilename,redshift,params_gel)"
   ]
  },
  {
   "cell_type": "code",
   "execution_count": null,
   "id": "37529e25-d684-499d-8ae1-e086a4b1c411",
   "metadata": {},
   "outputs": [],
   "source": [
    "spectrum.p"
   ]
  },
  {
   "cell_type": "code",
   "execution_count": null,
   "id": "29fb9563-13a7-479c-8699-fbf45901a61a",
   "metadata": {},
   "outputs": [],
   "source": [
    "spectrum.p[\"EmissionGroups\"]"
   ]
  },
  {
   "cell_type": "code",
   "execution_count": null,
   "id": "c1c435b8-5390-4e3d-b928-ae4c4d330743",
   "metadata": {},
   "outputs": [],
   "source": [
    "len(spectrum.p[\"EmissionGroups\"])"
   ]
  },
  {
   "cell_type": "markdown",
   "id": "fa5bb42e-6855-4ce0-b4a5-32f89f52aadd",
   "metadata": {},
   "source": [
    "### Complete plot result"
   ]
  },
  {
   "cell_type": "code",
   "execution_count": null,
   "id": "02e5214f-ed92-415d-bcd6-c830cfc67f33",
   "metadata": {},
   "outputs": [],
   "source": [
    "the_pulls = myplotfromresults(params_gel,output_path_fullfilename, redshift)"
   ]
  },
  {
   "cell_type": "markdown",
   "id": "d5d0c49d-679c-472b-bc8e-5f6f85831e0c",
   "metadata": {},
   "source": [
    "### Pulls"
   ]
  },
  {
   "cell_type": "code",
   "execution_count": null,
   "id": "d9304f0f-d46b-4a6f-8b47-594710d7f7dc",
   "metadata": {},
   "outputs": [],
   "source": [
    "pulls_table = build_pulls_table(spectrum,the_pulls)\n",
    "pulls_table "
   ]
  },
  {
   "cell_type": "code",
   "execution_count": null,
   "id": "678f5c77-ca05-4bef-b2b2-578de41cce6f",
   "metadata": {},
   "outputs": [],
   "source": [
    "pulls_table.to_csv(output_path_fullfilename_pulls) "
   ]
  },
  {
   "cell_type": "markdown",
   "id": "1750926b-3517-425a-a2c8-fc5641447eb8",
   "metadata": {},
   "source": [
    "## Fitted parameters"
   ]
  },
  {
   "cell_type": "code",
   "execution_count": null,
   "id": "80356c36",
   "metadata": {},
   "outputs": [],
   "source": [
    "# Open Parameters extension\n",
    "params_fit = Table(results['PARAMS'].data)\n",
    "#print(params_fit)"
   ]
  },
  {
   "cell_type": "markdown",
   "id": "67fa02f1-b29e-4f55-8702-631cb6a3a08b",
   "metadata": {},
   "source": [
    "### Redshift"
   ]
  },
  {
   "cell_type": "code",
   "execution_count": null,
   "id": "a75a5876-700c-43bb-94ff-a28d93d06dd5",
   "metadata": {},
   "outputs": [],
   "source": [
    "params_fit[\"SSP_Redshift\"].mean()/C"
   ]
  },
  {
   "cell_type": "code",
   "execution_count": null,
   "id": "79bccc08-bc2f-4e3f-8b9f-ccaf420d02d3",
   "metadata": {},
   "outputs": [],
   "source": [
    "params_fit[\"SSP_Redshift\"].std()/C"
   ]
  },
  {
   "cell_type": "markdown",
   "id": "6e256495-5684-4330-b1f6-52e898a515b6",
   "metadata": {},
   "source": [
    "### Reduced chi2"
   ]
  },
  {
   "cell_type": "code",
   "execution_count": null,
   "id": "d1ce6325-90af-41b6-9c51-8765c850a10a",
   "metadata": {},
   "outputs": [],
   "source": [
    "params_fit[\"rChi2\"].mean()"
   ]
  },
  {
   "cell_type": "markdown",
   "id": "10fd0661-98a1-44c4-91f8-162ed889e3f3",
   "metadata": {},
   "source": [
    "### Emission-lines"
   ]
  },
  {
   "cell_type": "code",
   "execution_count": null,
   "id": "2740c093-f23a-48e2-8847-c686519141e3",
   "metadata": {},
   "outputs": [],
   "source": [
    "emissionlines_table = DecodeParamsFitEmissionLines(params_fit)\n",
    "emissionlines_table"
   ]
  },
  {
   "cell_type": "code",
   "execution_count": null,
   "id": "a3301872-d41e-402f-96d1-67abd83f74ea",
   "metadata": {},
   "outputs": [],
   "source": [
    "emissionlines_table.to_csv(output_path_fullfilename_emissionlines)"
   ]
  }
 ],
 "metadata": {
  "kernelspec": {
   "display_name": "pcigale",
   "language": "python",
   "name": "pcigale"
  },
  "language_info": {
   "codemirror_mode": {
    "name": "ipython",
    "version": 3
   },
   "file_extension": ".py",
   "mimetype": "text/x-python",
   "name": "python",
   "nbconvert_exporter": "python",
   "pygments_lexer": "ipython3",
   "version": "3.10.13"
  }
 },
 "nbformat": 4,
 "nbformat_minor": 5
}
